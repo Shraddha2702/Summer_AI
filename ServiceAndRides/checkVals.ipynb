{
 "cells": [
  {
   "cell_type": "code",
   "execution_count": 1,
   "metadata": {},
   "outputs": [],
   "source": [
    "import pandas as pd\n",
    "from io import BytesIO\n",
    "import datetime\n",
    "from datetime import timedelta\n",
    "\n",
    "import numpy as np\n",
    "import pandas as pd\n",
    "import tensorflow as tf\n",
    "\n",
    "import datalab.storage as storage"
   ]
  },
  {
   "cell_type": "code",
   "execution_count": 8,
   "metadata": {},
   "outputs": [],
   "source": [
    "def func(filename):\n",
    "    df = pd.read_csv(filename)\n",
    "    for each in df['TimeTaken']:\n",
    "        if(type(each) != float):\n",
    "            print(each)"
   ]
  },
  {
   "cell_type": "code",
   "execution_count": 2,
   "metadata": {},
   "outputs": [],
   "source": [
    "df = pd.read_csv('train1.csv')"
   ]
  },
  {
   "cell_type": "code",
   "execution_count": 5,
   "metadata": {},
   "outputs": [],
   "source": [
    "for each in df['TimeTaken']:\n",
    "    if(type(each) != float):\n",
    "        print(each)"
   ]
  },
  {
   "cell_type": "code",
   "execution_count": 42,
   "metadata": {},
   "outputs": [
    {
     "name": "stdout",
     "output_type": "stream",
     "text": [
      "Copying gs://nyc_servicerequest/processedInput/eval2.csv...\n",
      "| [1 files][183.0 MiB/183.0 MiB]                                                \n",
      "Operation completed over 1 objects/183.0 MiB.                                    \n"
     ]
    }
   ],
   "source": [
    "!gsutil cp gs://nyc_servicerequest/processedInput/eval2.csv puthere/eval2.csv"
   ]
  },
  {
   "cell_type": "code",
   "execution_count": 24,
   "metadata": {},
   "outputs": [],
   "source": [
    "func('puthere/train7.csv')"
   ]
  },
  {
   "cell_type": "code",
   "execution_count": 29,
   "metadata": {},
   "outputs": [],
   "source": [
    "def func(filename, savename):\n",
    "    df = pd.read_csv(filename)\n",
    "    df.to_csv(savename, index=False, header=False)"
   ]
  },
  {
   "cell_type": "code",
   "execution_count": 44,
   "metadata": {},
   "outputs": [],
   "source": [
    "func('puthere/eval2.csv', 'upload2/evalx2.csv')"
   ]
  },
  {
   "cell_type": "code",
   "execution_count": 45,
   "metadata": {},
   "outputs": [
    {
     "name": "stdout",
     "output_type": "stream",
     "text": [
      "Copying file://upload2/trainx2.csv [Content-Type=text/csv]...\n",
      "==> NOTE: You are uploading one or more large file(s), which would run\n",
      "significantly faster if you enable parallel composite uploads. This\n",
      "feature can be enabled by editing the\n",
      "\"parallel_composite_upload_threshold\" value in your .boto\n",
      "configuration file. However, note that if you do this large files will\n",
      "be uploaded as `composite objects\n",
      "<https://cloud.google.com/storage/docs/composite-objects>`_,which\n",
      "means that any user who downloads such objects will need to have a\n",
      "compiled crcmod installed (see \"gsutil help crcmod\"). This is because\n",
      "without a compiled crcmod, computing checksums on composite objects is\n",
      "so slow that gsutil disables downloads of composite objects.\n",
      "\n",
      "Copying file://upload2/trainx1.csv [Content-Type=text/csv]...\n",
      "Copying file://upload2/trainx3.csv [Content-Type=text/csv]...\n",
      "Copying file://upload2/trainx6.csv [Content-Type=text/csv]...\n",
      "-\n",
      "==> NOTE: You are performing a sequence of gsutil operations that may\n",
      "run significantly faster if you instead use gsutil -m cp ... Please\n",
      "see the -m section under \"gsutil help options\" for further information\n",
      "about when gsutil -m can be advantageous.\n",
      "\n",
      "Copying file://upload2/evalx1.csv [Content-Type=text/csv]...\n",
      "Copying file://upload2/evalx2.csv [Content-Type=text/csv]...\n",
      "Copying file://upload2/trainx5.csv [Content-Type=text/csv]...\n",
      "Copying file://upload2/trainx7.csv [Content-Type=text/csv]...\n",
      "Copying file://upload2/trainx0.csv [Content-Type=text/csv]...\n",
      "Copying file://upload2/trainx4.csv [Content-Type=text/csv]...\n",
      "\\\n",
      "Operation completed over 10 objects/1.8 GiB.                                     \n"
     ]
    }
   ],
   "source": [
    "!gsutil cp 'upload2/*' gs://nyc_servicerequest/processedInput/"
   ]
  },
  {
   "cell_type": "code",
   "execution_count": null,
   "metadata": {},
   "outputs": [],
   "source": []
  }
 ],
 "metadata": {
  "kernelspec": {
   "display_name": "Python 3",
   "language": "python",
   "name": "python3"
  },
  "language_info": {
   "codemirror_mode": {
    "name": "ipython",
    "version": 3
   },
   "file_extension": ".py",
   "mimetype": "text/x-python",
   "name": "python",
   "nbconvert_exporter": "python",
   "pygments_lexer": "ipython3",
   "version": "3.5.3"
  }
 },
 "nbformat": 4,
 "nbformat_minor": 2
}
