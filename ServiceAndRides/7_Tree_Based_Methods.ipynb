{
 "cells": [
  {
   "cell_type": "markdown",
   "metadata": {},
   "source": [
    "## Tree-Based Model for the Service Request dataset   \n",
    "**Evaluated the performance of tree-based models on the dataset locally.**"
   ]
  },
  {
   "cell_type": "code",
   "execution_count": 1,
   "metadata": {},
   "outputs": [],
   "source": [
    "import pandas as pd\n",
    "import numpy as np\n",
    "import json\n",
    "import matplotlib.pyplot as plt\n",
    "import seaborn as sns\n",
    "import warnings\n",
    "warnings.filterwarnings('ignore')"
   ]
  },
  {
   "cell_type": "code",
   "execution_count": 2,
   "metadata": {},
   "outputs": [],
   "source": [
    "from sklearn.ensemble import RandomForestRegressor\n",
    "from sklearn.ensemble import AdaBoostRegressor\n",
    "from sklearn.ensemble import GradientBoostingRegressor\n",
    "import xgboost as xgb\n",
    "import lightgbm as lgb\n",
    "from catboost import CatBoostRegressor\n",
    "import sys\n"
   ]
  },
  {
   "cell_type": "markdown",
   "metadata": {},
   "source": [
    "#### Getting the CSV file from GCS."
   ]
  },
  {
   "cell_type": "code",
   "execution_count": 3,
   "metadata": {},
   "outputs": [
    {
     "name": "stdout",
     "output_type": "stream",
     "text": [
      "Copying gs://nyc_servicerequest/processedInput/trainx1.csv...\n",
      "| [1 files][182.9 MiB/182.9 MiB]                                                \n",
      "Operation completed over 1 objects/182.9 MiB.                                    \n"
     ]
    }
   ],
   "source": [
    "!gsutil cp gs://nyc_servicerequest/processedInput/trainx1.csv data/demo1.csv"
   ]
  },
  {
   "cell_type": "markdown",
   "metadata": {},
   "source": [
    "    "
   ]
  },
  {
   "cell_type": "markdown",
   "metadata": {},
   "source": [
    "#### Getting started   \n",
    "**Trying model on just a single file**"
   ]
  },
  {
   "cell_type": "code",
   "execution_count": 44,
   "metadata": {},
   "outputs": [],
   "source": [
    "df = pd.read_csv('data/demo1.csv', header=None)"
   ]
  },
  {
   "cell_type": "code",
   "execution_count": 45,
   "metadata": {},
   "outputs": [],
   "source": [
    "df.columns = ['index', 'day_period', 'day_of_week', \\\n",
    "             'zip_encode', 'location_encode', \\\n",
    "             'community_encode', 'agency_encode', \\\n",
    "             'complaint_encode', 'TimeTaken']\n"
   ]
  },
  {
   "cell_type": "code",
   "execution_count": 46,
   "metadata": {},
   "outputs": [],
   "source": [
    "df.drop('index', axis=1, inplace=True)"
   ]
  },
  {
   "cell_type": "code",
   "execution_count": 47,
   "metadata": {},
   "outputs": [
    {
     "data": {
      "text/html": [
       "<div>\n",
       "<style scoped>\n",
       "    .dataframe tbody tr th:only-of-type {\n",
       "        vertical-align: middle;\n",
       "    }\n",
       "\n",
       "    .dataframe tbody tr th {\n",
       "        vertical-align: top;\n",
       "    }\n",
       "\n",
       "    .dataframe thead th {\n",
       "        text-align: right;\n",
       "    }\n",
       "</style>\n",
       "<table border=\"1\" class=\"dataframe\">\n",
       "  <thead>\n",
       "    <tr style=\"text-align: right;\">\n",
       "      <th></th>\n",
       "      <th>day_period</th>\n",
       "      <th>day_of_week</th>\n",
       "      <th>zip_encode</th>\n",
       "      <th>location_encode</th>\n",
       "      <th>community_encode</th>\n",
       "      <th>agency_encode</th>\n",
       "      <th>complaint_encode</th>\n",
       "      <th>TimeTaken</th>\n",
       "    </tr>\n",
       "  </thead>\n",
       "  <tbody>\n",
       "    <tr>\n",
       "      <th>0</th>\n",
       "      <td>evening</td>\n",
       "      <td>Mon-Tue</td>\n",
       "      <td>zip_bin4</td>\n",
       "      <td>location_bin1</td>\n",
       "      <td>community_bin2</td>\n",
       "      <td>agency_bin6</td>\n",
       "      <td>complaint_bin3</td>\n",
       "      <td>74.900</td>\n",
       "    </tr>\n",
       "    <tr>\n",
       "      <th>1</th>\n",
       "      <td>afternoon</td>\n",
       "      <td>Fri-Sat-Sun</td>\n",
       "      <td>zip_bin4</td>\n",
       "      <td>location_bin1</td>\n",
       "      <td>community_bin2</td>\n",
       "      <td>agency_bin6</td>\n",
       "      <td>complaint_bin3</td>\n",
       "      <td>498.759</td>\n",
       "    </tr>\n",
       "    <tr>\n",
       "      <th>2</th>\n",
       "      <td>morning</td>\n",
       "      <td>Mon-Tue</td>\n",
       "      <td>zip_bin4</td>\n",
       "      <td>location_bin4</td>\n",
       "      <td>community_bin2</td>\n",
       "      <td>agency_bin5</td>\n",
       "      <td>complaint_bin3</td>\n",
       "      <td>830.793</td>\n",
       "    </tr>\n",
       "    <tr>\n",
       "      <th>3</th>\n",
       "      <td>night</td>\n",
       "      <td>Wed-Thu</td>\n",
       "      <td>zip_bin4</td>\n",
       "      <td>location_bin4</td>\n",
       "      <td>community_bin2</td>\n",
       "      <td>agency_bin5</td>\n",
       "      <td>complaint_bin3</td>\n",
       "      <td>26.873</td>\n",
       "    </tr>\n",
       "    <tr>\n",
       "      <th>4</th>\n",
       "      <td>morning</td>\n",
       "      <td>Mon-Tue</td>\n",
       "      <td>zip_bin4</td>\n",
       "      <td>location_bin4</td>\n",
       "      <td>community_bin2</td>\n",
       "      <td>agency_bin5</td>\n",
       "      <td>complaint_bin3</td>\n",
       "      <td>40.107</td>\n",
       "    </tr>\n",
       "  </tbody>\n",
       "</table>\n",
       "</div>"
      ],
      "text/plain": [
       "  day_period  day_of_week zip_encode location_encode community_encode  \\\n",
       "0    evening      Mon-Tue   zip_bin4   location_bin1   community_bin2   \n",
       "1  afternoon  Fri-Sat-Sun   zip_bin4   location_bin1   community_bin2   \n",
       "2    morning      Mon-Tue   zip_bin4   location_bin4   community_bin2   \n",
       "3      night      Wed-Thu   zip_bin4   location_bin4   community_bin2   \n",
       "4    morning      Mon-Tue   zip_bin4   location_bin4   community_bin2   \n",
       "\n",
       "  agency_encode complaint_encode  TimeTaken  \n",
       "0   agency_bin6   complaint_bin3     74.900  \n",
       "1   agency_bin6   complaint_bin3    498.759  \n",
       "2   agency_bin5   complaint_bin3    830.793  \n",
       "3   agency_bin5   complaint_bin3     26.873  \n",
       "4   agency_bin5   complaint_bin3     40.107  "
      ]
     },
     "execution_count": 47,
     "metadata": {},
     "output_type": "execute_result"
    }
   ],
   "source": [
    "df.head()"
   ]
  },
  {
   "cell_type": "code",
   "execution_count": 48,
   "metadata": {},
   "outputs": [],
   "source": [
    "one_hot_dp = pd.get_dummies(df['day_period'])\n",
    "df = df.drop('day_period', axis=1)\n",
    "df = df.join(one_hot_dp)"
   ]
  },
  {
   "cell_type": "code",
   "execution_count": 49,
   "metadata": {},
   "outputs": [],
   "source": [
    "one_hot_week = pd.get_dummies(df['day_of_week'])\n",
    "df = df.drop('day_of_week', axis=1)\n",
    "df = df.join(one_hot_week)"
   ]
  },
  {
   "cell_type": "code",
   "execution_count": 50,
   "metadata": {},
   "outputs": [],
   "source": [
    "from sklearn.preprocessing import LabelEncoder"
   ]
  },
  {
   "cell_type": "code",
   "execution_count": 51,
   "metadata": {},
   "outputs": [],
   "source": [
    "df_new = df[['zip_encode', 'location_encode', 'community_encode', 'agency_encode',\n",
    "       'complaint_encode']].apply(LabelEncoder().fit_transform)\n"
   ]
  },
  {
   "cell_type": "code",
   "execution_count": 52,
   "metadata": {},
   "outputs": [],
   "source": [
    "df_old = df[['afternoon', 'evening', 'morning',\n",
    "    'night', 'Fri-Sat-Sun', 'Mon-Tue', 'Wed-Thu','TimeTaken']]"
   ]
  },
  {
   "cell_type": "code",
   "execution_count": 53,
   "metadata": {},
   "outputs": [],
   "source": [
    "ddf = pd.concat([df_new, df_old], axis=1)"
   ]
  },
  {
   "cell_type": "code",
   "execution_count": 54,
   "metadata": {},
   "outputs": [
    {
     "data": {
      "text/plain": [
       "Index(['zip_encode', 'location_encode', 'community_encode', 'agency_encode',\n",
       "       'complaint_encode', 'afternoon', 'evening', 'morning', 'night',\n",
       "       'Fri-Sat-Sun', 'Mon-Tue', 'Wed-Thu', 'TimeTaken'],\n",
       "      dtype='object')"
      ]
     },
     "execution_count": 54,
     "metadata": {},
     "output_type": "execute_result"
    }
   ],
   "source": [
    "ddf.columns"
   ]
  },
  {
   "cell_type": "code",
   "execution_count": 55,
   "metadata": {},
   "outputs": [],
   "source": [
    "X_cols = ['zip_encode', 'location_encode', 'community_encode', 'agency_encode',\n",
    "       'complaint_encode', 'afternoon', 'evening', 'morning', 'night',\n",
    "       'Fri-Sat-Sun', 'Mon-Tue', 'Wed-Thu']\n",
    "y_col = 'TimeTaken'\n"
   ]
  },
  {
   "cell_type": "markdown",
   "metadata": {},
   "source": [
    "   "
   ]
  },
  {
   "cell_type": "markdown",
   "metadata": {},
   "source": [
    "   "
   ]
  },
  {
   "cell_type": "markdown",
   "metadata": {},
   "source": [
    "**Splitting the dataset into Train and Test**"
   ]
  },
  {
   "cell_type": "code",
   "execution_count": 56,
   "metadata": {},
   "outputs": [],
   "source": [
    "from sklearn.model_selection import train_test_split"
   ]
  },
  {
   "cell_type": "code",
   "execution_count": 57,
   "metadata": {},
   "outputs": [],
   "source": [
    "X = ddf[X_cols]\n",
    "y = ddf[y_col]"
   ]
  },
  {
   "cell_type": "code",
   "execution_count": 58,
   "metadata": {},
   "outputs": [],
   "source": [
    "X_train, X_test, y_train, y_test = train_test_split(X, y, test_size=0.2, random_state=5)"
   ]
  },
  {
   "cell_type": "code",
   "execution_count": 59,
   "metadata": {},
   "outputs": [],
   "source": [
    "from sklearn.tree import DecisionTreeRegressor"
   ]
  },
  {
   "cell_type": "code",
   "execution_count": 19,
   "metadata": {},
   "outputs": [],
   "source": [
    "decision_tree = DecisionTreeRegressor()"
   ]
  },
  {
   "cell_type": "code",
   "execution_count": 20,
   "metadata": {},
   "outputs": [
    {
     "data": {
      "text/plain": [
       "DecisionTreeRegressor(criterion='mse', max_depth=None, max_features=None,\n",
       "                      max_leaf_nodes=None, min_impurity_decrease=0.0,\n",
       "                      min_impurity_split=None, min_samples_leaf=1,\n",
       "                      min_samples_split=2, min_weight_fraction_leaf=0.0,\n",
       "                      presort=False, random_state=None, splitter='best')"
      ]
     },
     "execution_count": 20,
     "metadata": {},
     "output_type": "execute_result"
    }
   ],
   "source": [
    "decision_tree.fit(X_train, y_train)"
   ]
  },
  {
   "cell_type": "code",
   "execution_count": 18,
   "metadata": {},
   "outputs": [],
   "source": [
    "from sklearn.metrics import mean_squared_error, r2_score"
   ]
  },
  {
   "cell_type": "code",
   "execution_count": 22,
   "metadata": {},
   "outputs": [
    {
     "name": "stdout",
     "output_type": "stream",
     "text": [
      "coefficient of determination R^2 of the prediction.:  0.11144848719894218\n"
     ]
    }
   ],
   "source": [
    "model_score = decision_tree.score(X_train, y_train)\n",
    "print(\"coefficient of determination R^2 of the prediction.: \",model_score)"
   ]
  },
  {
   "cell_type": "code",
   "execution_count": 23,
   "metadata": {},
   "outputs": [
    {
     "name": "stdout",
     "output_type": "stream",
     "text": [
      "Mean squared error: 3033169.54\n",
      "Test Variance score: 0.11\n"
     ]
    }
   ],
   "source": [
    "y_predicted = decision_tree.predict(X_test)\n",
    "\n",
    "# The mean squared error\n",
    "print(\"Mean squared error: %.2f\"% mean_squared_error(y_test, y_predicted))\n",
    "# Explained variance score: 1 is perfect prediction\n",
    "print('Test Variance score: %.2f' % r2_score(y_test, y_predicted))\n"
   ]
  },
  {
   "cell_type": "code",
   "execution_count": 24,
   "metadata": {},
   "outputs": [
    {
     "data": {
      "image/png": "[encoded data removed]",
      "text/plain": [
       "<Figure size 432x288 with 1 Axes>"
      ]
     },
     "metadata": {
      "needs_background": "light"
     },
     "output_type": "display_data"
    }
   ],
   "source": [
    "from sklearn.model_selection import cross_val_predict\n",
    "\n",
    "fig, ax = plt.subplots()\n",
    "ax.scatter(y_test, y_predicted, edgecolors=(0, 0, 0))\n",
    "ax.plot([y_test.min(), y_test.max()], [y_test.min(), y_test.max()], 'k--', lw=4)\n",
    "ax.set_xlabel('Actual')\n",
    "ax.set_ylabel('Predicted')\n",
    "ax.set_title(\"Ground Truth vs Predicted\")\n",
    "plt.show()"
   ]
  },
  {
   "cell_type": "markdown",
   "metadata": {},
   "source": [
    "   "
   ]
  },
  {
   "cell_type": "markdown",
   "metadata": {},
   "source": [
    "### Time to remove the Outliers"
   ]
  },
  {
   "cell_type": "code",
   "execution_count": 60,
   "metadata": {},
   "outputs": [
    {
     "data": {
      "text/plain": [
       "(1943254, 13)"
      ]
     },
     "execution_count": 60,
     "metadata": {},
     "output_type": "execute_result"
    }
   ],
   "source": [
    "ddf.shape"
   ]
  },
  {
   "cell_type": "code",
   "execution_count": 61,
   "metadata": {},
   "outputs": [
    {
     "name": "stdout",
     "output_type": "stream",
     "text": [
      "1000 and above  0.06912117510114478\n"
     ]
    }
   ],
   "source": [
    "print('1000 and above ',ddf[ddf['TimeTaken'] > 1000].shape[0]/ddf.shape[0])"
   ]
  },
  {
   "cell_type": "markdown",
   "metadata": {},
   "source": [
    "**Removing rows with TimeTaken > 1000 since they all are outliers, they only contribute 0.06% to the dataset**"
   ]
  },
  {
   "cell_type": "markdown",
   "metadata": {},
   "source": [
    "**Now time to further analyze the dataset, check points with TimeTaken < 1000**"
   ]
  },
  {
   "cell_type": "code",
   "execution_count": 62,
   "metadata": {},
   "outputs": [],
   "source": [
    "df = ddf[ddf['TimeTaken'] < 1000]"
   ]
  },
  {
   "cell_type": "code",
   "execution_count": 63,
   "metadata": {},
   "outputs": [
    {
     "data": {
      "text/plain": [
       "(1808934, 13)"
      ]
     },
     "execution_count": 63,
     "metadata": {},
     "output_type": "execute_result"
    }
   ],
   "source": [
    "df.shape"
   ]
  },
  {
   "cell_type": "code",
   "execution_count": 64,
   "metadata": {},
   "outputs": [
    {
     "name": "stdout",
     "output_type": "stream",
     "text": [
      "500 and above  0.06512785983347098\n"
     ]
    }
   ],
   "source": [
    "print('500 and above ',df[df['TimeTaken'] > 500].shape[0]/df.shape[0])"
   ]
  },
  {
   "cell_type": "code",
   "execution_count": 65,
   "metadata": {},
   "outputs": [
    {
     "name": "stdout",
     "output_type": "stream",
     "text": [
      "300 and above  0.14360335976879202\n"
     ]
    }
   ],
   "source": [
    "print('300 and above ',df[df['TimeTaken'] > 300].shape[0]/df.shape[0])"
   ]
  },
  {
   "cell_type": "code",
   "execution_count": 66,
   "metadata": {},
   "outputs": [
    {
     "name": "stdout",
     "output_type": "stream",
     "text": [
      "Below 200  0.8026152419049009\n"
     ]
    }
   ],
   "source": [
    "print('Below 200 ',df[df['TimeTaken'] < 200].shape[0]/df.shape[0])"
   ]
  },
  {
   "cell_type": "markdown",
   "metadata": {},
   "source": [
    "**80% of the requests are resolved in 200 minutes or less. Those points are taken for the model. Let's check the model now.**"
   ]
  },
  {
   "cell_type": "code",
   "execution_count": 67,
   "metadata": {},
   "outputs": [],
   "source": [
    "df = df[df['TimeTaken'] < 200]"
   ]
  },
  {
   "cell_type": "code",
   "execution_count": 69,
   "metadata": {},
   "outputs": [],
   "source": [
    "df.reset_index(inplace=True)"
   ]
  },
  {
   "cell_type": "code",
   "execution_count": 27,
   "metadata": {},
   "outputs": [],
   "source": [
    "from sklearn import linear_model\n",
    "from sklearn import neighbors"
   ]
  },
  {
   "cell_type": "code",
   "execution_count": 28,
   "metadata": {},
   "outputs": [],
   "source": [
    "from sklearn import svm"
   ]
  },
  {
   "cell_type": "code",
   "execution_count": 29,
   "metadata": {},
   "outputs": [],
   "source": [
    "def error_anaylsis(y_pred, y_actual):\n",
    "    # mean squared error\n",
    "    m = len(y_actual)\n",
    "    \n",
    "    mse = np.sum((y_pred - y_actual)**2)\n",
    "\n",
    "    # root mean squared error\n",
    "    # m is the number of training examples\n",
    "    rmse = np.sqrt(mse/m)\n",
    "    \n",
    "    # sum of square of residuals\n",
    "    ssr = np.sum((y_pred - y_actual)**2)\n",
    "\n",
    "    #  total sum of squares\n",
    "    sst = np.sum((y_actual - np.mean(y_actual))**2)\n",
    "\n",
    "    # R2 score\n",
    "    r2_score = 1 - (ssr/sst)\n",
    "    \n",
    "    return mse, rmse, ssr, sst, r2_score"
   ]
  },
  {
   "cell_type": "code",
   "execution_count": 80,
   "metadata": {},
   "outputs": [],
   "source": [
    "def generic_func_model_and_plot(ddf, X_cols, y_col, flag=True):\n",
    "    models = ['Decision Tree', 'Ridge Regression', 'Bayesian Regression', 'RandomForest Regressor', 'AdaBoost Regressor',\\\n",
    "             'Gradient Boost Regression', 'XGBoost Regressor', 'LightGBM Regressor', 'CatBoost Regressor']\n",
    "    rowind = ['RMSE (Train)', 'R2 Score (Train)', 'RMSE (Test)', 'R2 Score (Test)']\n",
    "    \n",
    "    if(flag):\n",
    "        X = ddf[X_cols]\n",
    "        y = ddf[y_col]\n",
    "    else:\n",
    "        X = ddf.iloc[:, :-1]\n",
    "        y = ddf.iloc[:, -1]\n",
    "        \n",
    "    X_train, X_test, y_train, y_test = train_test_split(X, y, test_size=0.2, random_state=5)\n",
    "    \n",
    "    arr = []\n",
    "    \n",
    "    #print('Decision Tree Regressor Results:')\n",
    "    dec = DecisionTreeRegressor()\n",
    "    dec.fit(X_train,y_train)\n",
    "    y1_dec=dec.predict(X_train)\n",
    "    y2_dec=dec.predict(X_test)\n",
    "\n",
    "    one = []\n",
    "    mse, rmse, ssr, sst, r2_score = error_anaylsis(y1_dec, y_train)\n",
    "    one += [rmse, r2_score]\n",
    "    \n",
    "    mse, rmse, ssr, sst, r2_score = error_anaylsis(y2_dec, y_test)\n",
    "    one += [rmse, r2_score]\n",
    "    arr.append(one)\n",
    "    \n",
    "    \n",
    "    \n",
    "    #print('\\nRidge Regression Results:')\n",
    "    model = linear_model.Ridge()\n",
    "    model.fit(X_train, y_train)\n",
    "    y1_dec=model.predict(X_train)\n",
    "    y2_dec=model.predict(X_test)\n",
    "\n",
    "    two = []\n",
    "    mse, rmse, ssr, sst, r2_score = error_anaylsis(y1_dec, y_train)\n",
    "    two += [rmse, r2_score]\n",
    "\n",
    "    mse, rmse, ssr, sst, r2_score = error_anaylsis(y2_dec, y_test)\n",
    "    two += [rmse, r2_score]\n",
    "    arr.append(two)\n",
    "\n",
    "    \n",
    "    \"\"\"print('\\nKNN Regressor Results:')\n",
    "    n_neighbors=5\n",
    "    knn=neighbors.KNeighborsRegressor(n_neighbors,weights='uniform')\n",
    "    knn.fit(X_train,y_train)\n",
    "    y1_dec=knn.predict(X_train)\n",
    "    y2_dec=knn.predict(X_test)\n",
    "\n",
    "    print('For train set')\n",
    "    mse, rmse, ssr, sst, r2_score = error_anaylsis(y1_dec, y_train)\n",
    "    print(mse, rmse, ssr, sst, r2_score)\n",
    "    \n",
    "    print('For test set')\n",
    "    mse, rmse, ssr, sst, r2_score = error_anaylsis(y2_dec, y_test)\n",
    "    print(mse, rmse, ssr, sst, r2_score)\"\"\"\n",
    "    \n",
    "    \n",
    "    \n",
    "    #print('\\nBayesian Regressor Results:')\n",
    "    reg = linear_model.BayesianRidge()\n",
    "    reg.fit(X_train,y_train)\n",
    "    y1_dec=reg.predict(X_train)\n",
    "    y2_dec=reg.predict(X_test)\n",
    "\n",
    "    three = []\n",
    "    mse, rmse, ssr, sst, r2_score = error_anaylsis(y1_dec, y_train)\n",
    "    three += [rmse, r2_score]\n",
    "    \n",
    "    mse, rmse, ssr, sst, r2_score = error_anaylsis(y2_dec, y_test)\n",
    "    three += [rmse, r2_score]\n",
    "    arr.append(three)\n",
    "    \n",
    "    \n",
    "    \n",
    "    #Random Forest\n",
    "    rf = RandomForestRegressor()\n",
    "    rf.fit(X_train, y_train)\n",
    "    y1_dec=reg.predict(X_train)\n",
    "    y2_dec=reg.predict(X_test)\n",
    "\n",
    "    four = []\n",
    "    mse, rmse, ssr, sst, r2_score = error_anaylsis(y1_dec, y_train)\n",
    "    four += [rmse, r2_score]\n",
    "    \n",
    "    mse, rmse, ssr, sst, r2_score = error_anaylsis(y2_dec, y_test)\n",
    "    four += [rmse, r2_score]\n",
    "    arr.append(four)\n",
    "    \n",
    "    \n",
    "    \n",
    "    \n",
    "    #AdaBoost \n",
    "    model = AdaBoostRegressor()\n",
    "    model.fit(X_train, y_train)\n",
    "    y1_dec=model.predict(X_train)\n",
    "    y2_dec=model.predict(X_test)\n",
    "\n",
    "    five = []\n",
    "    mse, rmse, ssr, sst, r2_score = error_anaylsis(y1_dec, y_train)\n",
    "    five += [rmse, r2_score]\n",
    "    \n",
    "    mse, rmse, ssr, sst, r2_score = error_anaylsis(y2_dec, y_test)\n",
    "    five += [rmse, r2_score]\n",
    "    arr.append(five)\n",
    "    \n",
    "    \n",
    "    \n",
    "    #GB\n",
    "    model= GradientBoostingRegressor()\n",
    "    model.fit(X_train, y_train)\n",
    "    y1_dec=model.predict(X_train)\n",
    "    y2_dec=model.predict(X_test)\n",
    "\n",
    "    six = []\n",
    "    mse, rmse, ssr, sst, r2_score = error_anaylsis(y1_dec, y_train)\n",
    "    six += [rmse, r2_score]\n",
    "    \n",
    "    mse, rmse, ssr, sst, r2_score = error_anaylsis(y2_dec, y_test)\n",
    "    six += [rmse, r2_score]\n",
    "    arr.append(six)\n",
    "    \n",
    "\n",
    "\n",
    "    #XGBoost\n",
    "    model=xgb.XGBRegressor()\n",
    "    model.fit(X_train, y_train)\n",
    "    y1_dec=model.predict(X_train)\n",
    "    y2_dec=model.predict(X_test)\n",
    "\n",
    "    seven = []\n",
    "    mse, rmse, ssr, sst, r2_score = error_anaylsis(y1_dec, y_train)\n",
    "    seven += [rmse, r2_score]\n",
    "    \n",
    "    mse, rmse, ssr, sst, r2_score = error_anaylsis(y2_dec, y_test)\n",
    "    seven += [rmse, r2_score]\n",
    "    arr.append(seven)\n",
    "    \n",
    "\n",
    "    \n",
    "    \n",
    "    #LightGBM\n",
    "    train_data=lgb.Dataset(X_train,label=y_train,silent=True)\n",
    "    params = {'learning_rate':0.001}\n",
    "    model= lgb.train(params, train_data, verbose_eval=False)\n",
    "    y1_dec=model.predict(X_train)\n",
    "    y2_dec=model.predict(X_test)\n",
    "    \n",
    "    eight = []\n",
    "    mse, rmse, ssr, sst, r2_score = error_anaylsis(y1_dec, y_train)\n",
    "    eight += [rmse, r2_score]\n",
    "    \n",
    "    mse, rmse, ssr, sst, r2_score = error_anaylsis(y2_dec, y_test)\n",
    "    eight += [rmse, r2_score]\n",
    "    arr.append(eight)\n",
    "    \n",
    "    \n",
    "    #CatBoost\n",
    "    fsock=open(\"train_out.log\",'w')\n",
    "    sys_old_out_put=sys.stdout\n",
    "    sys.stdout=fsock\n",
    "    \n",
    "    model=CatBoostRegressor()\n",
    "    #categorical_features_indices = np.where(df.dtypes != np.float)[0]\n",
    "    model.fit(X_train,y_train)\n",
    "    y1_dec=model.predict(X_train)\n",
    "    y2_dec=model.predict(X_test)\n",
    "    \n",
    "    sys.stdout=sys_old_out_put\n",
    "    fsock.close()\n",
    "\n",
    "    nine = []\n",
    "    mse, rmse, ssr, sst, r2_score = error_anaylsis(y1_dec, y_train)\n",
    "    nine += [rmse, r2_score]\n",
    "    \n",
    "    mse, rmse, ssr, sst, r2_score = error_anaylsis(y2_dec, y_test)\n",
    "    nine += [rmse, r2_score]\n",
    "    arr.append(nine)\n",
    "\n",
    "\n",
    "    \n",
    "    return pd.DataFrame(arr, columns=rowind, index=models)"
   ]
  },
  {
   "cell_type": "code",
   "execution_count": 55,
   "metadata": {},
   "outputs": [
    {
     "data": {
      "text/html": [
       "<div>\n",
       "<style scoped>\n",
       "    .dataframe tbody tr th:only-of-type {\n",
       "        vertical-align: middle;\n",
       "    }\n",
       "\n",
       "    .dataframe tbody tr th {\n",
       "        vertical-align: top;\n",
       "    }\n",
       "\n",
       "    .dataframe thead th {\n",
       "        text-align: right;\n",
       "    }\n",
       "</style>\n",
       "<table border=\"1\" class=\"dataframe\">\n",
       "  <thead>\n",
       "    <tr style=\"text-align: right;\">\n",
       "      <th></th>\n",
       "      <th>RMSE (Train)</th>\n",
       "      <th>R2 Score (Train)</th>\n",
       "      <th>RMSE (Test)</th>\n",
       "      <th>R2 Score (Test)</th>\n",
       "    </tr>\n",
       "  </thead>\n",
       "  <tbody>\n",
       "    <tr>\n",
       "      <th>Decision Tree</th>\n",
       "      <td>40.385639</td>\n",
       "      <td>0.465261</td>\n",
       "      <td>40.424635</td>\n",
       "      <td>0.464632</td>\n",
       "    </tr>\n",
       "    <tr>\n",
       "      <th>Ridge Regression</th>\n",
       "      <td>53.187294</td>\n",
       "      <td>0.072521</td>\n",
       "      <td>53.223093</td>\n",
       "      <td>0.071973</td>\n",
       "    </tr>\n",
       "    <tr>\n",
       "      <th>Bayesian Regression</th>\n",
       "      <td>53.187294</td>\n",
       "      <td>0.072521</td>\n",
       "      <td>53.223085</td>\n",
       "      <td>0.071973</td>\n",
       "    </tr>\n",
       "    <tr>\n",
       "      <th>RandomForest Regressor</th>\n",
       "      <td>53.187294</td>\n",
       "      <td>0.072521</td>\n",
       "      <td>53.223085</td>\n",
       "      <td>0.071973</td>\n",
       "    </tr>\n",
       "    <tr>\n",
       "      <th>AdaBoost Regressor</th>\n",
       "      <td>45.843450</td>\n",
       "      <td>0.310962</td>\n",
       "      <td>45.871042</td>\n",
       "      <td>0.310653</td>\n",
       "    </tr>\n",
       "    <tr>\n",
       "      <th>Gradient Boost Regression</th>\n",
       "      <td>41.176389</td>\n",
       "      <td>0.444115</td>\n",
       "      <td>41.168081</td>\n",
       "      <td>0.444759</td>\n",
       "    </tr>\n",
       "    <tr>\n",
       "      <th>XGBoost Regressor</th>\n",
       "      <td>41.176443</td>\n",
       "      <td>0.444114</td>\n",
       "      <td>41.168183</td>\n",
       "      <td>0.444756</td>\n",
       "    </tr>\n",
       "    <tr>\n",
       "      <th>LightGBM Regressor</th>\n",
       "      <td>52.906222</td>\n",
       "      <td>0.082298</td>\n",
       "      <td>52.926335</td>\n",
       "      <td>0.082293</td>\n",
       "    </tr>\n",
       "    <tr>\n",
       "      <th>CatBoost Regressor</th>\n",
       "      <td>40.436547</td>\n",
       "      <td>0.463912</td>\n",
       "      <td>40.423561</td>\n",
       "      <td>0.464660</td>\n",
       "    </tr>\n",
       "  </tbody>\n",
       "</table>\n",
       "</div>"
      ],
      "text/plain": [
       "                           RMSE (Train)  R2 Score (Train)  RMSE (Test)  \\\n",
       "Decision Tree                 40.385639          0.465261    40.424635   \n",
       "Ridge Regression              53.187294          0.072521    53.223093   \n",
       "Bayesian Regression           53.187294          0.072521    53.223085   \n",
       "RandomForest Regressor        53.187294          0.072521    53.223085   \n",
       "AdaBoost Regressor            45.843450          0.310962    45.871042   \n",
       "Gradient Boost Regression     41.176389          0.444115    41.168081   \n",
       "XGBoost Regressor             41.176443          0.444114    41.168183   \n",
       "LightGBM Regressor            52.906222          0.082298    52.926335   \n",
       "CatBoost Regressor            40.436547          0.463912    40.423561   \n",
       "\n",
       "                           R2 Score (Test)  \n",
       "Decision Tree                     0.464632  \n",
       "Ridge Regression                  0.071973  \n",
       "Bayesian Regression               0.071973  \n",
       "RandomForest Regressor            0.071973  \n",
       "AdaBoost Regressor                0.310653  \n",
       "Gradient Boost Regression         0.444759  \n",
       "XGBoost Regressor                 0.444756  \n",
       "LightGBM Regressor                0.082293  \n",
       "CatBoost Regressor                0.464660  "
      ]
     },
     "execution_count": 55,
     "metadata": {},
     "output_type": "execute_result"
    }
   ],
   "source": [
    "generic_func_model_and_plot(df, X_cols, y_col)"
   ]
  },
  {
   "cell_type": "markdown",
   "metadata": {},
   "source": [
    "As it can be seen, the Decision Tree perform the best."
   ]
  },
  {
   "cell_type": "markdown",
   "metadata": {},
   "source": [
    "   "
   ]
  },
  {
   "cell_type": "code",
   "execution_count": 70,
   "metadata": {},
   "outputs": [],
   "source": [
    "df1 = df[df['TimeTaken'] < 125]"
   ]
  },
  {
   "cell_type": "code",
   "execution_count": 72,
   "metadata": {},
   "outputs": [],
   "source": [
    "df1.reset_index(inplace=True)"
   ]
  },
  {
   "cell_type": "code",
   "execution_count": 32,
   "metadata": {},
   "outputs": [
    {
     "name": "stdout",
     "output_type": "stream",
     "text": [
      "[15:05:29] WARNING: /workspace/src/objective/regression_obj.cu:152: reg:linear is now deprecated in favor of reg:squarederror.\n"
     ]
    },
    {
     "data": {
      "text/html": [
       "<div>\n",
       "<style scoped>\n",
       "    .dataframe tbody tr th:only-of-type {\n",
       "        vertical-align: middle;\n",
       "    }\n",
       "\n",
       "    .dataframe tbody tr th {\n",
       "        vertical-align: top;\n",
       "    }\n",
       "\n",
       "    .dataframe thead th {\n",
       "        text-align: right;\n",
       "    }\n",
       "</style>\n",
       "<table border=\"1\" class=\"dataframe\">\n",
       "  <thead>\n",
       "    <tr style=\"text-align: right;\">\n",
       "      <th></th>\n",
       "      <th>RMSE (Train)</th>\n",
       "      <th>R2 Score (Train)</th>\n",
       "      <th>RMSE (Test)</th>\n",
       "      <th>R2 Score (Test)</th>\n",
       "    </tr>\n",
       "  </thead>\n",
       "  <tbody>\n",
       "    <tr>\n",
       "      <th>Decision Tree</th>\n",
       "      <td>25.022257</td>\n",
       "      <td>0.529643</td>\n",
       "      <td>25.019044</td>\n",
       "      <td>0.530313</td>\n",
       "    </tr>\n",
       "    <tr>\n",
       "      <th>Ridge Regression</th>\n",
       "      <td>35.400598</td>\n",
       "      <td>0.058554</td>\n",
       "      <td>35.430204</td>\n",
       "      <td>0.058080</td>\n",
       "    </tr>\n",
       "    <tr>\n",
       "      <th>Bayesian Regression</th>\n",
       "      <td>35.400598</td>\n",
       "      <td>0.058554</td>\n",
       "      <td>35.430207</td>\n",
       "      <td>0.058080</td>\n",
       "    </tr>\n",
       "    <tr>\n",
       "      <th>RandomForest Regressor</th>\n",
       "      <td>35.400598</td>\n",
       "      <td>0.058554</td>\n",
       "      <td>35.430207</td>\n",
       "      <td>0.058080</td>\n",
       "    </tr>\n",
       "    <tr>\n",
       "      <th>AdaBoost Regressor</th>\n",
       "      <td>27.810688</td>\n",
       "      <td>0.418971</td>\n",
       "      <td>27.780213</td>\n",
       "      <td>0.420921</td>\n",
       "    </tr>\n",
       "    <tr>\n",
       "      <th>Gradient Boost Regression</th>\n",
       "      <td>25.467770</td>\n",
       "      <td>0.512745</td>\n",
       "      <td>25.421432</td>\n",
       "      <td>0.515084</td>\n",
       "    </tr>\n",
       "    <tr>\n",
       "      <th>XGBoost Regressor</th>\n",
       "      <td>25.467782</td>\n",
       "      <td>0.512745</td>\n",
       "      <td>25.421447</td>\n",
       "      <td>0.515083</td>\n",
       "    </tr>\n",
       "    <tr>\n",
       "      <th>LightGBM Regressor</th>\n",
       "      <td>34.752881</td>\n",
       "      <td>0.092690</td>\n",
       "      <td>34.772576</td>\n",
       "      <td>0.092722</td>\n",
       "    </tr>\n",
       "    <tr>\n",
       "      <th>CatBoost Regressor</th>\n",
       "      <td>25.058696</td>\n",
       "      <td>0.528273</td>\n",
       "      <td>25.019323</td>\n",
       "      <td>0.530303</td>\n",
       "    </tr>\n",
       "  </tbody>\n",
       "</table>\n",
       "</div>"
      ],
      "text/plain": [
       "                           RMSE (Train)  R2 Score (Train)  RMSE (Test)  \\\n",
       "Decision Tree                 25.022257          0.529643    25.019044   \n",
       "Ridge Regression              35.400598          0.058554    35.430204   \n",
       "Bayesian Regression           35.400598          0.058554    35.430207   \n",
       "RandomForest Regressor        35.400598          0.058554    35.430207   \n",
       "AdaBoost Regressor            27.810688          0.418971    27.780213   \n",
       "Gradient Boost Regression     25.467770          0.512745    25.421432   \n",
       "XGBoost Regressor             25.467782          0.512745    25.421447   \n",
       "LightGBM Regressor            34.752881          0.092690    34.772576   \n",
       "CatBoost Regressor            25.058696          0.528273    25.019323   \n",
       "\n",
       "                           R2 Score (Test)  \n",
       "Decision Tree                     0.530313  \n",
       "Ridge Regression                  0.058080  \n",
       "Bayesian Regression               0.058080  \n",
       "RandomForest Regressor            0.058080  \n",
       "AdaBoost Regressor                0.420921  \n",
       "Gradient Boost Regression         0.515084  \n",
       "XGBoost Regressor                 0.515083  \n",
       "LightGBM Regressor                0.092722  \n",
       "CatBoost Regressor                0.530303  "
      ]
     },
     "execution_count": 32,
     "metadata": {},
     "output_type": "execute_result"
    }
   ],
   "source": [
    "generic_func_model_and_plot(df1, X_cols, y_col)"
   ]
  },
  {
   "cell_type": "markdown",
   "metadata": {},
   "source": [
    "Again even with the filter, the Decision Tree consistently perform well giving lowest RMSE for both train and Test datasets and High R2 score values."
   ]
  },
  {
   "cell_type": "markdown",
   "metadata": {},
   "source": [
    "   "
   ]
  },
  {
   "cell_type": "markdown",
   "metadata": {},
   "source": [
    "  "
   ]
  },
  {
   "cell_type": "markdown",
   "metadata": {},
   "source": [
    "### Trying PCA with the Dataset"
   ]
  },
  {
   "cell_type": "code",
   "execution_count": 73,
   "metadata": {},
   "outputs": [],
   "source": [
    "from sklearn.decomposition import PCA\n",
    "pca = PCA(n_components=6)\n",
    "principalComponents = pca.fit_transform(df.iloc[:, :-1])"
   ]
  },
  {
   "cell_type": "code",
   "execution_count": 77,
   "metadata": {},
   "outputs": [],
   "source": [
    "df_pca = pd.concat([pd.DataFrame(principalComponents), df['TimeTaken']], axis=1)\n",
    "df_pca.columns = ['pca1', 'pca2', 'pca3', 'pca4', 'pca5', 'pca6', 'TimeTaken']"
   ]
  },
  {
   "cell_type": "code",
   "execution_count": 82,
   "metadata": {},
   "outputs": [
    {
     "name": "stdout",
     "output_type": "stream",
     "text": [
      "[15:33:20] WARNING: /workspace/src/objective/regression_obj.cu:152: reg:linear is now deprecated in favor of reg:squarederror.\n"
     ]
    },
    {
     "data": {
      "text/html": [
       "<div>\n",
       "<style scoped>\n",
       "    .dataframe tbody tr th:only-of-type {\n",
       "        vertical-align: middle;\n",
       "    }\n",
       "\n",
       "    .dataframe tbody tr th {\n",
       "        vertical-align: top;\n",
       "    }\n",
       "\n",
       "    .dataframe thead th {\n",
       "        text-align: right;\n",
       "    }\n",
       "</style>\n",
       "<table border=\"1\" class=\"dataframe\">\n",
       "  <thead>\n",
       "    <tr style=\"text-align: right;\">\n",
       "      <th></th>\n",
       "      <th>RMSE (Train)</th>\n",
       "      <th>R2 Score (Train)</th>\n",
       "      <th>RMSE (Test)</th>\n",
       "      <th>R2 Score (Test)</th>\n",
       "    </tr>\n",
       "  </thead>\n",
       "  <tbody>\n",
       "    <tr>\n",
       "      <th>Decision Tree</th>\n",
       "      <td>7.272918e-17</td>\n",
       "      <td>1.000000</td>\n",
       "      <td>49.717168</td>\n",
       "      <td>0.190208</td>\n",
       "    </tr>\n",
       "    <tr>\n",
       "      <th>Ridge Regression</th>\n",
       "      <td>5.218516e+01</td>\n",
       "      <td>0.107142</td>\n",
       "      <td>52.202167</td>\n",
       "      <td>0.107234</td>\n",
       "    </tr>\n",
       "    <tr>\n",
       "      <th>Bayesian Regression</th>\n",
       "      <td>5.218516e+01</td>\n",
       "      <td>0.107142</td>\n",
       "      <td>52.202166</td>\n",
       "      <td>0.107234</td>\n",
       "    </tr>\n",
       "    <tr>\n",
       "      <th>RandomForest Regressor</th>\n",
       "      <td>5.218516e+01</td>\n",
       "      <td>0.107142</td>\n",
       "      <td>52.202166</td>\n",
       "      <td>0.107234</td>\n",
       "    </tr>\n",
       "    <tr>\n",
       "      <th>AdaBoost Regressor</th>\n",
       "      <td>4.846987e+01</td>\n",
       "      <td>0.229750</td>\n",
       "      <td>48.507304</td>\n",
       "      <td>0.229141</td>\n",
       "    </tr>\n",
       "    <tr>\n",
       "      <th>Gradient Boost Regression</th>\n",
       "      <td>4.000846e+01</td>\n",
       "      <td>0.475202</td>\n",
       "      <td>40.013467</td>\n",
       "      <td>0.475467</td>\n",
       "    </tr>\n",
       "    <tr>\n",
       "      <th>XGBoost Regressor</th>\n",
       "      <td>4.003396e+01</td>\n",
       "      <td>0.474533</td>\n",
       "      <td>40.035917</td>\n",
       "      <td>0.474878</td>\n",
       "    </tr>\n",
       "    <tr>\n",
       "      <th>LightGBM Regressor</th>\n",
       "      <td>5.285690e+01</td>\n",
       "      <td>0.084008</td>\n",
       "      <td>52.875725</td>\n",
       "      <td>0.084047</td>\n",
       "    </tr>\n",
       "    <tr>\n",
       "      <th>CatBoost Regressor</th>\n",
       "      <td>3.914290e+01</td>\n",
       "      <td>0.497664</td>\n",
       "      <td>39.169960</td>\n",
       "      <td>0.497349</td>\n",
       "    </tr>\n",
       "  </tbody>\n",
       "</table>\n",
       "</div>"
      ],
      "text/plain": [
       "                           RMSE (Train)  R2 Score (Train)  RMSE (Test)  \\\n",
       "Decision Tree              7.272918e-17          1.000000    49.717168   \n",
       "Ridge Regression           5.218516e+01          0.107142    52.202167   \n",
       "Bayesian Regression        5.218516e+01          0.107142    52.202166   \n",
       "RandomForest Regressor     5.218516e+01          0.107142    52.202166   \n",
       "AdaBoost Regressor         4.846987e+01          0.229750    48.507304   \n",
       "Gradient Boost Regression  4.000846e+01          0.475202    40.013467   \n",
       "XGBoost Regressor          4.003396e+01          0.474533    40.035917   \n",
       "LightGBM Regressor         5.285690e+01          0.084008    52.875725   \n",
       "CatBoost Regressor         3.914290e+01          0.497664    39.169960   \n",
       "\n",
       "                           R2 Score (Test)  \n",
       "Decision Tree                     0.190208  \n",
       "Ridge Regression                  0.107234  \n",
       "Bayesian Regression               0.107234  \n",
       "RandomForest Regressor            0.107234  \n",
       "AdaBoost Regressor                0.229141  \n",
       "Gradient Boost Regression         0.475467  \n",
       "XGBoost Regressor                 0.474878  \n",
       "LightGBM Regressor                0.084047  \n",
       "CatBoost Regressor                0.497349  "
      ]
     },
     "execution_count": 82,
     "metadata": {},
     "output_type": "execute_result"
    }
   ],
   "source": [
    "generic_func_model_and_plot(df_pca, X_cols, y_col, flag=False)"
   ]
  },
  {
   "cell_type": "code",
   "execution_count": 83,
   "metadata": {},
   "outputs": [],
   "source": [
    "pca = PCA(n_components=6)\n",
    "principalComponents = pca.fit_transform(df1.iloc[:, :-1])\n",
    "\n",
    "df_pca1 = pd.concat([pd.DataFrame(principalComponents), df1['TimeTaken']], axis=1)\n",
    "df_pca1.columns = ['pca1', 'pca2', 'pca3', 'pca4', 'pca5', 'pca6', 'TimeTaken']"
   ]
  },
  {
   "cell_type": "code",
   "execution_count": 84,
   "metadata": {},
   "outputs": [
    {
     "name": "stdout",
     "output_type": "stream",
     "text": [
      "[15:48:49] WARNING: /workspace/src/objective/regression_obj.cu:152: reg:linear is now deprecated in favor of reg:squarederror.\n"
     ]
    },
    {
     "data": {
      "text/html": [
       "<div>\n",
       "<style scoped>\n",
       "    .dataframe tbody tr th:only-of-type {\n",
       "        vertical-align: middle;\n",
       "    }\n",
       "\n",
       "    .dataframe tbody tr th {\n",
       "        vertical-align: top;\n",
       "    }\n",
       "\n",
       "    .dataframe thead th {\n",
       "        text-align: right;\n",
       "    }\n",
       "</style>\n",
       "<table border=\"1\" class=\"dataframe\">\n",
       "  <thead>\n",
       "    <tr style=\"text-align: right;\">\n",
       "      <th></th>\n",
       "      <th>RMSE (Train)</th>\n",
       "      <th>R2 Score (Train)</th>\n",
       "      <th>RMSE (Test)</th>\n",
       "      <th>R2 Score (Test)</th>\n",
       "    </tr>\n",
       "  </thead>\n",
       "  <tbody>\n",
       "    <tr>\n",
       "      <th>Decision Tree</th>\n",
       "      <td>6.541648e-17</td>\n",
       "      <td>1.000000</td>\n",
       "      <td>31.270798</td>\n",
       "      <td>0.266256</td>\n",
       "    </tr>\n",
       "    <tr>\n",
       "      <th>Ridge Regression</th>\n",
       "      <td>3.490407e+01</td>\n",
       "      <td>0.084778</td>\n",
       "      <td>34.908758</td>\n",
       "      <td>0.085602</td>\n",
       "    </tr>\n",
       "    <tr>\n",
       "      <th>Bayesian Regression</th>\n",
       "      <td>3.490407e+01</td>\n",
       "      <td>0.084778</td>\n",
       "      <td>34.908756</td>\n",
       "      <td>0.085602</td>\n",
       "    </tr>\n",
       "    <tr>\n",
       "      <th>RandomForest Regressor</th>\n",
       "      <td>3.490407e+01</td>\n",
       "      <td>0.084778</td>\n",
       "      <td>34.908756</td>\n",
       "      <td>0.085602</td>\n",
       "    </tr>\n",
       "    <tr>\n",
       "      <th>AdaBoost Regressor</th>\n",
       "      <td>3.428615e+01</td>\n",
       "      <td>0.116896</td>\n",
       "      <td>34.241071</td>\n",
       "      <td>0.120246</td>\n",
       "    </tr>\n",
       "    <tr>\n",
       "      <th>Gradient Boost Regression</th>\n",
       "      <td>2.536608e+01</td>\n",
       "      <td>0.516629</td>\n",
       "      <td>25.327459</td>\n",
       "      <td>0.518662</td>\n",
       "    </tr>\n",
       "    <tr>\n",
       "      <th>XGBoost Regressor</th>\n",
       "      <td>2.537165e+01</td>\n",
       "      <td>0.516416</td>\n",
       "      <td>25.334150</td>\n",
       "      <td>0.518408</td>\n",
       "    </tr>\n",
       "    <tr>\n",
       "      <th>LightGBM Regressor</th>\n",
       "      <td>3.478442e+01</td>\n",
       "      <td>0.091042</td>\n",
       "      <td>34.803793</td>\n",
       "      <td>0.091092</td>\n",
       "    </tr>\n",
       "    <tr>\n",
       "      <th>CatBoost Regressor</th>\n",
       "      <td>2.430798e+01</td>\n",
       "      <td>0.556113</td>\n",
       "      <td>24.286697</td>\n",
       "      <td>0.557408</td>\n",
       "    </tr>\n",
       "  </tbody>\n",
       "</table>\n",
       "</div>"
      ],
      "text/plain": [
       "                           RMSE (Train)  R2 Score (Train)  RMSE (Test)  \\\n",
       "Decision Tree              6.541648e-17          1.000000    31.270798   \n",
       "Ridge Regression           3.490407e+01          0.084778    34.908758   \n",
       "Bayesian Regression        3.490407e+01          0.084778    34.908756   \n",
       "RandomForest Regressor     3.490407e+01          0.084778    34.908756   \n",
       "AdaBoost Regressor         3.428615e+01          0.116896    34.241071   \n",
       "Gradient Boost Regression  2.536608e+01          0.516629    25.327459   \n",
       "XGBoost Regressor          2.537165e+01          0.516416    25.334150   \n",
       "LightGBM Regressor         3.478442e+01          0.091042    34.803793   \n",
       "CatBoost Regressor         2.430798e+01          0.556113    24.286697   \n",
       "\n",
       "                           R2 Score (Test)  \n",
       "Decision Tree                     0.266256  \n",
       "Ridge Regression                  0.085602  \n",
       "Bayesian Regression               0.085602  \n",
       "RandomForest Regressor            0.085602  \n",
       "AdaBoost Regressor                0.120246  \n",
       "Gradient Boost Regression         0.518662  \n",
       "XGBoost Regressor                 0.518408  \n",
       "LightGBM Regressor                0.091092  \n",
       "CatBoost Regressor                0.557408  "
      ]
     },
     "execution_count": 84,
     "metadata": {},
     "output_type": "execute_result"
    }
   ],
   "source": [
    "generic_func_model_and_plot(df_pca1, X_cols, y_col, flag=False)"
   ]
  },
  {
   "cell_type": "markdown",
   "metadata": {},
   "source": [
    "PCA won't help with this dataset."
   ]
  },
  {
   "cell_type": "markdown",
   "metadata": {},
   "source": [
    "## Time to convert the Decision Tree model to train on all the data points in the Cloud."
   ]
  },
  {
   "cell_type": "code",
   "execution_count": null,
   "metadata": {},
   "outputs": [],
   "source": []
  }
 ],
 "metadata": {
  "kernelspec": {
   "display_name": "Python 3",
   "language": "python",
   "name": "python3"
  },
  "language_info": {
   "codemirror_mode": {
    "name": "ipython",
    "version": 3
   },
   "file_extension": ".py",
   "mimetype": "text/x-python",
   "name": "python",
   "nbconvert_exporter": "python",
   "pygments_lexer": "ipython3",
   "version": "3.5.3"
  }
 },
 "nbformat": 4,
 "nbformat_minor": 2
}
