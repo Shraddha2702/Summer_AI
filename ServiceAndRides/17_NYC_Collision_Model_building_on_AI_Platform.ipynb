{
 "cells": [
  {
   "cell_type": "markdown",
   "metadata": {},
   "source": [
    "# Model Building for NYC Collision dataset on AI Platform"
   ]
  },
  {
   "cell_type": "code",
   "execution_count": 1,
   "metadata": {},
   "outputs": [],
   "source": [
    "import numpy as np\n",
    "import pandas as pd\n",
    "from datetime import datetime\n",
    "import pandas_profiling as pdp\n",
    "\n",
    "import matplotlib.pyplot as plt\n",
    "import seaborn as sns\n",
    "\n",
    "import os\n",
    "import warnings\n",
    "warnings.filterwarnings('ignore')"
   ]
  },
  {
   "cell_type": "code",
   "execution_count": 2,
   "metadata": {},
   "outputs": [],
   "source": [
    "from io import BytesIO\n",
    "import datetime\n",
    "from datetime import timedelta\n",
    "import tensorflow as tf\n",
    "import sys\n",
    "import datalab.storage as storage"
   ]
  },
  {
   "cell_type": "code",
   "execution_count": 3,
   "metadata": {},
   "outputs": [],
   "source": [
    "BUCKET='nyc_collision_model'\n",
    "PROJECT='summerai'\n",
    "REGION='us-central1'\n",
    "\n",
    "os.environ['BUCKET'] = BUCKET\n",
    "os.environ['PROJECT'] = PROJECT\n",
    "os.environ['REGION'] = REGION"
   ]
  },
  {
   "cell_type": "code",
   "execution_count": 4,
   "metadata": {},
   "outputs": [],
   "source": [
    "df = pd.read_csv('data/accidents_with_prediction.csv')"
   ]
  },
  {
   "cell_type": "code",
   "execution_count": 5,
   "metadata": {},
   "outputs": [],
   "source": [
    "def extract_ddy(date):\n",
    "    dd = date.split(' ')\n",
    "    year_month = dd[0][:7]\n",
    "    year_month_day = dd[0]\n",
    "    year = int(year_month[:4])\n",
    "    month = int(year_month[5:7])\n",
    "    hour = int(dd[1][:2])\n",
    "    return year_month_day, year, month, hour"
   ]
  },
  {
   "cell_type": "code",
   "execution_count": 6,
   "metadata": {},
   "outputs": [],
   "source": [
    "def divide_data(data):\n",
    "    data_np = data.values\n",
    "    train = []\n",
    "    for i in range(90, len(data_np)):\n",
    "        train.append(data_np[i-90:i])\n",
    "        \n",
    "    list_zero = train[0]\n",
    "    df = pd.DataFrame(list_zero).T\n",
    "    \n",
    "    for i in range(1, len(train)):\n",
    "        a = train[i]\n",
    "        b = pd.DataFrame(a).T\n",
    "        b.index = [i]\n",
    "        df = pd.concat((df, b), axis = 0)\n",
    "        \n",
    "    ind = int(0.8*len(df))\n",
    "    train = df[:ind]\n",
    "    eval_ = df[ind:]\n",
    "    test = eval_.iloc[-1]\n",
    "    test = test[30:]\n",
    "    \n",
    "    \n",
    "    last_date = data[-30:-29]\n",
    "    last_date = last_date.index\n",
    "    \n",
    "    dates = []\n",
    "    for i in range(0, 60):\n",
    "        temp = last_date + timedelta(days = 1)\n",
    "        dates.append(last_date)\n",
    "        last_date = temp\n",
    "    dates = pd.DataFrame(dates)\n",
    "    \n",
    "    return train, eval_, test, dates"
   ]
  },
  {
   "cell_type": "code",
   "execution_count": 8,
   "metadata": {},
   "outputs": [],
   "source": [
    "def generic_function_to_test_train_data(df1, name):\n",
    "    df1 = df1.reset_index().iloc[:, 1:]\n",
    "    \n",
    "    ym, y, m, h = [], [], [], []\n",
    "\n",
    "    for i in range(len(df1)):\n",
    "        a, b, c, d= extract_ddy(df1.timestamp[i])\n",
    "        ym.append(a)\n",
    "        y.append(b)\n",
    "        m.append(c)\n",
    "        h.append(d)\n",
    "\n",
    "    df1['date'] = ym\n",
    "    df1['year'] = y\n",
    "    df1['month'] = m\n",
    "    df1['hour'] = h\n",
    "    \n",
    "    df1.set_index(df1['date'],inplace=True)\n",
    "    df2 = pd.DataFrame(df1['date'].value_counts())\n",
    "    df2.columns = ['count']\n",
    "    df2.index = pd.to_datetime(df2.index)\n",
    "    daily = df2['count'].resample('D').sum()\n",
    "    \n",
    "    train, eval_, test, dates = divide_data(daily)\n",
    "    \n",
    "    test = test.tolist()\n",
    "    train.to_csv(\"data/\"+ name +\"_train.csv\", index=False, header=False)\n",
    "    eval_.to_csv(\"data/\"+ name +\"_eval.csv\", index=False, header=False)\n",
    "    storage.Bucket(BUCKET).item('data/'+ name +'_train.csv').write_to(train.to_csv(index=False, header=False),'text/csv')\n",
    "    storage.Bucket(BUCKET).item('data/'+ name +'_eval.csv').write_to(eval_.to_csv(index=False, header=False),'text/csv')\n",
    "    return daily, test, dates"
   ]
  },
  {
   "cell_type": "markdown",
   "metadata": {},
   "source": [
    "**Dataset divided into train and test and saved in the Bucket.**"
   ]
  },
  {
   "cell_type": "code",
   "execution_count": 9,
   "metadata": {},
   "outputs": [],
   "source": [
    "df1, test1, dates1 = generic_function_to_test_train_data(df[df['borough'] == 'MANHATTAN'], 'manhattan')"
   ]
  },
  {
   "cell_type": "code",
   "execution_count": 10,
   "metadata": {},
   "outputs": [],
   "source": [
    "df2, test2, dates2 = generic_function_to_test_train_data(df[df['borough'] == 'BROOKLYN'], 'brooklyn')\n",
    "df3, test3, dates3 = generic_function_to_test_train_data(df[df['borough'] == 'QUEENS'], 'queens')\n",
    "df4, test4, dates4 = generic_function_to_test_train_data(df[df['borough'] == 'BRONX'], 'bronx')\n",
    "df5, test5, dates5 = generic_function_to_test_train_data(df[df['borough'] == 'STATEN ISLAND'], 'statenisland')"
   ]
  },
  {
   "cell_type": "markdown",
   "metadata": {},
   "source": [
    "   "
   ]
  },
  {
   "cell_type": "markdown",
   "metadata": {},
   "source": [
    "   "
   ]
  },
  {
   "cell_type": "markdown",
   "metadata": {},
   "source": [
    "   "
   ]
  },
  {
   "cell_type": "markdown",
   "metadata": {},
   "source": [
    "  "
   ]
  },
  {
   "cell_type": "markdown",
   "metadata": {},
   "source": [
    "## Now it is time to make this models run on the Platform, Do some Hyperparameter tuning and try deploying model for each of the boroughs."
   ]
  },
  {
   "cell_type": "markdown",
   "metadata": {},
   "source": [
    "**TRAIN Locally**"
   ]
  },
  {
   "cell_type": "code",
   "execution_count": 10,
   "metadata": {},
   "outputs": [
    {
     "name": "stderr",
     "output_type": "stream",
     "text": [
      "WARNING: Logging before flag parsing goes to stderr.\n",
      "W0813 19:23:01.922920 140202737137088 deprecation_wrapper.py:119] From CNNTrainer/model.py:20: The name tf.logging.set_verbosity is deprecated. Please use tf.compat.v1.logging.set_verbosity instead.\n",
      "\n",
      "W0813 19:23:01.923742 140202737137088 deprecation_wrapper.py:119] From CNNTrainer/model.py:20: The name tf.logging.INFO is deprecated. Please use tf.compat.v1.logging.INFO instead.\n",
      "\n",
      "I0813 19:23:01.926101 140202737137088 estimator.py:209] Using config: {'_save_checkpoints_secs': 60, '_num_ps_replicas': 0, '_keep_checkpoint_max': 5, '_task_type': 'worker', '_global_id_in_cluster': 0, '_is_chief': True, '_cluster_spec': <tensorflow.python.training.server_lib.ClusterSpec object at 0x7f832d33e050>, '_model_dir': 'manhattan_localmodel/', '_protocol': None, '_save_checkpoints_steps': None, '_keep_checkpoint_every_n_hours': 10000, '_service': None, '_session_config': allow_soft_placement: true\n",
      "graph_options {\n",
      "  rewrite_options {\n",
      "    meta_optimizer_iterations: ONE\n",
      "  }\n",
      "}\n",
      ", '_tf_random_seed': None, '_save_summary_steps': 100, '_device_fn': None, '_experimental_distribute': None, '_num_worker_replicas': 1, '_task_id': 0, '_log_step_count_steps': 100, '_experimental_max_worker_delay_secs': None, '_evaluation_master': '', '_eval_distribute': None, '_train_distribute': None, '_master': ''}\n",
      "I0813 19:23:01.927038 140202737137088 estimator_training.py:186] Not using Distribute Coordinator.\n",
      "I0813 19:23:01.927253 140202737137088 training.py:612] Running training and evaluation locally (non-distributed).\n",
      "I0813 19:23:01.927525 140202737137088 training.py:700] Start train and evaluate loop. The evaluate will happen after every checkpoint. Checkpoint frequency is determined based on RunConfig arguments: save_checkpoints_steps None or save_checkpoints_secs 60.\n",
      "W0813 19:23:02.250961 140202737137088 deprecation.py:323] From /usr/local/lib/python2.7/dist-packages/tensorflow/python/training/training_util.py:236: initialized_value (from tensorflow.python.ops.variables) is deprecated and will be removed in a future version.\n",
      "Instructions for updating:\n",
      "Use Variable.read_value. Variables in 2.X are initialized automatically both in eager and graph (inside tf.defun) contexts.\n",
      "W0813 19:23:02.262010 140202737137088 deprecation_wrapper.py:119] From CNNTrainer/model.py:50: The name tf.train.match_filenames_once is deprecated. Please use tf.io.match_filenames_once instead.\n",
      "\n",
      "W0813 19:23:02.269754 140202737137088 deprecation.py:323] From CNNTrainer/model.py:52: string_input_producer (from tensorflow.python.training.input) is deprecated and will be removed in a future version.\n",
      "Instructions for updating:\n",
      "Queue-based input pipelines have been replaced by `tf.data`. Use `tf.data.Dataset.from_tensor_slices(string_tensor).shuffle(tf.shape(input_tensor, out_type=tf.int64)[0]).repeat(num_epochs)`. If `shuffle=False`, omit the `.shuffle(...)`.\n",
      "W0813 19:23:02.337699 140202737137088 deprecation.py:323] From /usr/local/lib/python2.7/dist-packages/tensorflow/python/training/input.py:278: input_producer (from tensorflow.python.training.input) is deprecated and will be removed in a future version.\n",
      "Instructions for updating:\n",
      "Queue-based input pipelines have been replaced by `tf.data`. Use `tf.data.Dataset.from_tensor_slices(input_tensor).shuffle(tf.shape(input_tensor, out_type=tf.int64)[0]).repeat(num_epochs)`. If `shuffle=False`, omit the `.shuffle(...)`.\n",
      "W0813 19:23:02.338947 140202737137088 deprecation.py:323] From /usr/local/lib/python2.7/dist-packages/tensorflow/python/training/input.py:190: limit_epochs (from tensorflow.python.training.input) is deprecated and will be removed in a future version.\n",
      "Instructions for updating:\n",
      "Queue-based input pipelines have been replaced by `tf.data`. Use `tf.data.Dataset.from_tensors(tensor).repeat(num_epochs)`.\n",
      "W0813 19:23:02.340630 140202737137088 deprecation.py:323] From /usr/local/lib/python2.7/dist-packages/tensorflow/python/training/input.py:199: __init__ (from tensorflow.python.training.queue_runner_impl) is deprecated and will be removed in a future version.\n",
      "Instructions for updating:\n",
      "To construct input pipelines, use the `tf.data` module.\n",
      "W0813 19:23:02.341605 140202737137088 deprecation.py:323] From /usr/local/lib/python2.7/dist-packages/tensorflow/python/training/input.py:199: add_queue_runner (from tensorflow.python.training.queue_runner_impl) is deprecated and will be removed in a future version.\n",
      "Instructions for updating:\n",
      "To construct input pipelines, use the `tf.data` module.\n",
      "W0813 19:23:02.346174 140202737137088 deprecation.py:323] From CNNTrainer/model.py:54: __init__ (from tensorflow.python.ops.io_ops) is deprecated and will be removed in a future version.\n",
      "Instructions for updating:\n",
      "Queue-based input pipelines have been replaced by `tf.data`. Use `tf.data.TextLineDataset`.\n",
      "W0813 19:23:02.348881 140202737137088 deprecation_wrapper.py:119] From CNNTrainer/model.py:60: The name tf.decode_csv is deprecated. Please use tf.io.decode_csv instead.\n",
      "\n",
      "I0813 19:23:02.417305 140202737137088 estimator.py:1145] Calling model_fn.\n",
      "W0813 19:23:02.418956 140202737137088 deprecation_wrapper.py:119] From CNNTrainer/model.py:76: The name tf.layers.Conv1D is deprecated. Please use tf.compat.v1.layers.Conv1D instead.\n",
      "\n",
      "W0813 19:23:02.423073 140202737137088 deprecation.py:506] From /usr/local/lib/python2.7/dist-packages/tensorflow/python/ops/init_ops.py:1251: calling __init__ (from tensorflow.python.ops.init_ops) with dtype is deprecated and will be removed in a future version.\n",
      "Instructions for updating:\n",
      "Call initializer instance with the dtype argument instead of passing it to the constructor\n",
      "W0813 19:23:02.667856 140202737137088 deprecation_wrapper.py:119] From CNNTrainer/model.py:80: The name tf.layers.MaxPooling1D is deprecated. Please use tf.compat.v1.layers.MaxPooling1D instead.\n",
      "\n",
      "W0813 19:23:03.318901 140202737137088 deprecation_wrapper.py:119] From CNNTrainer/model.py:89: The name tf.layers.Flatten is deprecated. Please use tf.compat.v1.layers.Flatten instead.\n",
      "\n",
      "W0813 19:23:03.564024 140202737137088 deprecation_wrapper.py:119] From CNNTrainer/model.py:90: The name tf.layers.Dense is deprecated. Please use tf.compat.v1.layers.Dense instead.\n",
      "\n",
      "W0813 19:23:03.847075 140202737137088 deprecation_wrapper.py:119] From CNNTrainer/model.py:123: The name tf.losses.mean_squared_error is deprecated. Please use tf.compat.v1.losses.mean_squared_error instead.\n",
      "\n",
      "W0813 19:23:03.876750 140202737137088 deprecation.py:323] From /usr/local/lib/python2.7/dist-packages/tensorflow/python/ops/losses/losses_impl.py:121: where (from tensorflow.python.ops.array_ops) is deprecated and will be removed in a future version.\n",
      "Instructions for updating:\n",
      "Use tf.where in 2.0, which has the same broadcast rule as np.where\n",
      "W0813 19:23:03.898988 140202737137088 deprecation_wrapper.py:119] From CNNTrainer/model.py:124: The name tf.metrics.root_mean_squared_error is deprecated. Please use tf.compat.v1.metrics.root_mean_squared_error instead.\n",
      "\n",
      "W0813 19:23:03.912795 140202737137088 deprecation_wrapper.py:119] From CNNTrainer/model.py:142: The name tf.get_collection is deprecated. Please use tf.compat.v1.get_collection instead.\n",
      "\n",
      "W0813 19:23:03.913043 140202737137088 deprecation_wrapper.py:119] From CNNTrainer/model.py:142: The name tf.GraphKeys is deprecated. Please use tf.compat.v1.GraphKeys instead.\n",
      "\n",
      "W0813 19:23:09.346514 140202737137088 lazy_loader.py:50] \n",
      "The TensorFlow contrib module will not be included in TensorFlow 2.0.\n",
      "For more information, please see:\n",
      "  * https://github.com/tensorflow/community/blob/master/rfcs/20180907-contrib-sunset.md\n",
      "  * https://github.com/tensorflow/addons\n",
      "  * https://github.com/tensorflow/io (for I/O related ops)\n",
      "If you depend on functionality not listed there, please file an issue.\n",
      "\n",
      "W0813 19:23:09.346901 140202737137088 deprecation_wrapper.py:119] From CNNTrainer/model.py:147: The name tf.train.get_global_step is deprecated. Please use tf.compat.v1.train.get_global_step instead.\n",
      "\n",
      "I0813 19:23:09.654335 140202737137088 estimator.py:1147] Done calling model_fn.\n",
      "I0813 19:23:09.655942 140202737137088 basic_session_run_hooks.py:541] Create CheckpointSaverHook.\n",
      "I0813 19:23:09.954144 140202737137088 monitored_session.py:240] Graph was finalized.\n",
      "2019-08-13 19:23:09.954626: I tensorflow/core/platform/cpu_feature_guard.cc:145] This TensorFlow binary is optimized with Intel(R) MKL-DNN to use the following CPU instructions in performance critical operations:  AVX2 FMA\n",
      "To enable them in non-MKL-DNN operations, rebuild TensorFlow with the appropriate compiler flags.\n",
      "2019-08-13 19:23:10.281304: I tensorflow/core/platform/profile_utils/cpu_utils.cc:94] CPU Frequency: 2200000000 Hz\n",
      "2019-08-13 19:23:10.282755: I tensorflow/compiler/xla/service/service.cc:168] XLA service 0x55f8a4ad2780 executing computations on platform Host. Devices:\n",
      "2019-08-13 19:23:10.282805: I tensorflow/compiler/xla/service/service.cc:175]   StreamExecutor device (0): <undefined>, <undefined>\n",
      "2019-08-13 19:23:10.285468: I tensorflow/core/common_runtime/process_util.cc:115] Creating new thread pool with default inter op setting: 2. Tune using inter_op_parallelism_threads for best performance.\n",
      "2019-08-13 19:23:10.769682: W tensorflow/compiler/jit/mark_for_compilation_pass.cc:1412] (One-time warning): Not using XLA:CPU for cluster because envvar TF_XLA_FLAGS=--tf_xla_cpu_global_jit was not set.  If you want XLA:CPU, either set that envvar, or use experimental_jit_scope to enable XLA:CPU.  To confirm that XLA is active, pass --vmodule=xla_compilation_cache=1 (as a proper command-line flag, not via TF_XLA_FLAGS) or set the envvar XLA_FLAGS=--xla_hlo_profile.\n",
      "I0813 19:23:11.169050 140202737137088 session_manager.py:500] Running local_init_op.\n",
      "I0813 19:23:11.465790 140202737137088 session_manager.py:502] Done running local_init_op.\n",
      "W0813 19:23:11.513943 140202737137088 deprecation.py:323] From /usr/local/lib/python2.7/dist-packages/tensorflow/python/training/monitored_session.py:875: start_queue_runners (from tensorflow.python.training.queue_runner_impl) is deprecated and will be removed in a future version.\n",
      "Instructions for updating:\n",
      "To construct input pipelines, use the `tf.data` module.\n",
      "I0813 19:23:11.812043 140202737137088 basic_session_run_hooks.py:606] Saving checkpoints for 0 into manhattan_localmodel/model.ckpt.\n",
      "I0813 19:23:14.115539 140202737137088 basic_session_run_hooks.py:262] loss = 262.2294, step = 1\n",
      "I0813 19:23:14.116436 140202737137088 basic_session_run_hooks.py:606] Saving checkpoints for 1 into manhattan_localmodel/model.ckpt.\n",
      "I0813 19:23:14.310807 140202737137088 estimator.py:1145] Calling model_fn.\n",
      "I0813 19:23:14.421173 140202737137088 estimator.py:1147] Done calling model_fn.\n",
      "I0813 19:23:14.441490 140202737137088 evaluation.py:255] Starting evaluation at 2019-08-13T19:23:14Z\n",
      "I0813 19:23:14.657489 140202737137088 monitored_session.py:240] Graph was finalized.\n",
      "W0813 19:23:14.658181 140202737137088 deprecation.py:323] From /usr/local/lib/python2.7/dist-packages/tensorflow/python/training/saver.py:1276: checkpoint_exists (from tensorflow.python.training.checkpoint_management) is deprecated and will be removed in a future version.\n",
      "Instructions for updating:\n",
      "Use standard file APIs to check for files with this prefix.\n",
      "I0813 19:23:14.659691 140202737137088 saver.py:1280] Restoring parameters from manhattan_localmodel/model.ckpt-1\n",
      "I0813 19:23:14.718872 140202737137088 session_manager.py:500] Running local_init_op.\n",
      "I0813 19:23:14.833878 140202737137088 session_manager.py:502] Done running local_init_op.\n",
      "I0813 19:23:16.808022 140202737137088 evaluation.py:167] Evaluation [10/100]\n",
      "I0813 19:23:18.041459 140202737137088 evaluation.py:167] Evaluation [20/100]\n",
      "I0813 19:23:19.101944 140202737137088 evaluation.py:167] Evaluation [30/100]\n",
      "I0813 19:23:20.221466 140202737137088 evaluation.py:167] Evaluation [40/100]\n",
      "I0813 19:23:21.467564 140202737137088 evaluation.py:167] Evaluation [50/100]\n",
      "I0813 19:23:22.743645 140202737137088 evaluation.py:167] Evaluation [60/100]\n",
      "I0813 19:23:23.929583 140202737137088 evaluation.py:167] Evaluation [70/100]\n",
      "I0813 19:23:25.182616 140202737137088 evaluation.py:167] Evaluation [80/100]\n",
      "I0813 19:23:26.370141 140202737137088 evaluation.py:167] Evaluation [90/100]\n",
      "I0813 19:23:27.606758 140202737137088 evaluation.py:167] Evaluation [100/100]\n",
      "I0813 19:23:27.770742 140202737137088 evaluation.py:275] Finished evaluation at 2019-08-13-19:23:27\n",
      "I0813 19:23:27.771111 140202737137088 estimator.py:2039] Saving dict for global step 1: global_step = 1, loss = 592.24506, rmse = 24.336067\n",
      "I0813 19:23:27.822707 140202737137088 estimator.py:2099] Saving 'checkpoint_path' summary for global step 1: manhattan_localmodel/model.ckpt-1\n",
      "W0813 19:23:27.828202 140202737137088 deprecation_wrapper.py:119] From CNNTrainer/model.py:99: The name tf.placeholder is deprecated. Please use tf.compat.v1.placeholder instead.\n",
      "\n",
      "I0813 19:23:27.830821 140202737137088 estimator.py:1145] Calling model_fn.\n",
      "I0813 19:23:27.903165 140202737137088 estimator.py:1147] Done calling model_fn.\n",
      "W0813 19:23:27.903501 140202737137088 deprecation.py:323] From /usr/local/lib/python2.7/dist-packages/tensorflow/python/saved_model/signature_def_utils_impl.py:201: build_tensor_info (from tensorflow.python.saved_model.utils_impl) is deprecated and will be removed in a future version.\n",
      "Instructions for updating:\n",
      "This function will only be available through the v1 compatibility library as tf.compat.v1.saved_model.utils.build_tensor_info or tf.compat.v1.saved_model.build_tensor_info.\n",
      "I0813 19:23:27.903877 140202737137088 export_utils.py:170] Signatures INCLUDED in export for Eval: None\n",
      "I0813 19:23:27.903980 140202737137088 export_utils.py:170] Signatures INCLUDED in export for Classify: None\n",
      "I0813 19:23:27.904067 140202737137088 export_utils.py:170] Signatures INCLUDED in export for Regress: None\n",
      "I0813 19:23:27.904153 140202737137088 export_utils.py:170] Signatures INCLUDED in export for Predict: ['serving_default', 'predictions']\n",
      "I0813 19:23:27.904227 140202737137088 export_utils.py:170] Signatures INCLUDED in export for Train: None\n",
      "I0813 19:23:27.923954 140202737137088 saver.py:1280] Restoring parameters from manhattan_localmodel/model.ckpt-1\n",
      "I0813 19:23:27.950668 140202737137088 builder_impl.py:661] Assets added to graph.\n",
      "I0813 19:23:27.950932 140202737137088 builder_impl.py:456] No assets to write.\n",
      "I0813 19:23:27.987138 140202737137088 builder_impl.py:421] SavedModel written to: manhattan_localmodel/export/exporter/temp-1565724207/saved_model.pb\n",
      "I0813 19:23:28.010620 140202737137088 estimator.py:368] Loss for final step: 262.2294.\n"
     ]
    }
   ],
   "source": [
    "%%bash\n",
    "rm -rf manhattan_localmodel\n",
    "python -m CNNTrainer.task \\\n",
    "  --train_data_paths=gs://${BUCKET}/data/manhattan_train.csv \\\n",
    "  --eval_data_paths=gs://${BUCKET}/data/manhattan_eval.csv \\\n",
    "  --output_dir=manhattan_localmodel \\\n",
    "  --job-dir=./tmp \\\n",
    "  --train_steps=1"
   ]
  },
  {
   "cell_type": "markdown",
   "metadata": {},
   "source": [
    "### Since one of the Models works fine locally. It means the Model code is good to be deployed. I will go ahead and run the code for all the Model on the AI Platform."
   ]
  },
  {
   "cell_type": "markdown",
   "metadata": {},
   "source": [
    "   "
   ]
  },
  {
   "cell_type": "markdown",
   "metadata": {},
   "source": [
    "   "
   ]
  },
  {
   "cell_type": "markdown",
   "metadata": {},
   "source": [
    "   "
   ]
  },
  {
   "cell_type": "markdown",
   "metadata": {},
   "source": [
    "## Run the Model on AI Jobs"
   ]
  },
  {
   "cell_type": "markdown",
   "metadata": {},
   "source": [
    "**1. Manhattan**"
   ]
  },
  {
   "cell_type": "code",
   "execution_count": 10,
   "metadata": {},
   "outputs": [
    {
     "name": "stdout",
     "output_type": "stream",
     "text": [
      "jobId: manhattan_collisions_190813_194137_v19\n",
      "state: QUEUED\n"
     ]
    },
    {
     "name": "stderr",
     "output_type": "stream",
     "text": [
      "CommandException: No URLs matched: gs://nyc_collision_model/out/trained_trial_manhattan\n",
      "Job [manhattan_collisions_190813_194137_v19] submitted successfully.\n",
      "Your job is still active. You may view the status of your job with the command\n",
      "\n",
      "  $ gcloud ai-platform jobs describe manhattan_collisions_190813_194137_v19\n",
      "\n",
      "or continue streaming the logs with the command\n",
      "\n",
      "  $ gcloud ai-platform jobs stream-logs manhattan_collisions_190813_194137_v19\n"
     ]
    }
   ],
   "source": [
    "%%bash\n",
    "gsutil rm -r gs://${BUCKET}/out/trained_trial_manhattan\n",
    "JOBNAME=manhattan_collisions_$(date -u +%y%m%d_%H%M%S_v19)\n",
    "gcloud ai-platform jobs submit training $JOBNAME \\\n",
    "  --job-dir=gs://${BUCKET}/out/trained_trial_manhattan \\\n",
    "  --package-path=${PWD}/CNNTrainer \\\n",
    "  --module-name=CNNTrainer.task \\\n",
    "  --region=us-central1 \\\n",
    "  --config=data/hparams.yaml \\\n",
    "  --runtime-version=1.8 \\\n",
    "  --scale-tier=BASIC \\\n",
    "  -- \\\n",
    "  --train_data_paths=gs://${BUCKET}/data/manhattan_train.csv \\\n",
    "  --eval_data_paths=gs://${BUCKET}/data/manhattan_eval.csv  \\\n",
    "  --output_dir=gs://${BUCKET}/out/trained_trial_manhattan"
   ]
  },
  {
   "cell_type": "markdown",
   "metadata": {},
   "source": [
    "**2. Brooklyn**"
   ]
  },
  {
   "cell_type": "code",
   "execution_count": 11,
   "metadata": {},
   "outputs": [
    {
     "name": "stdout",
     "output_type": "stream",
     "text": [
      "jobId: brooklyn_collisions_190813_194150_v19\n",
      "state: QUEUED\n"
     ]
    },
    {
     "name": "stderr",
     "output_type": "stream",
     "text": [
      "Removing gs://nyc_collision_model/out/trained_trial_brooklyn/#1565725212252434...\n",
      "Removing gs://nyc_collision_model/out/trained_trial_brooklyn/2/#1565725217690410...\n",
      "Removing gs://nyc_collision_model/out/trained_trial_brooklyn/2/checkpoint#1565725219619473...\n",
      "Removing gs://nyc_collision_model/out/trained_trial_brooklyn/2/eval/#1565725289257767...\n",
      "/ [4 objects]                                                                   \n",
      "==> NOTE: You are performing a sequence of gsutil operations that may\n",
      "run significantly faster if you instead use gsutil -m rm ... Please\n",
      "see the -m section under \"gsutil help options\" for further information\n",
      "about when gsutil -m can be advantageous.\n",
      "\n",
      "Removing gs://nyc_collision_model/out/trained_trial_brooklyn/2/eval/events.out.tfevents.1565725289.cmle-training-3814349269882637273#1565725290917254...\n",
      "Removing gs://nyc_collision_model/out/trained_trial_brooklyn/2/events.out.tfevents.1565725212.cmle-training-3814349269882637273#1565725212976984...\n",
      "Removing gs://nyc_collision_model/out/trained_trial_brooklyn/2/export/#1565725292083441...\n",
      "Removing gs://nyc_collision_model/out/trained_trial_brooklyn/2/export/exporter/#1565725292329967...\n",
      "Removing gs://nyc_collision_model/out/trained_trial_brooklyn/2/export/exporter/1565725291/#1565725297545541...\n",
      "Removing gs://nyc_collision_model/out/trained_trial_brooklyn/2/export/exporter/1565725291/saved_model.pb#1565725297864570...\n",
      "Removing gs://nyc_collision_model/out/trained_trial_brooklyn/2/export/exporter/1565725291/variables/#1565725298173151...\n",
      "Removing gs://nyc_collision_model/out/trained_trial_brooklyn/2/export/exporter/1565725291/variables/variables.data-00000-of-00001#1565725298481901...\n",
      "Removing gs://nyc_collision_model/out/trained_trial_brooklyn/2/export/exporter/1565725291/variables/variables.index#1565725298776283...\n",
      "Removing gs://nyc_collision_model/out/trained_trial_brooklyn/2/graph.pbtxt#1565725214487744...\n",
      "Removing gs://nyc_collision_model/out/trained_trial_brooklyn/2/model.ckpt-1.data-00000-of-00001#1565725218259603...\n",
      "Removing gs://nyc_collision_model/out/trained_trial_brooklyn/2/model.ckpt-1.index#1565725218748810...\n",
      "Removing gs://nyc_collision_model/out/trained_trial_brooklyn/2/model.ckpt-1.meta#1565725220498093...\n",
      "Removing gs://nyc_collision_model/out/trained_trial_brooklyn/2/model.ckpt-2_temp_6fd2b285d9a14075899f8d6097f28be9/#1565725299645296...\n",
      "Removing gs://nyc_collision_model/out/trained_trial_brooklyn/2/model.ckpt-2_temp_6fd2b285d9a14075899f8d6097f28be9/part-00000-of-00001.data-00000-of-00001#1565725300593674...\n",
      "Removing gs://nyc_collision_model/out/trained_trial_brooklyn/2/model.ckpt-2_temp_6fd2b285d9a14075899f8d6097f28be9/part-00000-of-00001.data-00000-of-00001.tempstate9372001441039778576#1565725300267262...\n",
      "Removing gs://nyc_collision_model/out/trained_trial_brooklyn/3/#1565725277746216...\n",
      "Removing gs://nyc_collision_model/out/trained_trial_brooklyn/3/checkpoint#1565725279623012...\n",
      "Removing gs://nyc_collision_model/out/trained_trial_brooklyn/3/eval/#1565725253079768...\n",
      "Removing gs://nyc_collision_model/out/trained_trial_brooklyn/3/eval/events.out.tfevents.1565725253.cmle-training-9282700591912473732#1565725254879913...\n",
      "Removing gs://nyc_collision_model/out/trained_trial_brooklyn/3/events.out.tfevents.1565725212.cmle-training-9282700591912473732#1565725213310090...\n",
      "Removing gs://nyc_collision_model/out/trained_trial_brooklyn/3/export/#1565725256056613...\n",
      "Removing gs://nyc_collision_model/out/trained_trial_brooklyn/3/export/exporter/#1565725256438508...\n",
      "Removing gs://nyc_collision_model/out/trained_trial_brooklyn/3/export/exporter/1565725255/#1565725261422516...\n",
      "Removing gs://nyc_collision_model/out/trained_trial_brooklyn/3/export/exporter/1565725255/saved_model.pb#1565725261756946...\n",
      "Removing gs://nyc_collision_model/out/trained_trial_brooklyn/3/export/exporter/1565725255/variables/#1565725262076798...\n",
      "Removing gs://nyc_collision_model/out/trained_trial_brooklyn/3/export/exporter/1565725255/variables/variables.data-00000-of-00001#1565725262370535...\n",
      "Removing gs://nyc_collision_model/out/trained_trial_brooklyn/3/export/exporter/1565725255/variables/variables.index#1565725262723474...\n",
      "Removing gs://nyc_collision_model/out/trained_trial_brooklyn/3/graph.pbtxt#1565725214797789...\n",
      "Removing gs://nyc_collision_model/out/trained_trial_brooklyn/3/model.ckpt-1.data-00000-of-00001#1565725218244653...\n",
      "Removing gs://nyc_collision_model/out/trained_trial_brooklyn/3/model.ckpt-1.index#1565725218646497...\n",
      "Removing gs://nyc_collision_model/out/trained_trial_brooklyn/3/model.ckpt-1.meta#1565725220451537...\n",
      "Removing gs://nyc_collision_model/out/trained_trial_brooklyn/3/model.ckpt-170.data-00000-of-00001#1565725278221568...\n",
      "Removing gs://nyc_collision_model/out/trained_trial_brooklyn/3/model.ckpt-170.index#1565725278635167...\n",
      "Removing gs://nyc_collision_model/out/trained_trial_brooklyn/3/model.ckpt-170.meta#1565725280523815...\n",
      "/ [39 objects]                                                                  \n",
      "==> NOTE: You are performing a sequence of gsutil operations that may\n",
      "run significantly faster if you instead use gsutil -m rm ... Please\n",
      "see the -m section under \"gsutil help options\" for further information\n",
      "about when gsutil -m can be advantageous.\n",
      "\n",
      "\n",
      "Operation completed over 39 objects.                                             \n",
      "Job [brooklyn_collisions_190813_194150_v19] submitted successfully.\n",
      "Your job is still active. You may view the status of your job with the command\n",
      "\n",
      "  $ gcloud ai-platform jobs describe brooklyn_collisions_190813_194150_v19\n",
      "\n",
      "or continue streaming the logs with the command\n",
      "\n",
      "  $ gcloud ai-platform jobs stream-logs brooklyn_collisions_190813_194150_v19\n"
     ]
    }
   ],
   "source": [
    "%%bash\n",
    "gsutil rm -r gs://${BUCKET}/out/trained_trial_brooklyn\n",
    "JOBNAME=brooklyn_collisions_$(date -u +%y%m%d_%H%M%S_v19)\n",
    "gcloud ai-platform jobs submit training $JOBNAME \\\n",
    "  --job-dir=gs://${BUCKET}/out/trained_trial_brooklyn \\\n",
    "  --package-path=${PWD}/CNNTrainer \\\n",
    "  --module-name=CNNTrainer.task \\\n",
    "  --region=us-central1 \\\n",
    "  --config=data/hparams.yaml \\\n",
    "  --runtime-version=1.8 \\\n",
    "  --scale-tier=BASIC \\\n",
    "  -- \\\n",
    "  --train_data_paths=gs://${BUCKET}/data/brooklyn_train.csv \\\n",
    "  --eval_data_paths=gs://${BUCKET}/data/brooklyn_eval.csv  \\\n",
    "  --output_dir=gs://${BUCKET}/out/trained_trial_brooklyn"
   ]
  },
  {
   "cell_type": "markdown",
   "metadata": {},
   "source": [
    "**3. Queens**"
   ]
  },
  {
   "cell_type": "code",
   "execution_count": 12,
   "metadata": {},
   "outputs": [
    {
     "name": "stdout",
     "output_type": "stream",
     "text": [
      "jobId: queens_collisions_190813_194154_v19\n",
      "state: QUEUED\n"
     ]
    },
    {
     "name": "stderr",
     "output_type": "stream",
     "text": [
      "CommandException: No URLs matched: gs://nyc_collision_model/out/trained_trial_queens\n",
      "Job [queens_collisions_190813_194154_v19] submitted successfully.\n",
      "Your job is still active. You may view the status of your job with the command\n",
      "\n",
      "  $ gcloud ai-platform jobs describe queens_collisions_190813_194154_v19\n",
      "\n",
      "or continue streaming the logs with the command\n",
      "\n",
      "  $ gcloud ai-platform jobs stream-logs queens_collisions_190813_194154_v19\n"
     ]
    }
   ],
   "source": [
    "%%bash\n",
    "gsutil rm -r gs://${BUCKET}/out/trained_trial_queens\n",
    "JOBNAME=queens_collisions_$(date -u +%y%m%d_%H%M%S_v19)\n",
    "gcloud ai-platform jobs submit training $JOBNAME \\\n",
    "  --job-dir=gs://${BUCKET}/out/trained_trial_queens \\\n",
    "  --package-path=${PWD}/CNNTrainer \\\n",
    "  --module-name=CNNTrainer.task \\\n",
    "  --region=us-central1 \\\n",
    "  --config=data/hparams.yaml \\\n",
    "  --runtime-version=1.8 \\\n",
    "  --scale-tier=BASIC \\\n",
    "  -- \\\n",
    "  --train_data_paths=gs://${BUCKET}/data/queens_train.csv \\\n",
    "  --eval_data_paths=gs://${BUCKET}/data/queens_eval.csv  \\\n",
    "  --output_dir=gs://${BUCKET}/out/trained_trial_queens"
   ]
  },
  {
   "cell_type": "markdown",
   "metadata": {},
   "source": [
    "**4. Bronx**"
   ]
  },
  {
   "cell_type": "code",
   "execution_count": 13,
   "metadata": {},
   "outputs": [
    {
     "name": "stdout",
     "output_type": "stream",
     "text": [
      "jobId: bronx_collisions_190813_194159_v19\n",
      "state: QUEUED\n"
     ]
    },
    {
     "name": "stderr",
     "output_type": "stream",
     "text": [
      "CommandException: No URLs matched: gs://nyc_collision_model/out/trained_trial_bronx\n",
      "Job [bronx_collisions_190813_194159_v19] submitted successfully.\n",
      "Your job is still active. You may view the status of your job with the command\n",
      "\n",
      "  $ gcloud ai-platform jobs describe bronx_collisions_190813_194159_v19\n",
      "\n",
      "or continue streaming the logs with the command\n",
      "\n",
      "  $ gcloud ai-platform jobs stream-logs bronx_collisions_190813_194159_v19\n"
     ]
    }
   ],
   "source": [
    "%%bash\n",
    "gsutil rm -r gs://${BUCKET}/out/trained_trial_bronx\n",
    "JOBNAME=bronx_collisions_$(date -u +%y%m%d_%H%M%S_v19)\n",
    "gcloud ai-platform jobs submit training $JOBNAME \\\n",
    "  --job-dir=gs://${BUCKET}/out/trained_trial_bronx \\\n",
    "  --package-path=${PWD}/CNNTrainer \\\n",
    "  --module-name=CNNTrainer.task \\\n",
    "  --region=us-central1 \\\n",
    "  --config=data/hparams.yaml \\\n",
    "  --runtime-version=1.8 \\\n",
    "  --scale-tier=BASIC \\\n",
    "  -- \\\n",
    "  --train_data_paths=gs://${BUCKET}/data/bronx_train.csv \\\n",
    "  --eval_data_paths=gs://${BUCKET}/data/bronx_eval.csv  \\\n",
    "  --output_dir=gs://${BUCKET}/out/trained_trial_bronx"
   ]
  },
  {
   "cell_type": "markdown",
   "metadata": {},
   "source": [
    "**5. Staten Islands**"
   ]
  },
  {
   "cell_type": "code",
   "execution_count": 14,
   "metadata": {},
   "outputs": [
    {
     "name": "stdout",
     "output_type": "stream",
     "text": [
      "jobId: statenisland_collisions_190813_194204_v19\n",
      "state: QUEUED\n"
     ]
    },
    {
     "name": "stderr",
     "output_type": "stream",
     "text": [
      "CommandException: No URLs matched: gs://nyc_collision_model/out/trained_trial_statenisland\n",
      "Job [statenisland_collisions_190813_194204_v19] submitted successfully.\n",
      "Your job is still active. You may view the status of your job with the command\n",
      "\n",
      "  $ gcloud ai-platform jobs describe statenisland_collisions_190813_194204_v19\n",
      "\n",
      "or continue streaming the logs with the command\n",
      "\n",
      "  $ gcloud ai-platform jobs stream-logs statenisland_collisions_190813_194204_v19\n"
     ]
    }
   ],
   "source": [
    "%%bash\n",
    "gsutil rm -r gs://${BUCKET}/out/trained_trial_statenisland\n",
    "JOBNAME=statenisland_collisions_$(date -u +%y%m%d_%H%M%S_v19)\n",
    "gcloud ai-platform jobs submit training $JOBNAME \\\n",
    "  --job-dir=gs://${BUCKET}/out/trained_trial_statenisland \\\n",
    "  --package-path=${PWD}/CNNTrainer \\\n",
    "  --module-name=CNNTrainer.task \\\n",
    "  --region=us-central1 \\\n",
    "  --config=data/hparams.yaml \\\n",
    "  --runtime-version=1.8 \\\n",
    "  --scale-tier=BASIC \\\n",
    "  -- \\\n",
    "  --train_data_paths=gs://${BUCKET}/data/statenisland_train.csv \\\n",
    "  --eval_data_paths=gs://${BUCKET}/data/statenisland_eval.csv  \\\n",
    "  --output_dir=gs://${BUCKET}/out/trained_trial_statenisland"
   ]
  },
  {
   "cell_type": "markdown",
   "metadata": {},
   "source": [
    "   "
   ]
  },
  {
   "cell_type": "markdown",
   "metadata": {},
   "source": [
    "   "
   ]
  },
  {
   "cell_type": "markdown",
   "metadata": {},
   "source": [
    "![Models training on AI Platform](Images/6.png)"
   ]
  },
  {
   "cell_type": "markdown",
   "metadata": {},
   "source": [
    "   "
   ]
  },
  {
   "cell_type": "markdown",
   "metadata": {},
   "source": [
    "  "
   ]
  },
  {
   "cell_type": "markdown",
   "metadata": {},
   "source": [
    "### Deploying Models on GCP"
   ]
  },
  {
   "cell_type": "markdown",
   "metadata": {},
   "source": [
    "**1. Manhattan**"
   ]
  },
  {
   "cell_type": "code",
   "execution_count": 11,
   "metadata": {},
   "outputs": [
    {
     "name": "stderr",
     "output_type": "stream",
     "text": [
      "WARNING: `--regions` flag will soon be required. Please explicitly specify a region. Using [us-central1] by default.\n",
      "Created ml engine model [projects/summerai/models/manhattan_pred].\n",
      "Creating version (this might take a few minutes)......\n",
      ".........................................................................................................................................................................................................................................................................done.\n"
     ]
    }
   ],
   "source": [
    "%%bash\n",
    "REGION='us-central1'\n",
    "MODEL_NAME=manhattan_pred\n",
    "MODEL_VERSION=\"v1\"\n",
    "gcloud ai-platform models create $MODEL_NAME\n",
    "\n",
    "TRIAL=38\n",
    "MODEL_LOCATION=$(gsutil ls gs://${BUCKET}/out/trained_trial_manhattan/5/export/exporter | tail -1)\n",
    "\n",
    "gcloud ai-platform versions create ${MODEL_VERSION} \\\n",
    "  --model=${MODEL_NAME} --origin=${MODEL_LOCATION} \\\n",
    "  --runtime-version=1.8 "
   ]
  },
  {
   "cell_type": "markdown",
   "metadata": {},
   "source": [
    "**2. Brooklyn**"
   ]
  },
  {
   "cell_type": "code",
   "execution_count": 12,
   "metadata": {},
   "outputs": [
    {
     "name": "stderr",
     "output_type": "stream",
     "text": [
      "WARNING: `--regions` flag will soon be required. Please explicitly specify a region. Using [us-central1] by default.\n",
      "Created ml engine model [projects/summerai/models/brooklyn_pred].\n",
      "Creating version (this might take a few minutes)......\n",
      ".............................................................................................................................................................................................................................................................................................................................................................................................................................................................................................................................................................................done.\n"
     ]
    }
   ],
   "source": [
    "%%bash\n",
    "REGION='us-central1'\n",
    "MODEL_NAME=brooklyn_pred\n",
    "MODEL_VERSION=\"v1\"\n",
    "gcloud ai-platform models create $MODEL_NAME\n",
    "\n",
    "TRIAL=38\n",
    "MODEL_LOCATION=$(gsutil ls gs://${BUCKET}/out/trained_trial_brooklyn/7/export/exporter | tail -1)\n",
    "\n",
    "gcloud ai-platform versions create ${MODEL_VERSION} \\\n",
    "  --model=${MODEL_NAME} --origin=${MODEL_LOCATION} \\\n",
    "  --runtime-version=1.8 "
   ]
  },
  {
   "cell_type": "markdown",
   "metadata": {},
   "source": [
    "**3. Queens**"
   ]
  },
  {
   "cell_type": "code",
   "execution_count": 13,
   "metadata": {},
   "outputs": [
    {
     "name": "stderr",
     "output_type": "stream",
     "text": [
      "WARNING: `--regions` flag will soon be required. Please explicitly specify a region. Using [us-central1] by default.\n",
      "Created ml engine model [projects/summerai/models/queens_pred].\n",
      "Creating version (this might take a few minutes)......\n",
      "...............................................................................................................................................................................................................................................done.\n"
     ]
    }
   ],
   "source": [
    "%%bash\n",
    "REGION='us-central1'\n",
    "MODEL_NAME=queens_pred\n",
    "MODEL_VERSION=\"v1\"\n",
    "gcloud ai-platform models create $MODEL_NAME\n",
    "\n",
    "TRIAL=38\n",
    "MODEL_LOCATION=$(gsutil ls gs://${BUCKET}/out/trained_trial_queens/21/export/exporter | tail -1)\n",
    "\n",
    "gcloud ai-platform versions create ${MODEL_VERSION} \\\n",
    "  --model=${MODEL_NAME} --origin=${MODEL_LOCATION} \\\n",
    "  --runtime-version=1.8 "
   ]
  },
  {
   "cell_type": "markdown",
   "metadata": {},
   "source": [
    "**4. Bronx**"
   ]
  },
  {
   "cell_type": "code",
   "execution_count": 14,
   "metadata": {},
   "outputs": [
    {
     "name": "stderr",
     "output_type": "stream",
     "text": [
      "WARNING: `--regions` flag will soon be required. Please explicitly specify a region. Using [us-central1] by default.\n",
      "Created ml engine model [projects/summerai/models/bronx_pred].\n",
      "Creating version (this might take a few minutes)......\n",
      "...............................................................................................................................................................................................................................................done.\n"
     ]
    }
   ],
   "source": [
    "%%bash\n",
    "REGION='us-central1'\n",
    "MODEL_NAME=bronx_pred\n",
    "MODEL_VERSION=\"v1\"\n",
    "gcloud ai-platform models create $MODEL_NAME\n",
    "\n",
    "TRIAL=38\n",
    "MODEL_LOCATION=$(gsutil ls gs://${BUCKET}/out/trained_trial_bronx/8/export/exporter | tail -1)\n",
    "\n",
    "gcloud ai-platform versions create ${MODEL_VERSION} \\\n",
    "  --model=${MODEL_NAME} --origin=${MODEL_LOCATION} \\\n",
    "  --runtime-version=1.8 "
   ]
  },
  {
   "cell_type": "markdown",
   "metadata": {},
   "source": [
    "**5. Staten Islands**"
   ]
  },
  {
   "cell_type": "code",
   "execution_count": 15,
   "metadata": {},
   "outputs": [
    {
     "name": "stderr",
     "output_type": "stream",
     "text": [
      "WARNING: `--regions` flag will soon be required. Please explicitly specify a region. Using [us-central1] by default.\n",
      "Created ml engine model [projects/summerai/models/statenisland_pred].\n",
      "Creating version (this might take a few minutes)......\n",
      "...............................................................................................................................................................................................................................................done.\n"
     ]
    }
   ],
   "source": [
    "%%bash\n",
    "REGION='us-central1'\n",
    "MODEL_NAME=statenisland_pred\n",
    "MODEL_VERSION=\"v1\"\n",
    "gcloud ai-platform models create $MODEL_NAME\n",
    "\n",
    "TRIAL=38\n",
    "MODEL_LOCATION=$(gsutil ls gs://${BUCKET}/out/trained_trial_statenisland/7/export/exporter | tail -1)\n",
    "\n",
    "gcloud ai-platform versions create ${MODEL_VERSION} \\\n",
    "  --model=${MODEL_NAME} --origin=${MODEL_LOCATION} \\\n",
    "  --runtime-version=1.8 "
   ]
  },
  {
   "cell_type": "markdown",
   "metadata": {},
   "source": [
    "   "
   ]
  },
  {
   "cell_type": "markdown",
   "metadata": {},
   "source": [
    "   "
   ]
  },
  {
   "cell_type": "markdown",
   "metadata": {},
   "source": [
    "### Evaluation on Actual data"
   ]
  },
  {
   "cell_type": "code",
   "execution_count": 16,
   "metadata": {},
   "outputs": [],
   "source": [
    "from googleapiclient import discovery\n",
    "from oauth2client.client import GoogleCredentials\n",
    "import json"
   ]
  },
  {
   "cell_type": "code",
   "execution_count": 17,
   "metadata": {},
   "outputs": [],
   "source": [
    "import googleapiclient\n",
    "from googleapiclient.discovery_cache.base import Cache\n",
    "\n",
    "class MemoryCache(Cache):\n",
    "    _CACHE = {}\n",
    "\n",
    "    def get(self, url):\n",
    "        return MemoryCache._CACHE.get(url)\n",
    "\n",
    "    def set(self, url, content):\n",
    "        MemoryCache._CACHE[url] = content"
   ]
  },
  {
   "cell_type": "code",
   "execution_count": 18,
   "metadata": {},
   "outputs": [],
   "source": [
    "def generic_func_predictions(MODEL_NAME, data, test, dates):\n",
    "    credentials = GoogleCredentials.get_application_default()\n",
    "    api = discovery.build('ml', 'v1', credentials=credentials, cache=MemoryCache())\n",
    "\n",
    "    test = test\n",
    "    request_data = {\"instances\": [test]}\n",
    "    \n",
    "    parent = 'projects/{}/models/{}/versions/{}'.format(PROJECT, MODEL_NAME, 'v1')\n",
    "    response = api.projects().predict(body = request_data, name = parent).execute()\n",
    "    \n",
    "    actuals = pd.DataFrame(data[-30:])\n",
    "    actuals.reset_index(drop=True, inplace=True)\n",
    "    \n",
    "    preds = pd.Series(response['predictions'][0]['predicted'])\n",
    "\n",
    "    #print(dates.shape, actuals.shape, preds.shape)\n",
    "    forecast_df = pd.concat((dates,actuals,preds), axis = 1)\n",
    "    forecast_df.columns = [\"Date\", \"Actual\",\"Forecast\"]\n",
    "    forecast_df = forecast_df.fillna(0)\n",
    "    forecast_df = forecast_df.round()\n",
    "    \n",
    "    for i in range(0, len(forecast_df)):\n",
    "        if forecast_df.FORECAST[i] <= 0:\n",
    "            forecast_df.FORECAST[i] = 0\n",
    "\n",
    "    #print(forecast_df)\n",
    "    print('Total 30-day RMSE = {}'.format(((forecast_df['Actual'].iloc[:30] \\\n",
    "                                            - forecast_df['Forecast'].iloc[:30])**2).mean()**.5))\n",
    "    plt.figure(figsize=(16,8))\n",
    "    plt.plot(forecast_df.Actual, label = \"Test Value\")\n",
    "    plt.plot(forecast_df.Forecast, label = \"Predicted Value\")\n",
    "    plt.title(\"Actual v/s Forecast values\")\n",
    "    plt.legend()\n",
    "    plt.show()"
   ]
  },
  {
   "cell_type": "code",
   "execution_count": 21,
   "metadata": {},
   "outputs": [
    {
     "name": "stdout",
     "output_type": "stream",
     "text": [
      "Total 30-day RMSE = 5.391351098441528\n"
     ]
    },
    {
     "data": {
      "image/png": "[encoded data removed]",
      "text/plain": [
       "<Figure size 1152x576 with 1 Axes>"
      ]
     },
     "metadata": {
      "needs_background": "light"
     },
     "output_type": "display_data"
    }
   ],
   "source": [
    "generic_func_predictions('queens_pred', df3, test3, dates3)"
   ]
  },
  {
   "cell_type": "code",
   "execution_count": 23,
   "metadata": {},
   "outputs": [
    {
     "name": "stdout",
     "output_type": "stream",
     "text": [
      "Total 30-day RMSE = 0.9309493362512627\n"
     ]
    },
    {
     "data": {
      "image/png": "[encoded data removed]",
      "text/plain": [
       "<Figure size 1152x576 with 1 Axes>"
      ]
     },
     "metadata": {
      "needs_background": "light"
     },
     "output_type": "display_data"
    }
   ],
   "source": [
    "generic_func_predictions('statenisland_pred', df5, test5, dates5)"
   ]
  },
  {
   "cell_type": "code",
   "execution_count": null,
   "metadata": {},
   "outputs": [],
   "source": []
  },
  {
   "cell_type": "code",
   "execution_count": null,
   "metadata": {},
   "outputs": [],
   "source": []
  }
 ],
 "metadata": {
  "kernelspec": {
   "display_name": "Python 3",
   "language": "python",
   "name": "python3"
  },
  "language_info": {
   "codemirror_mode": {
    "name": "ipython",
    "version": 3
   },
   "file_extension": ".py",
   "mimetype": "text/x-python",
   "name": "python",
   "nbconvert_exporter": "python",
   "pygments_lexer": "ipython3",
   "version": "3.5.3"
  }
 },
 "nbformat": 4,
 "nbformat_minor": 2
}
