{
 "cells": [
  {
   "cell_type": "code",
   "execution_count": 1,
   "metadata": {},
   "outputs": [],
   "source": [
    "import pandas as pd\n",
    "import numpy as np\n",
    "import json\n",
    "import matplotlib.pyplot as plt\n",
    "import seaborn as sns\n",
    "import warnings\n",
    "warnings.filterwarnings('ignore')"
   ]
  },
  {
   "cell_type": "code",
   "execution_count": 4,
   "metadata": {},
   "outputs": [],
   "source": [
    "df = pd.read_csv('serviceRequestData/data0.csv')"
   ]
  },
  {
   "cell_type": "code",
   "execution_count": 5,
   "metadata": {},
   "outputs": [],
   "source": [
    "df = df[['incident_zip','location_type', 'community_board', 'agency', 'complaint_type',\n",
    "       'day_period', 'day_of_week', 'TimeTaken']]"
   ]
  },
  {
   "cell_type": "markdown",
   "metadata": {},
   "source": [
    "### Replacing the categorical variables with bin labels"
   ]
  },
  {
   "cell_type": "markdown",
   "metadata": {},
   "source": [
    "**1. incident_zip**"
   ]
  },
  {
   "cell_type": "code",
   "execution_count": 6,
   "metadata": {},
   "outputs": [],
   "source": [
    "with open('dict_clusters/zip1.json') as json_file:\n",
    "    data = json.load(json_file)"
   ]
  },
  {
   "cell_type": "code",
   "execution_count": 7,
   "metadata": {},
   "outputs": [],
   "source": [
    "keys = list(data.keys())"
   ]
  },
  {
   "cell_type": "code",
   "execution_count": 8,
   "metadata": {},
   "outputs": [],
   "source": [
    "zipp = []\n",
    "for i in range(len(df)):\n",
    "    flag = True\n",
    "    j = 0\n",
    "    \n",
    "    while(flag):\n",
    "        try:\n",
    "            if(int(df['incident_zip'][i]) in (data[keys[j]])):\n",
    "                zipp.append(keys[j])\n",
    "                flag = False\n",
    "        except:\n",
    "            zipp.append('zip_bin4')\n",
    "            flag = False\n",
    "        j = j + 1"
   ]
  },
  {
   "cell_type": "code",
   "execution_count": 9,
   "metadata": {},
   "outputs": [],
   "source": [
    "df['zip_encode'] = zipp"
   ]
  },
  {
   "cell_type": "code",
   "execution_count": 10,
   "metadata": {},
   "outputs": [
    {
     "data": {
      "text/html": [
       "<div>\n",
       "<style scoped>\n",
       "    .dataframe tbody tr th:only-of-type {\n",
       "        vertical-align: middle;\n",
       "    }\n",
       "\n",
       "    .dataframe tbody tr th {\n",
       "        vertical-align: top;\n",
       "    }\n",
       "\n",
       "    .dataframe thead th {\n",
       "        text-align: right;\n",
       "    }\n",
       "</style>\n",
       "<table border=\"1\" class=\"dataframe\">\n",
       "  <thead>\n",
       "    <tr style=\"text-align: right;\">\n",
       "      <th></th>\n",
       "      <th>incident_zip</th>\n",
       "      <th>location_type</th>\n",
       "      <th>community_board</th>\n",
       "      <th>agency</th>\n",
       "      <th>complaint_type</th>\n",
       "      <th>day_period</th>\n",
       "      <th>day_of_week</th>\n",
       "      <th>TimeTaken</th>\n",
       "      <th>zip_encode</th>\n",
       "    </tr>\n",
       "  </thead>\n",
       "  <tbody>\n",
       "    <tr>\n",
       "      <th>0</th>\n",
       "      <td>10040</td>\n",
       "      <td>NaN</td>\n",
       "      <td>12 MANHATTAN</td>\n",
       "      <td>DEP</td>\n",
       "      <td>Water Quality</td>\n",
       "      <td>evening</td>\n",
       "      <td>Wed-Thu</td>\n",
       "      <td>448.350</td>\n",
       "      <td>zip_bin2</td>\n",
       "    </tr>\n",
       "    <tr>\n",
       "      <th>1</th>\n",
       "      <td>10032</td>\n",
       "      <td>Street</td>\n",
       "      <td>12 MANHATTAN</td>\n",
       "      <td>DOT</td>\n",
       "      <td>Street Sign - Missing</td>\n",
       "      <td>afternoon</td>\n",
       "      <td>Wed-Thu</td>\n",
       "      <td>140.184</td>\n",
       "      <td>zip_bin2</td>\n",
       "    </tr>\n",
       "    <tr>\n",
       "      <th>2</th>\n",
       "      <td>10033</td>\n",
       "      <td>Property Address</td>\n",
       "      <td>12 MANHATTAN</td>\n",
       "      <td>DOF</td>\n",
       "      <td>DOF Property - Request Copy</td>\n",
       "      <td>morning</td>\n",
       "      <td>Wed-Thu</td>\n",
       "      <td>1.273</td>\n",
       "      <td>zip_bin2</td>\n",
       "    </tr>\n",
       "    <tr>\n",
       "      <th>3</th>\n",
       "      <td>10034</td>\n",
       "      <td>NaN</td>\n",
       "      <td>12 MANHATTAN</td>\n",
       "      <td>DOB</td>\n",
       "      <td>Elevator</td>\n",
       "      <td>evening</td>\n",
       "      <td>Mon-Tue</td>\n",
       "      <td>486.319</td>\n",
       "      <td>zip_bin2</td>\n",
       "    </tr>\n",
       "    <tr>\n",
       "      <th>4</th>\n",
       "      <td>10033</td>\n",
       "      <td>NaN</td>\n",
       "      <td>12 MANHATTAN</td>\n",
       "      <td>DOB</td>\n",
       "      <td>Elevator</td>\n",
       "      <td>afternoon</td>\n",
       "      <td>Fri-Sat-Sun</td>\n",
       "      <td>201.694</td>\n",
       "      <td>zip_bin2</td>\n",
       "    </tr>\n",
       "  </tbody>\n",
       "</table>\n",
       "</div>"
      ],
      "text/plain": [
       "  incident_zip     location_type community_board agency  \\\n",
       "0        10040               NaN    12 MANHATTAN    DEP   \n",
       "1        10032            Street    12 MANHATTAN    DOT   \n",
       "2        10033  Property Address    12 MANHATTAN    DOF   \n",
       "3        10034               NaN    12 MANHATTAN    DOB   \n",
       "4        10033               NaN    12 MANHATTAN    DOB   \n",
       "\n",
       "                complaint_type day_period  day_of_week  TimeTaken zip_encode  \n",
       "0                Water Quality    evening      Wed-Thu    448.350   zip_bin2  \n",
       "1        Street Sign - Missing  afternoon      Wed-Thu    140.184   zip_bin2  \n",
       "2  DOF Property - Request Copy    morning      Wed-Thu      1.273   zip_bin2  \n",
       "3                     Elevator    evening      Mon-Tue    486.319   zip_bin2  \n",
       "4                     Elevator  afternoon  Fri-Sat-Sun    201.694   zip_bin2  "
      ]
     },
     "execution_count": 10,
     "metadata": {},
     "output_type": "execute_result"
    }
   ],
   "source": [
    "df.head()"
   ]
  },
  {
   "cell_type": "markdown",
   "metadata": {},
   "source": [
    "   "
   ]
  },
  {
   "cell_type": "code",
   "execution_count": 3,
   "metadata": {},
   "outputs": [],
   "source": [
    "### This works for only the columns with String types\n",
    "def generic_func_encoding(df, filename, categ_var, exception, new_name):\n",
    "    with open(filename) as json_file:\n",
    "        data = json.load(json_file)\n",
    "\n",
    "    keys = list(data.keys())\n",
    "\n",
    "    zipp = []\n",
    "    for i in range(len(df)):\n",
    "        flag = True\n",
    "        j = 0\n",
    "\n",
    "        while(flag):\n",
    "            try:\n",
    "                if(df[categ_var][i] in (data[keys[j]])): ### make df[categ_var][i] to int(df[categ_var][i]) for int columns\n",
    "                    zipp.append(keys[j])\n",
    "                    flag = False\n",
    "            except:\n",
    "                zipp.append(exception)\n",
    "                flag = False\n",
    "            j = j + 1\n",
    "\n",
    "    df[new_name] = zipp\n",
    "    return df"
   ]
  },
  {
   "cell_type": "markdown",
   "metadata": {},
   "source": [
    "   "
   ]
  },
  {
   "cell_type": "markdown",
   "metadata": {},
   "source": [
    "**2. location_type**"
   ]
  },
  {
   "cell_type": "code",
   "execution_count": 12,
   "metadata": {},
   "outputs": [],
   "source": [
    "df1 = generic_func_encoding(df, 'dict_clusters/location1.json', 'location_type', 'location_bin4', 'location_encode')"
   ]
  },
  {
   "cell_type": "code",
   "execution_count": 13,
   "metadata": {},
   "outputs": [],
   "source": [
    "df = df1"
   ]
  },
  {
   "cell_type": "markdown",
   "metadata": {},
   "source": [
    "**3. community_board**"
   ]
  },
  {
   "cell_type": "code",
   "execution_count": 14,
   "metadata": {},
   "outputs": [],
   "source": [
    "df1 = generic_func_encoding(df, 'dict_clusters/community1.json', 'community_board', 'community_bin3', 'community_encode')"
   ]
  },
  {
   "cell_type": "code",
   "execution_count": 15,
   "metadata": {},
   "outputs": [
    {
     "data": {
      "text/plain": [
       "array(['community_bin2', 'community_bin1', 'community_bin3'], dtype=object)"
      ]
     },
     "execution_count": 15,
     "metadata": {},
     "output_type": "execute_result"
    }
   ],
   "source": [
    "df1['community_encode'].unique()"
   ]
  },
  {
   "cell_type": "code",
   "execution_count": 16,
   "metadata": {},
   "outputs": [],
   "source": [
    "df = df1"
   ]
  },
  {
   "cell_type": "markdown",
   "metadata": {},
   "source": [
    "**4. agency**"
   ]
  },
  {
   "cell_type": "code",
   "execution_count": 17,
   "metadata": {},
   "outputs": [],
   "source": [
    "df1 = generic_func_encoding(df, 'dict_clusters/agency1.json', 'agency', 'agency_bin6', 'agency_encode')"
   ]
  },
  {
   "cell_type": "code",
   "execution_count": 18,
   "metadata": {},
   "outputs": [
    {
     "data": {
      "text/plain": [
       "array(['agency_bin4', 'agency_bin6', 'agency_bin5', 'agency_bin2',\n",
       "       'agency_bin1'], dtype=object)"
      ]
     },
     "execution_count": 18,
     "metadata": {},
     "output_type": "execute_result"
    }
   ],
   "source": [
    "df1['agency_encode'].unique()"
   ]
  },
  {
   "cell_type": "code",
   "execution_count": 19,
   "metadata": {},
   "outputs": [],
   "source": [
    "df = df1"
   ]
  },
  {
   "cell_type": "markdown",
   "metadata": {},
   "source": [
    "**5. complaint_type**"
   ]
  },
  {
   "cell_type": "code",
   "execution_count": 20,
   "metadata": {},
   "outputs": [],
   "source": [
    "df1 = generic_func_encoding(df, 'dict_clusters/complaint1.json', 'complaint_type', 'complaint_bin3', 'complaint_encode')"
   ]
  },
  {
   "cell_type": "code",
   "execution_count": 21,
   "metadata": {},
   "outputs": [
    {
     "data": {
      "text/plain": [
       "array(['complaint_bin3', 'complaint_bin2', 'complaint_bin1'], dtype=object)"
      ]
     },
     "execution_count": 21,
     "metadata": {},
     "output_type": "execute_result"
    }
   ],
   "source": [
    "df1['complaint_encode'].unique()"
   ]
  },
  {
   "cell_type": "code",
   "execution_count": 22,
   "metadata": {},
   "outputs": [],
   "source": [
    "df = df1"
   ]
  },
  {
   "cell_type": "code",
   "execution_count": 23,
   "metadata": {},
   "outputs": [],
   "source": [
    "df = df[['day_period', 'day_of_week', 'zip_encode', 'location_encode', \n",
    "   'community_encode', 'agency_encode', 'complaint_encode', 'TimeTaken']]"
   ]
  },
  {
   "cell_type": "code",
   "execution_count": 24,
   "metadata": {},
   "outputs": [],
   "source": [
    "df.to_csv('uploadData/data0.csv')"
   ]
  },
  {
   "cell_type": "code",
   "execution_count": 32,
   "metadata": {},
   "outputs": [
    {
     "data": {
      "text/html": [
       "<div>\n",
       "<style scoped>\n",
       "    .dataframe tbody tr th:only-of-type {\n",
       "        vertical-align: middle;\n",
       "    }\n",
       "\n",
       "    .dataframe tbody tr th {\n",
       "        vertical-align: top;\n",
       "    }\n",
       "\n",
       "    .dataframe thead th {\n",
       "        text-align: right;\n",
       "    }\n",
       "</style>\n",
       "<table border=\"1\" class=\"dataframe\">\n",
       "  <thead>\n",
       "    <tr style=\"text-align: right;\">\n",
       "      <th></th>\n",
       "      <th>Unnamed: 0</th>\n",
       "      <th>day_period</th>\n",
       "      <th>day_of_week</th>\n",
       "      <th>zip_encode</th>\n",
       "      <th>location_encode</th>\n",
       "      <th>community_encode</th>\n",
       "      <th>agency_encode</th>\n",
       "      <th>complaint_encode</th>\n",
       "      <th>TimeTaken</th>\n",
       "    </tr>\n",
       "  </thead>\n",
       "  <tbody>\n",
       "    <tr>\n",
       "      <th>0</th>\n",
       "      <td>0</td>\n",
       "      <td>evening</td>\n",
       "      <td>Mon-Tue</td>\n",
       "      <td>zip_bin4</td>\n",
       "      <td>location_bin1</td>\n",
       "      <td>community_bin2</td>\n",
       "      <td>agency_bin6</td>\n",
       "      <td>complaint_bin3</td>\n",
       "      <td>74.900</td>\n",
       "    </tr>\n",
       "    <tr>\n",
       "      <th>1</th>\n",
       "      <td>1</td>\n",
       "      <td>afternoon</td>\n",
       "      <td>Fri-Sat-Sun</td>\n",
       "      <td>zip_bin4</td>\n",
       "      <td>location_bin1</td>\n",
       "      <td>community_bin2</td>\n",
       "      <td>agency_bin6</td>\n",
       "      <td>complaint_bin3</td>\n",
       "      <td>498.759</td>\n",
       "    </tr>\n",
       "    <tr>\n",
       "      <th>2</th>\n",
       "      <td>2</td>\n",
       "      <td>morning</td>\n",
       "      <td>Mon-Tue</td>\n",
       "      <td>zip_bin4</td>\n",
       "      <td>location_bin4</td>\n",
       "      <td>community_bin2</td>\n",
       "      <td>agency_bin5</td>\n",
       "      <td>complaint_bin3</td>\n",
       "      <td>830.793</td>\n",
       "    </tr>\n",
       "    <tr>\n",
       "      <th>3</th>\n",
       "      <td>3</td>\n",
       "      <td>night</td>\n",
       "      <td>Wed-Thu</td>\n",
       "      <td>zip_bin4</td>\n",
       "      <td>location_bin4</td>\n",
       "      <td>community_bin2</td>\n",
       "      <td>agency_bin5</td>\n",
       "      <td>complaint_bin3</td>\n",
       "      <td>26.873</td>\n",
       "    </tr>\n",
       "    <tr>\n",
       "      <th>4</th>\n",
       "      <td>4</td>\n",
       "      <td>morning</td>\n",
       "      <td>Mon-Tue</td>\n",
       "      <td>zip_bin4</td>\n",
       "      <td>location_bin4</td>\n",
       "      <td>community_bin2</td>\n",
       "      <td>agency_bin5</td>\n",
       "      <td>complaint_bin3</td>\n",
       "      <td>40.107</td>\n",
       "    </tr>\n",
       "  </tbody>\n",
       "</table>\n",
       "</div>"
      ],
      "text/plain": [
       "   Unnamed: 0 day_period  day_of_week zip_encode location_encode  \\\n",
       "0           0    evening      Mon-Tue   zip_bin4   location_bin1   \n",
       "1           1  afternoon  Fri-Sat-Sun   zip_bin4   location_bin1   \n",
       "2           2    morning      Mon-Tue   zip_bin4   location_bin4   \n",
       "3           3      night      Wed-Thu   zip_bin4   location_bin4   \n",
       "4           4    morning      Mon-Tue   zip_bin4   location_bin4   \n",
       "\n",
       "  community_encode agency_encode complaint_encode  TimeTaken  \n",
       "0   community_bin2   agency_bin6   complaint_bin3     74.900  \n",
       "1   community_bin2   agency_bin6   complaint_bin3    498.759  \n",
       "2   community_bin2   agency_bin5   complaint_bin3    830.793  \n",
       "3   community_bin2   agency_bin5   complaint_bin3     26.873  \n",
       "4   community_bin2   agency_bin5   complaint_bin3     40.107  "
      ]
     },
     "execution_count": 32,
     "metadata": {},
     "output_type": "execute_result"
    }
   ],
   "source": [
    "pd.read_csv('uploadData/data1.csv').head()"
   ]
  },
  {
   "cell_type": "code",
   "execution_count": 4,
   "metadata": {},
   "outputs": [],
   "source": [
    "def generic_function_for_data_creation(file_take, file_write):\n",
    "    df = pd.read_csv(file_take)\n",
    "    df = df[['incident_zip','location_type', 'community_board', 'agency', 'complaint_type',\n",
    "           'day_period', 'day_of_week', 'TimeTaken']]\n",
    "\n",
    "    df1 = generic_func_encoding(df, 'dict_clusters/zip1.json', 'incident_zip', 'zip_bin4', 'zip_encode')\n",
    "    df1 = generic_func_encoding(df1, 'dict_clusters/location1.json', 'location_type', 'location_bin4', 'location_encode')\n",
    "    df1 = generic_func_encoding(df1, 'dict_clusters/community1.json', 'community_board', 'community_bin3', 'community_encode')\n",
    "    df1 = generic_func_encoding(df1, 'dict_clusters/agency1.json', 'agency', 'agency_bin6', 'agency_encode')\n",
    "    df1 = generic_func_encoding(df1, 'dict_clusters/complaint1.json', 'complaint_type', 'complaint_bin3', 'complaint_encode')\n",
    "    \n",
    "    df = df1[['day_period', 'day_of_week', 'zip_encode', 'location_encode', \\\n",
    "             'community_encode', 'agency_encode', 'complaint_encode', 'TimeTaken']]\n",
    "    \n",
    "    df.to_csv(file_write)\n",
    "    "
   ]
  },
  {
   "cell_type": "code",
   "execution_count": 27,
   "metadata": {},
   "outputs": [],
   "source": [
    "generic_function_for_data_creation('serviceRequestData/data1.csv', 'uploadData/data1.csv')"
   ]
  },
  {
   "cell_type": "code",
   "execution_count": 4,
   "metadata": {},
   "outputs": [],
   "source": [
    "generic_function_for_data_creation('serviceRequestData/data2.csv', 'uploadData/data2.csv')"
   ]
  },
  {
   "cell_type": "code",
   "execution_count": 5,
   "metadata": {},
   "outputs": [],
   "source": [
    "generic_function_for_data_creation('serviceRequestData/data3.csv', 'uploadData/data3.csv')"
   ]
  },
  {
   "cell_type": "code",
   "execution_count": 6,
   "metadata": {},
   "outputs": [],
   "source": [
    "generic_function_for_data_creation('serviceRequestData/data4.csv', 'uploadData/data4.csv')"
   ]
  },
  {
   "cell_type": "code",
   "execution_count": 7,
   "metadata": {},
   "outputs": [],
   "source": [
    "generic_function_for_data_creation('serviceRequestData/data5.csv', 'uploadData/data5.csv')"
   ]
  },
  {
   "cell_type": "code",
   "execution_count": 8,
   "metadata": {},
   "outputs": [],
   "source": [
    "generic_function_for_data_creation('serviceRequestData/data6.csv', 'uploadData/data6.csv')"
   ]
  },
  {
   "cell_type": "code",
   "execution_count": 9,
   "metadata": {},
   "outputs": [],
   "source": [
    "generic_function_for_data_creation('serviceRequestData/data7.csv', 'uploadData/data7.csv')"
   ]
  },
  {
   "cell_type": "code",
   "execution_count": 5,
   "metadata": {},
   "outputs": [],
   "source": [
    "generic_function_for_data_creation('serviceRequestData/data8.csv', 'uploadData/data8.csv')"
   ]
  },
  {
   "cell_type": "code",
   "execution_count": 6,
   "metadata": {},
   "outputs": [],
   "source": [
    "generic_function_for_data_creation('serviceRequestData/data9.csv', 'uploadData/data9.csv')"
   ]
  },
  {
   "cell_type": "markdown",
   "metadata": {},
   "source": [
    "## Uploaded the files to the GCS Bucket."
   ]
  },
  {
   "cell_type": "code",
   "execution_count": null,
   "metadata": {},
   "outputs": [],
   "source": []
  }
 ],
 "metadata": {
  "kernelspec": {
   "display_name": "Python 3",
   "language": "python",
   "name": "python3"
  },
  "language_info": {
   "codemirror_mode": {
    "name": "ipython",
    "version": 3
   },
   "file_extension": ".py",
   "mimetype": "text/x-python",
   "name": "python",
   "nbconvert_exporter": "python",
   "pygments_lexer": "ipython3",
   "version": "3.5.3"
  }
 },
 "nbformat": 4,
 "nbformat_minor": 2
}
