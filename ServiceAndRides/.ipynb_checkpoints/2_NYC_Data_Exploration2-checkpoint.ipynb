{
 "cells": [
  {
   "cell_type": "markdown",
   "metadata": {},
   "source": [
    "## Preparing the Dataset for Service Requests"
   ]
  },
  {
   "cell_type": "markdown",
   "metadata": {},
   "source": [
    "The data needs to be queried from BigQuery. In the last Notebook, the Data Exploration was done on the Sample data, that steps will help us to run more granular SQL-like Queries on the data. Once we run the Query, the complete data can be saved offline for further analysis."
   ]
  },
  {
   "cell_type": "markdown",
   "metadata": {},
   "source": [
    "If you see the sample Query with just 10,000 rows will take 9.9 GB of data to be processed."
   ]
  },
  {
   "cell_type": "markdown",
   "metadata": {},
   "source": [
    "<img src=\"Images/1.png\" alt=\"Drawing\" style=\"width: 500px;\"/>"
   ]
  },
  {
   "cell_type": "markdown",
   "metadata": {},
   "source": [
    "Since we had explored the data beforehand, we can select the required rows for model building. Now we can see that only 2 GB of data needs to be processed."
   ]
  },
  {
   "cell_type": "markdown",
   "metadata": {},
   "source": [
    "<img src=\"Images/2.png\" alt=\"Drawing\" style=\"width: 500px;\"/>"
   ]
  },
  {
   "cell_type": "markdown",
   "metadata": {},
   "source": [
    "**This shows how necessary the Data Exploration is, since it helps us with the Data pipelines.**"
   ]
  },
  {
   "cell_type": "markdown",
   "metadata": {},
   "source": [
    "   "
   ]
  },
  {
   "cell_type": "markdown",
   "metadata": {},
   "source": [
    "  "
   ]
  },
  {
   "cell_type": "code",
   "execution_count": 3,
   "metadata": {},
   "outputs": [],
   "source": [
    "import pandas as pd\n",
    "import numpy as np\n",
    "import matplotlib.pyplot as plt\n",
    "import seaborn as sns\n",
    "import warnings\n",
    "warnings.filterwarnings('ignore')"
   ]
  },
  {
   "cell_type": "markdown",
   "metadata": {},
   "source": [
    "Tried running the below query, but it took too long, so I ran it in Big Query itself, which took less than one minute. Saved the files to GCS Storage. Will export it from there now."
   ]
  },
  {
   "cell_type": "markdown",
   "metadata": {},
   "source": [
    "from google.cloud import bigquery   \n",
    "client = bigquery.Client()   \n",
    "sql = \"\"\"   \n",
    "SELECT \n",
    "created_date, closed_date,   \n",
    "incident_zip, location_type, community_board,   \n",
    "agency, complaint_type   \n",
    "FROM `bigquery-public-data.new_york_311.311_service_requests` \n",
    "\"\"\"   \n",
    "df = client.query(sql).to_dataframe()   \n"
   ]
  },
  {
   "cell_type": "markdown",
   "metadata": {},
   "source": [
    "   "
   ]
  },
  {
   "cell_type": "markdown",
   "metadata": {},
   "source": [
    "  "
   ]
  },
  {
   "cell_type": "markdown",
   "metadata": {},
   "source": [
    "DataFiles stored in Storage Bucket on GCP"
   ]
  },
  {
   "cell_type": "markdown",
   "metadata": {},
   "source": [
    "<img src=\"Images/3.png\" alt=\"Drawing\" style=\"width: 500px;\"/>"
   ]
  },
  {
   "cell_type": "code",
   "execution_count": 4,
   "metadata": {},
   "outputs": [],
   "source": [
    "from io import BytesIO"
   ]
  },
  {
   "cell_type": "code",
   "execution_count": 5,
   "metadata": {},
   "outputs": [],
   "source": [
    "from google.cloud import storage\n",
    "client = storage.Client()\n",
    "bucket = 'nyc_servicerequest'"
   ]
  },
  {
   "cell_type": "markdown",
   "metadata": {},
   "source": [
    "   "
   ]
  },
  {
   "cell_type": "markdown",
   "metadata": {},
   "source": [
    "### Test Preprocessing"
   ]
  },
  {
   "cell_type": "code",
   "execution_count": 4,
   "metadata": {},
   "outputs": [
    {
     "name": "stdout",
     "output_type": "stream",
     "text": [
      "Copying gs://nyc_servicerequest/data000000000000...\n",
      "- [1/1 files][293.1 MiB/293.1 MiB] 100% Done                                    \n",
      "Operation completed over 1 objects/293.1 MiB.                                    \n"
     ]
    }
   ],
   "source": [
    "!gsutil -m cp gs://nyc_servicerequest/data000000000000 data/data1.csv   "
   ]
  },
  {
   "cell_type": "code",
   "execution_count": 15,
   "metadata": {},
   "outputs": [],
   "source": [
    "df1 = pd.read_csv('data/data1.csv')"
   ]
  },
  {
   "cell_type": "code",
   "execution_count": 7,
   "metadata": {},
   "outputs": [],
   "source": [
    "def change_date(date):\n",
    "    try:\n",
    "        return date[:-4]\n",
    "    except:\n",
    "        return None"
   ]
  },
  {
   "cell_type": "code",
   "execution_count": 23,
   "metadata": {},
   "outputs": [],
   "source": [
    "df1['created_date'] = df1['created_date'].apply(change_date)\n",
    "df1['closed_date'] = df1['closed_date'].apply(change_date)\n",
    "df1['resolution_action_updated_date'] = df1['resolution_action_updated_date'].apply(change_date)\n"
   ]
  },
  {
   "cell_type": "code",
   "execution_count": 24,
   "metadata": {},
   "outputs": [
    {
     "data": {
      "text/html": [
       "<div>\n",
       "<style scoped>\n",
       "    .dataframe tbody tr th:only-of-type {\n",
       "        vertical-align: middle;\n",
       "    }\n",
       "\n",
       "    .dataframe tbody tr th {\n",
       "        vertical-align: top;\n",
       "    }\n",
       "\n",
       "    .dataframe thead th {\n",
       "        text-align: right;\n",
       "    }\n",
       "</style>\n",
       "<table border=\"1\" class=\"dataframe\">\n",
       "  <thead>\n",
       "    <tr style=\"text-align: right;\">\n",
       "      <th></th>\n",
       "      <th>created_date</th>\n",
       "      <th>closed_date</th>\n",
       "      <th>resolution_action_updated_date</th>\n",
       "      <th>city</th>\n",
       "      <th>incident_zip</th>\n",
       "      <th>address_type</th>\n",
       "      <th>incident_address</th>\n",
       "      <th>street_name</th>\n",
       "      <th>community_board</th>\n",
       "      <th>park_facility_name</th>\n",
       "    </tr>\n",
       "  </thead>\n",
       "  <tbody>\n",
       "    <tr>\n",
       "      <th>0</th>\n",
       "      <td>2012-12-21 13:29:00</td>\n",
       "      <td>2013-01-13 08:25:00</td>\n",
       "      <td>2012-12-21 21:55:00</td>\n",
       "      <td>Kew Gardens</td>\n",
       "      <td>11415</td>\n",
       "      <td>INTERSECTION</td>\n",
       "      <td>NaN</td>\n",
       "      <td>NaN</td>\n",
       "      <td>Unspecified QUEENS</td>\n",
       "      <td>Unspecified</td>\n",
       "    </tr>\n",
       "    <tr>\n",
       "      <th>1</th>\n",
       "      <td>2012-12-22 20:33:00</td>\n",
       "      <td>2012-12-22 23:10:00</td>\n",
       "      <td>2012-12-22 23:10:00</td>\n",
       "      <td>NaN</td>\n",
       "      <td>NaN</td>\n",
       "      <td>INTERSECTION</td>\n",
       "      <td>NaN</td>\n",
       "      <td>NaN</td>\n",
       "      <td>Unspecified QUEENS</td>\n",
       "      <td>Unspecified</td>\n",
       "    </tr>\n",
       "    <tr>\n",
       "      <th>2</th>\n",
       "      <td>2012-12-31 15:22:00</td>\n",
       "      <td>2012-12-31 15:50:00</td>\n",
       "      <td>2012-12-31 15:50:00</td>\n",
       "      <td>Astoria</td>\n",
       "      <td>11106</td>\n",
       "      <td>INTERSECTION</td>\n",
       "      <td>NaN</td>\n",
       "      <td>NaN</td>\n",
       "      <td>Unspecified QUEENS</td>\n",
       "      <td>Unspecified</td>\n",
       "    </tr>\n",
       "    <tr>\n",
       "      <th>3</th>\n",
       "      <td>2013-01-02 23:33:00</td>\n",
       "      <td>2013-01-03 01:40:00</td>\n",
       "      <td>2013-01-03 01:40:00</td>\n",
       "      <td>NaN</td>\n",
       "      <td>NaN</td>\n",
       "      <td>INTERSECTION</td>\n",
       "      <td>NaN</td>\n",
       "      <td>NaN</td>\n",
       "      <td>Unspecified QUEENS</td>\n",
       "      <td>Unspecified</td>\n",
       "    </tr>\n",
       "    <tr>\n",
       "      <th>4</th>\n",
       "      <td>2012-09-21 18:33:26</td>\n",
       "      <td>2012-10-10 12:08:32</td>\n",
       "      <td>2012-10-10 12:08:32</td>\n",
       "      <td>NaN</td>\n",
       "      <td>NaN</td>\n",
       "      <td>NaN</td>\n",
       "      <td>NaN</td>\n",
       "      <td>NaN</td>\n",
       "      <td>Unspecified QUEENS</td>\n",
       "      <td>Unspecified</td>\n",
       "    </tr>\n",
       "  </tbody>\n",
       "</table>\n",
       "</div>"
      ],
      "text/plain": [
       "          created_date          closed_date resolution_action_updated_date  \\\n",
       "0  2012-12-21 13:29:00  2013-01-13 08:25:00            2012-12-21 21:55:00   \n",
       "1  2012-12-22 20:33:00  2012-12-22 23:10:00            2012-12-22 23:10:00   \n",
       "2  2012-12-31 15:22:00  2012-12-31 15:50:00            2012-12-31 15:50:00   \n",
       "3  2013-01-02 23:33:00  2013-01-03 01:40:00            2013-01-03 01:40:00   \n",
       "4  2012-09-21 18:33:26  2012-10-10 12:08:32            2012-10-10 12:08:32   \n",
       "\n",
       "          city incident_zip  address_type incident_address street_name  \\\n",
       "0  Kew Gardens        11415  INTERSECTION              NaN         NaN   \n",
       "1          NaN          NaN  INTERSECTION              NaN         NaN   \n",
       "2      Astoria        11106  INTERSECTION              NaN         NaN   \n",
       "3          NaN          NaN  INTERSECTION              NaN         NaN   \n",
       "4          NaN          NaN           NaN              NaN         NaN   \n",
       "\n",
       "      community_board park_facility_name  \n",
       "0  Unspecified QUEENS        Unspecified  \n",
       "1  Unspecified QUEENS        Unspecified  \n",
       "2  Unspecified QUEENS        Unspecified  \n",
       "3  Unspecified QUEENS        Unspecified  \n",
       "4  Unspecified QUEENS        Unspecified  "
      ]
     },
     "execution_count": 24,
     "metadata": {},
     "output_type": "execute_result"
    }
   ],
   "source": [
    "df1.head()"
   ]
  },
  {
   "cell_type": "markdown",
   "metadata": {},
   "source": [
    "Incident_address and park_facility_name can also be ignored"
   ]
  },
  {
   "cell_type": "markdown",
   "metadata": {},
   "source": [
    "incident_zip, city and street_name are also correlated. So, we can drop city and street_name. For further drilldown."
   ]
  },
  {
   "cell_type": "markdown",
   "metadata": {},
   "source": [
    "  "
   ]
  },
  {
   "cell_type": "markdown",
   "metadata": {},
   "source": [
    "  "
   ]
  },
  {
   "cell_type": "markdown",
   "metadata": {},
   "source": [
    "   "
   ]
  },
  {
   "cell_type": "markdown",
   "metadata": {},
   "source": [
    "Now, I need to use the same data, for creating Regression variables, and churning the Categorical variables. Once, the data is ready, we can use it to run models on the GCP Platform."
   ]
  },
  {
   "cell_type": "code",
   "execution_count": 6,
   "metadata": {},
   "outputs": [],
   "source": [
    "from datetime import datetime\n",
    "\n",
    "def find_time_taken(created_date, closed_date):\n",
    "    try:\n",
    "        created_date = str(created_date)\n",
    "        closed_date = str(closed_date)\n",
    "        to_ret = 0\n",
    "        if(closed_date is not None and created_date is not None):\n",
    "            t = datetime.strptime(closed_date, '%Y-%m-%d %H:%M:%S') - datetime.strptime(created_date, '%Y-%m-%d %H:%M:%S')\n",
    "            if(t.days != 0):\n",
    "                to_ret += (t.days * 24 * 60)\n",
    "            if(t.seconds != 0):\n",
    "                to_ret += (t.seconds / 60)\n",
    "        return round(to_ret/60, 3)\n",
    "    except:\n",
    "        return None"
   ]
  },
  {
   "cell_type": "code",
   "execution_count": 4,
   "metadata": {},
   "outputs": [],
   "source": [
    "df = pd.read_csv('serviceRequestData/data1.csv')"
   ]
  },
  {
   "cell_type": "code",
   "execution_count": 6,
   "metadata": {},
   "outputs": [],
   "source": [
    "ttaken = []\n",
    "for i in range(len(df)):\n",
    "    ttaken.append(find_time_taken(df['created_date'][i], df['closed_date'][i]))"
   ]
  },
  {
   "cell_type": "code",
   "execution_count": 8,
   "metadata": {},
   "outputs": [],
   "source": [
    "df['TimeTaken'] = ttaken\n",
    "df = df[df['TimeTaken'] > 0]\n",
    "df = df[df['TimeTaken'].isnull() == False]\n",
    "df.reset_index(inplace=True)"
   ]
  },
  {
   "cell_type": "code",
   "execution_count": 18,
   "metadata": {},
   "outputs": [],
   "source": [
    "actiontaken = []\n",
    "for i in range(len(df)):\n",
    "    actiontaken.append(find_time_taken(df['created_date'][i], df['resolution_action_updated_date'][i]))\n",
    "df['ActionTaken'] = actiontaken"
   ]
  },
  {
   "cell_type": "markdown",
   "metadata": {},
   "source": [
    "   "
   ]
  },
  {
   "cell_type": "markdown",
   "metadata": {},
   "source": [
    "### Date and Time Features"
   ]
  },
  {
   "cell_type": "markdown",
   "metadata": {},
   "source": [
    "We can add a new variables as to when the Request was put in: Morning/Afternoon/Evening/Night:   \n",
    "Morning: created_date >= 06:00:00 and created_date < 12:00:00   \n",
    "Afternoon: created_date >= 12:00:00 and created_date < 17:00:00   \n",
    "Evening: created_date > 17:00:00 and created_date < 20:00:00   \n",
    "Night: created_date >= 20:00:00 and created_date < 00:00:00   \n",
    "        created_date >= 00:00:00 and created_date < 06:00:00   "
   ]
  },
  {
   "cell_type": "markdown",
   "metadata": {},
   "source": [
    "Add 'day_of_week' as one of the variables. "
   ]
  },
  {
   "cell_type": "code",
   "execution_count": 8,
   "metadata": {},
   "outputs": [],
   "source": [
    "def weekday(time):\n",
    "    t = datetime.strptime(time, '%Y-%m-%d %H:%M:%S')\n",
    "    day = t.weekday()\n",
    "    if(day == 0 or day == 1): return 'Mon-Tue'\n",
    "    elif(day == 2 or day == 3): return 'Wed-Thu'\n",
    "    else: return 'Fri-Sat-Sun'"
   ]
  },
  {
   "cell_type": "code",
   "execution_count": 9,
   "metadata": {},
   "outputs": [],
   "source": [
    "def compare_time(time):\n",
    "    time = datetime.strptime(time[-8:], '%H:%M:%S')\n",
    "    if((time >= datetime.strptime('06:00:00', '%H:%M:%S')) and (time < datetime.strptime('12:00:00', '%H:%M:%S'))):\n",
    "        return 'morning'\n",
    "    elif((time >= datetime.strptime('12:00:00', '%H:%M:%S')) and (time < datetime.strptime('17:00:00', '%H:%M:%S'))):\n",
    "        return 'afternoon'\n",
    "    elif((time >= datetime.strptime('17:00:00', '%H:%M:%S')) and (time < datetime.strptime('20:00:00', '%H:%M:%S'))):\n",
    "        return 'evening'\n",
    "    else:\n",
    "        return 'night'"
   ]
  },
  {
   "cell_type": "code",
   "execution_count": 129,
   "metadata": {},
   "outputs": [],
   "source": [
    "day_period = []\n",
    "for i in range(len(df)):\n",
    "    day_period.append(compare_time(df['created_date'][i]))\n",
    "df['day_period'] = day_period"
   ]
  },
  {
   "cell_type": "code",
   "execution_count": 131,
   "metadata": {},
   "outputs": [
    {
     "data": {
      "text/plain": [
       "array(['afternoon', 'night', 'evening', 'morning'], dtype=object)"
      ]
     },
     "execution_count": 131,
     "metadata": {},
     "output_type": "execute_result"
    }
   ],
   "source": [
    "df['day_period'].unique()"
   ]
  },
  {
   "cell_type": "code",
   "execution_count": 137,
   "metadata": {},
   "outputs": [],
   "source": [
    "weekdayarr = []\n",
    "for i in range(len(df)):\n",
    "    weekdayarr.append(weekday(df['created_date'][i]))\n",
    "df['day_of_week'] = weekdayarr"
   ]
  },
  {
   "cell_type": "code",
   "execution_count": 138,
   "metadata": {},
   "outputs": [
    {
     "data": {
      "text/html": [
       "<div>\n",
       "<style scoped>\n",
       "    .dataframe tbody tr th:only-of-type {\n",
       "        vertical-align: middle;\n",
       "    }\n",
       "\n",
       "    .dataframe tbody tr th {\n",
       "        vertical-align: top;\n",
       "    }\n",
       "\n",
       "    .dataframe thead th {\n",
       "        text-align: right;\n",
       "    }\n",
       "</style>\n",
       "<table border=\"1\" class=\"dataframe\">\n",
       "  <thead>\n",
       "    <tr style=\"text-align: right;\">\n",
       "      <th></th>\n",
       "      <th>index</th>\n",
       "      <th>Unnamed: 0</th>\n",
       "      <th>created_date</th>\n",
       "      <th>closed_date</th>\n",
       "      <th>resolution_action_updated_date</th>\n",
       "      <th>incident_zip</th>\n",
       "      <th>address_type</th>\n",
       "      <th>community_board</th>\n",
       "      <th>TimeTaken</th>\n",
       "      <th>ActionTaken</th>\n",
       "      <th>day_period</th>\n",
       "      <th>day_of_week</th>\n",
       "    </tr>\n",
       "  </thead>\n",
       "  <tbody>\n",
       "    <tr>\n",
       "      <th>0</th>\n",
       "      <td>0</td>\n",
       "      <td>0</td>\n",
       "      <td>2012-12-21 13:29:00</td>\n",
       "      <td>2013-01-13 08:25:00</td>\n",
       "      <td>2012-12-21 21:55:00</td>\n",
       "      <td>11415</td>\n",
       "      <td>INTERSECTION</td>\n",
       "      <td>Unspecified QUEENS</td>\n",
       "      <td>546.933</td>\n",
       "      <td>8.433</td>\n",
       "      <td>afternoon</td>\n",
       "      <td>Fri-Sat-Sun</td>\n",
       "    </tr>\n",
       "    <tr>\n",
       "      <th>1</th>\n",
       "      <td>1</td>\n",
       "      <td>1</td>\n",
       "      <td>2012-12-22 20:33:00</td>\n",
       "      <td>2012-12-22 23:10:00</td>\n",
       "      <td>2012-12-22 23:10:00</td>\n",
       "      <td>NaN</td>\n",
       "      <td>INTERSECTION</td>\n",
       "      <td>Unspecified QUEENS</td>\n",
       "      <td>2.617</td>\n",
       "      <td>2.617</td>\n",
       "      <td>night</td>\n",
       "      <td>Fri-Sat-Sun</td>\n",
       "    </tr>\n",
       "    <tr>\n",
       "      <th>2</th>\n",
       "      <td>2</td>\n",
       "      <td>2</td>\n",
       "      <td>2012-12-31 15:22:00</td>\n",
       "      <td>2012-12-31 15:50:00</td>\n",
       "      <td>2012-12-31 15:50:00</td>\n",
       "      <td>11106</td>\n",
       "      <td>INTERSECTION</td>\n",
       "      <td>Unspecified QUEENS</td>\n",
       "      <td>0.467</td>\n",
       "      <td>0.467</td>\n",
       "      <td>afternoon</td>\n",
       "      <td>Mon-Tue</td>\n",
       "    </tr>\n",
       "    <tr>\n",
       "      <th>3</th>\n",
       "      <td>3</td>\n",
       "      <td>3</td>\n",
       "      <td>2013-01-02 23:33:00</td>\n",
       "      <td>2013-01-03 01:40:00</td>\n",
       "      <td>2013-01-03 01:40:00</td>\n",
       "      <td>NaN</td>\n",
       "      <td>INTERSECTION</td>\n",
       "      <td>Unspecified QUEENS</td>\n",
       "      <td>2.117</td>\n",
       "      <td>2.117</td>\n",
       "      <td>night</td>\n",
       "      <td>Wed-Thu</td>\n",
       "    </tr>\n",
       "    <tr>\n",
       "      <th>4</th>\n",
       "      <td>4</td>\n",
       "      <td>4</td>\n",
       "      <td>2012-09-21 18:33:26</td>\n",
       "      <td>2012-10-10 12:08:32</td>\n",
       "      <td>2012-10-10 12:08:32</td>\n",
       "      <td>NaN</td>\n",
       "      <td>NaN</td>\n",
       "      <td>Unspecified QUEENS</td>\n",
       "      <td>449.585</td>\n",
       "      <td>449.585</td>\n",
       "      <td>evening</td>\n",
       "      <td>Fri-Sat-Sun</td>\n",
       "    </tr>\n",
       "  </tbody>\n",
       "</table>\n",
       "</div>"
      ],
      "text/plain": [
       "   index  Unnamed: 0         created_date          closed_date  \\\n",
       "0      0           0  2012-12-21 13:29:00  2013-01-13 08:25:00   \n",
       "1      1           1  2012-12-22 20:33:00  2012-12-22 23:10:00   \n",
       "2      2           2  2012-12-31 15:22:00  2012-12-31 15:50:00   \n",
       "3      3           3  2013-01-02 23:33:00  2013-01-03 01:40:00   \n",
       "4      4           4  2012-09-21 18:33:26  2012-10-10 12:08:32   \n",
       "\n",
       "  resolution_action_updated_date incident_zip  address_type  \\\n",
       "0            2012-12-21 21:55:00        11415  INTERSECTION   \n",
       "1            2012-12-22 23:10:00          NaN  INTERSECTION   \n",
       "2            2012-12-31 15:50:00        11106  INTERSECTION   \n",
       "3            2013-01-03 01:40:00          NaN  INTERSECTION   \n",
       "4            2012-10-10 12:08:32          NaN           NaN   \n",
       "\n",
       "      community_board  TimeTaken  ActionTaken day_period  day_of_week  \n",
       "0  Unspecified QUEENS    546.933        8.433  afternoon  Fri-Sat-Sun  \n",
       "1  Unspecified QUEENS      2.617        2.617      night  Fri-Sat-Sun  \n",
       "2  Unspecified QUEENS      0.467        0.467  afternoon      Mon-Tue  \n",
       "3  Unspecified QUEENS      2.117        2.117      night      Wed-Thu  \n",
       "4  Unspecified QUEENS    449.585      449.585    evening  Fri-Sat-Sun  "
      ]
     },
     "execution_count": 138,
     "metadata": {},
     "output_type": "execute_result"
    }
   ],
   "source": [
    "df.head()"
   ]
  },
  {
   "cell_type": "markdown",
   "metadata": {},
   "source": [
    "   "
   ]
  },
  {
   "cell_type": "markdown",
   "metadata": {},
   "source": [
    "  "
   ]
  },
  {
   "cell_type": "markdown",
   "metadata": {},
   "source": [
    "Now, I need to run the same steps for all the Files. Running the same code by changing the name of file."
   ]
  },
  {
   "cell_type": "markdown",
   "metadata": {},
   "source": [
    "### MAIN PORTION OF THE FILE. Run multiple times to get all Input Files."
   ]
  },
  {
   "cell_type": "code",
   "execution_count": 28,
   "metadata": {},
   "outputs": [
    {
     "name": "stdout",
     "output_type": "stream",
     "text": [
      "Copying gs://nyc_servicerequest/Input/data000000000009...\n",
      "/ [1/1 files][202.5 MiB/202.5 MiB] 100% Done                                    \n",
      "Operation completed over 1 objects/202.5 MiB.                                    \n"
     ]
    }
   ],
   "source": [
    "!gsutil -m cp gs://nyc_servicerequest/Input/data000000000009 serviceRequestData/data9.csv   #Change the Filenames here\n",
    "    "
   ]
  },
  {
   "cell_type": "code",
   "execution_count": 29,
   "metadata": {},
   "outputs": [],
   "source": [
    "name_of_file = 'serviceRequestData/data9.csv' #And here\n",
    "df1 = pd.read_csv(name_of_file)\n",
    "\n",
    "#Formatting open_date and closed_date\n",
    "df1['created_date'] = df1['created_date'].apply(change_date)\n",
    "df1['closed_date'] = df1['closed_date'].apply(change_date)\n",
    "df = df1[df1['closed_date'].isnull() == False].reset_index()\n",
    "\n",
    "#Period of the Day: Morning/Afternoon/Evening/Night\n",
    "day_period = []\n",
    "for i in range(len(df)):\n",
    "    day_period.append(compare_time(df['created_date'][i]))\n",
    "df['day_period'] = day_period\n",
    "\n",
    "#Day of the Week\n",
    "weekdayarr = []\n",
    "for i in range(len(df)):\n",
    "    weekdayarr.append(weekday(df['created_date'][i]))\n",
    "df['day_of_week'] = weekdayarr\n",
    "\n",
    "#Computing TimeTaken Regression variable\n",
    "ttaken = []\n",
    "for i in range(len(df)):\n",
    "    ttaken.append(find_time_taken(df['created_date'][i], df['closed_date'][i]))\n",
    "df['TimeTaken'] = ttaken\n",
    "df = df[df['TimeTaken'] > 0].reset_index()\n",
    "\n",
    "\n",
    "df[['created_date', 'closed_date', 'incident_zip', 'location_type', 'community_board',\\\n",
    "    'agency', 'complaint_type', 'day_period', 'day_of_week', 'TimeTaken']].to_csv(name_of_file)\n"
   ]
  },
  {
   "cell_type": "code",
   "execution_count": 22,
   "metadata": {},
   "outputs": [],
   "source": [
    "#pd.read_csv('serviceRequestData/data0.csv').head()"
   ]
  },
  {
   "cell_type": "markdown",
   "metadata": {},
   "source": [
    "   "
   ]
  },
  {
   "cell_type": "markdown",
   "metadata": {},
   "source": [
    "  "
   ]
  },
  {
   "cell_type": "markdown",
   "metadata": {},
   "source": [
    "  "
   ]
  },
  {
   "cell_type": "markdown",
   "metadata": {},
   "source": [
    "**Before binning the Categorical variables, the values from each file need to be anaylsed.**"
   ]
  },
  {
   "cell_type": "markdown",
   "metadata": {},
   "source": [
    "Looking at the Categorical variables."
   ]
  },
  {
   "cell_type": "code",
   "execution_count": 29,
   "metadata": {},
   "outputs": [
    {
     "data": {
      "text/plain": [
       "1209"
      ]
     },
     "execution_count": 29,
     "metadata": {},
     "output_type": "execute_result"
    }
   ],
   "source": [
    "df['incident_zip'].unique().size"
   ]
  },
  {
   "cell_type": "code",
   "execution_count": 39,
   "metadata": {},
   "outputs": [],
   "source": [
    "zip_decode = df[['incident_zip', 'TimeTaken']].groupby('incident_zip')\\\n",
    "                    .count().sort_values(by='TimeTaken', ascending=False).reset_index()"
   ]
  },
  {
   "cell_type": "code",
   "execution_count": 66,
   "metadata": {},
   "outputs": [
    {
     "data": {
      "image/png": "[encoded data removed]",
      "text/plain": [
       "<Figure size 2160x720 with 1 Axes>"
      ]
     },
     "metadata": {
      "needs_background": "light"
     },
     "output_type": "display_data"
    }
   ],
   "source": [
    "#plt.plot(x=list(zip_decode.index), y=list(zip_decode['TimeTaken'].values))\n",
    "zip_decode.plot(figsize=(30, 10))\n",
    "plt.show()"
   ]
  },
  {
   "cell_type": "markdown",
   "metadata": {},
   "source": [
    "Turns out that the plot is misleading when we look further to the zipcode values. Drilldown done in the next notebook."
   ]
  },
  {
   "cell_type": "markdown",
   "metadata": {},
   "source": [
    "Bins can be created only after looking at all the Datasets, since we need to look at all the zipcodes and decide which zip falls in which bin. "
   ]
  },
  {
   "cell_type": "markdown",
   "metadata": {},
   "source": [
    "### All the Categorical Exploration will be done in the next file, where we can also run a simple Regression model and test Results."
   ]
  },
  {
   "cell_type": "code",
   "execution_count": null,
   "metadata": {},
   "outputs": [],
   "source": []
  }
 ],
 "metadata": {
  "kernelspec": {
   "display_name": "Python 3",
   "language": "python",
   "name": "python3"
  },
  "language_info": {
   "codemirror_mode": {
    "name": "ipython",
    "version": 3
   },
   "file_extension": ".py",
   "mimetype": "text/x-python",
   "name": "python",
   "nbconvert_exporter": "python",
   "pygments_lexer": "ipython3",
   "version": "3.5.3"
  }
 },
 "nbformat": 4,
 "nbformat_minor": 2
}
