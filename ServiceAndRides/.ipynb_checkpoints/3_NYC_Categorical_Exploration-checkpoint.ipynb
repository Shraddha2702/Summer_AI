{
 "cells": [
  {
   "cell_type": "markdown",
   "metadata": {},
   "source": [
    "## Feature Engineering - Part I"
   ]
  },
  {
   "cell_type": "code",
   "execution_count": 1,
   "metadata": {},
   "outputs": [],
   "source": [
    "import pandas as pd\n",
    "import numpy as np\n",
    "import matplotlib.pyplot as plt\n",
    "import seaborn as sns\n",
    "import warnings\n",
    "warnings.filterwarnings('ignore')"
   ]
  },
  {
   "cell_type": "code",
   "execution_count": 48,
   "metadata": {},
   "outputs": [],
   "source": [
    "import json"
   ]
  },
  {
   "cell_type": "code",
   "execution_count": 2,
   "metadata": {},
   "outputs": [],
   "source": [
    "df = pd.read_csv('serviceRequestData/data1.csv')"
   ]
  },
  {
   "cell_type": "code",
   "execution_count": 4,
   "metadata": {},
   "outputs": [
    {
     "data": {
      "text/plain": [
       "Index(['Unnamed: 0', 'created_date', 'closed_date', 'incident_zip',\n",
       "       'location_type', 'community_board', 'agency', 'complaint_type',\n",
       "       'day_period', 'day_of_week', 'TimeTaken'],\n",
       "      dtype='object')"
      ]
     },
     "execution_count": 4,
     "metadata": {},
     "output_type": "execute_result"
    }
   ],
   "source": [
    "df.columns"
   ]
  },
  {
   "cell_type": "markdown",
   "metadata": {},
   "source": [
    "   "
   ]
  },
  {
   "cell_type": "markdown",
   "metadata": {},
   "source": [
    "   \n",
    "  "
   ]
  },
  {
   "cell_type": "markdown",
   "metadata": {},
   "source": [
    "### 'incident_zip' Categorical variable "
   ]
  },
  {
   "cell_type": "markdown",
   "metadata": {},
   "source": [
    "Basically, we need to create bins for all the 10 datafiles, but the bin labels can only be selected after looking at each file and variables."
   ]
  },
  {
   "cell_type": "code",
   "execution_count": 26,
   "metadata": {},
   "outputs": [],
   "source": [
    "def zip_func(zipp):\n",
    "    try:\n",
    "        return int(zipp[:5])\n",
    "    except:\n",
    "        return 'NA'"
   ]
  },
  {
   "cell_type": "code",
   "execution_count": 29,
   "metadata": {},
   "outputs": [],
   "source": [
    "df['incident_zip'] = df['incident_zip'].apply(zip_func)"
   ]
  },
  {
   "cell_type": "code",
   "execution_count": 30,
   "metadata": {},
   "outputs": [],
   "source": [
    "zip_decode = df[['incident_zip', 'TimeTaken']].groupby('incident_zip')\\\n",
    "                    .count().sort_values(by='TimeTaken', ascending=False).reset_index()\n"
   ]
  },
  {
   "cell_type": "code",
   "execution_count": 36,
   "metadata": {},
   "outputs": [
    {
     "data": {
      "text/plain": [
       "<matplotlib.axes._subplots.AxesSubplot at 0x7f8fecbe67b8>"
      ]
     },
     "execution_count": 36,
     "metadata": {},
     "output_type": "execute_result"
    },
    {
     "data": {
      "image/png": "[encoded data removed]",
      "text/plain": [
       "<Figure size 2160x360 with 1 Axes>"
      ]
     },
     "metadata": {
      "needs_background": "light"
     },
     "output_type": "display_data"
    }
   ],
   "source": [
    "zip_decode[zip_decode['incident_zip'] != 'NA']['TimeTaken'].plot(figsize=(30, 5))"
   ]
  },
  {
   "cell_type": "markdown",
   "metadata": {},
   "source": [
    "Since zip_decode was sorted descending manner, we have the zip_ids which are most frequent on the Top of the dataframe and the less frequent ones in the bottom.   \n",
    "   \n",
    "The above plot shows the trend of how the no. of requests fall as we move to the bottom of the file.   \n",
    "   \n",
    "Bins can be created accordingly:   \n",
    "Bins with greater than 5000 requests     \n",
    "Bins with greater than 2500 and less than 5000 requests    \n",
    "Bins with greater than 1000 and less than 2500 requests    \n",
    "Bins with less than 1000 requests or whose zip is not Available "
   ]
  },
  {
   "cell_type": "code",
   "execution_count": 39,
   "metadata": {},
   "outputs": [],
   "source": [
    "zip_bina = []\n",
    "zip_binb = []\n",
    "zip_binc = []\n",
    "zip_bind = []\n",
    "\n",
    "for i in range(len(zip_decode)):\n",
    "    if(zip_decode['incident_zip'][i] != 'NA'):\n",
    "        if(zip_decode['TimeTaken'][i] >= 5000):\n",
    "            zip_bina.append(zip_decode['incident_zip'][i])\n",
    "            \n",
    "        if(zip_decode['TimeTaken'][i] >= 2500 and zip_decode['TimeTaken'][i] < 5000):\n",
    "            zip_binb.append(zip_decode['incident_zip'][i])\n",
    "            \n",
    "        if(zip_decode['TimeTaken'][i] >= 1000 and zip_decode['TimeTaken'][i] < 2500):\n",
    "            zip_binc.append(zip_decode['incident_zip'][i])\n",
    "            \n",
    "        if(zip_decode['TimeTaken'][i] < 1000):\n",
    "            zip_bind.append(zip_decode['incident_zip'][i])\n",
    "    else:\n",
    "        zip_bind.append('NA')"
   ]
  },
  {
   "cell_type": "markdown",
   "metadata": {},
   "source": [
    "**The above is the sample code. We can create a function that will give us these 4 set of zip arrays, and then we can decide which bin gets in which cluster. Once we have that information, we can create a global dictionary that will be use for Hot-Encoding.**"
   ]
  },
  {
   "cell_type": "code",
   "execution_count": 44,
   "metadata": {},
   "outputs": [],
   "source": [
    "def zip_encoding_func(file):\n",
    "    df = pd.read_csv(file)\n",
    "    df['incident_zip'] = df['incident_zip'].apply(zip_func)\n",
    "    zip_decode = df[['incident_zip', 'TimeTaken']].groupby('incident_zip')\\\n",
    "                    .count().sort_values(by='TimeTaken', ascending=False).reset_index()\n",
    "    zip_bina = []\n",
    "    zip_binb = []\n",
    "    zip_binc = []\n",
    "    zip_bind = []\n",
    "\n",
    "    for i in range(len(zip_decode)):\n",
    "        if(zip_decode['incident_zip'][i] != 'NA'):\n",
    "            if(zip_decode['TimeTaken'][i] >= 5000):\n",
    "                zip_bina.append(zip_decode['incident_zip'][i])\n",
    "\n",
    "            if(zip_decode['TimeTaken'][i] >= 2500 and zip_decode['TimeTaken'][i] < 5000):\n",
    "                zip_binb.append(zip_decode['incident_zip'][i])\n",
    "\n",
    "            if(zip_decode['TimeTaken'][i] >= 1000 and zip_decode['TimeTaken'][i] < 2500):\n",
    "                zip_binc.append(zip_decode['incident_zip'][i])\n",
    "\n",
    "            if(zip_decode['TimeTaken'][i] < 1000):\n",
    "                zip_bind.append(zip_decode['incident_zip'][i])\n",
    "        else:\n",
    "            zip_bind.append('NA')\n",
    "            \n",
    "    return zip_bina, zip_binb, zip_binc, zip_bind"
   ]
  },
  {
   "cell_type": "code",
   "execution_count": 47,
   "metadata": {},
   "outputs": [],
   "source": [
    "zip_a = []\n",
    "zip_b = []\n",
    "zip_c = []\n",
    "zip_d = []\n",
    "\n",
    "for i in range(10):\n",
    "    file = 'serviceRequestData/data' +str(i)+ '.csv'\n",
    "    a, b, c, d = zip_encoding_func(file)\n",
    "    zip_a = list(set(zip_a + a))\n",
    "    zip_b = list(set(zip_b + b))\n",
    "    zip_c = list(set(zip_c + c))\n",
    "    zip_d = list(set(zip_d + d))\n",
    "    \n",
    "zipdict = dict()\n",
    "zipdict['zip_bin1'] = zip_a\n",
    "zipdict['zip_bin2'] = zip_b\n",
    "zipdict['zip_bin3'] = zip_c\n",
    "zipdict['zip_bin4'] = zip_d\n",
    "\n",
    "with open('dict_clusters/zip1.json', 'w') as fp:\n",
    "    json.dump(zipdict, fp)"
   ]
  },
  {
   "cell_type": "markdown",
   "metadata": {},
   "source": [
    "The zipcodes for each bins are saved, it's time to move to another Categorical variable. The same procedure will be repeated for it."
   ]
  },
  {
   "cell_type": "markdown",
   "metadata": {},
   "source": [
    "   "
   ]
  },
  {
   "cell_type": "markdown",
   "metadata": {},
   "source": [
    "  "
   ]
  },
  {
   "cell_type": "markdown",
   "metadata": {},
   "source": [
    "### Time to look at 'location_type'"
   ]
  },
  {
   "cell_type": "code",
   "execution_count": 55,
   "metadata": {},
   "outputs": [
    {
     "data": {
      "text/plain": [
       "<matplotlib.axes._subplots.AxesSubplot at 0x7f8fd40ce978>"
      ]
     },
     "execution_count": 55,
     "metadata": {},
     "output_type": "execute_result"
    },
    {
     "data": {
      "image/png": "[encoded data removed]",
      "text/plain": [
       "<Figure size 2160x360 with 1 Axes>"
      ]
     },
     "metadata": {
      "needs_background": "light"
     },
     "output_type": "display_data"
    }
   ],
   "source": [
    "decode = df[['location_type', 'TimeTaken']].groupby('location_type')\\\n",
    "                    .count().sort_values(by='TimeTaken', ascending=False).reset_index()\n",
    "decode[decode['location_type'] != 'NA']['TimeTaken'].plot(figsize=(30, 5))"
   ]
  },
  {
   "cell_type": "markdown",
   "metadata": {},
   "source": [
    "Main Categories:   \n",
    "1. location_type >= 50,000 requests -- RESIDENTIAL BUILDING,   \n",
    "2. location_type with more than 20,000 and less than 50,000 requests   \n",
    "3. location_type between 5,000 to 20,000 requests  \n",
    "4. location_type with less than 5,000 requests"
   ]
  },
  {
   "cell_type": "code",
   "execution_count": 68,
   "metadata": {},
   "outputs": [],
   "source": [
    "def location_encoding_func(file):\n",
    "    df = pd.read_csv(file)\n",
    "    decode = df[['location_type', 'TimeTaken']].groupby('location_type')\\\n",
    "                    .count().sort_values(by='TimeTaken', ascending=False).reset_index()\n",
    "    \n",
    "    bina = []\n",
    "    binb = []\n",
    "    binc = []\n",
    "    bind = []\n",
    "\n",
    "    for i in range(len(decode)):\n",
    "        if(decode['TimeTaken'][i] >= 50000):\n",
    "            bina.append(decode['location_type'][i])\n",
    "\n",
    "        if(decode['TimeTaken'][i] >= 20000 and decode['TimeTaken'][i] < 50000):\n",
    "            binb.append(decode['location_type'][i])\n",
    "\n",
    "        if(decode['TimeTaken'][i] >= 5000 and decode['TimeTaken'][i] < 20000):\n",
    "            binc.append(decode['location_type'][i])\n",
    "\n",
    "        if(decode['TimeTaken'][i] < 5000):\n",
    "            bind.append(decode['location_type'][i])\n",
    "    \n",
    "    return bina, binb, binc, bind\n"
   ]
  },
  {
   "cell_type": "code",
   "execution_count": 61,
   "metadata": {},
   "outputs": [],
   "source": [
    "zip_a = []\n",
    "zip_b = []\n",
    "zip_c = []\n",
    "zip_d = []\n",
    "\n",
    "for i in range(10):\n",
    "    file = 'serviceRequestData/data' +str(i)+ '.csv'\n",
    "    a, b, c, d = location_encoding_func(file) #\n",
    "    zip_a = list(set(zip_a + a)) \n",
    "    zip_b = list(set(zip_b + b))\n",
    "    zip_c = list(set(zip_c + c))\n",
    "    zip_d = list(set(zip_d + d))\n",
    "    \n",
    "zipdict = dict()\n",
    "zipdict['location_bin1'] = zip_a #\n",
    "zipdict['location_bin2'] = zip_b #\n",
    "zipdict['location_bin3'] = zip_c #\n",
    "zipdict['location_bin4'] = zip_d #\n",
    "\n",
    "with open('dict_clusters/location1.json', 'w') as fp: #\n",
    "    json.dump(zipdict, fp)"
   ]
  },
  {
   "cell_type": "markdown",
   "metadata": {},
   "source": [
    "   "
   ]
  },
  {
   "cell_type": "markdown",
   "metadata": {},
   "source": [
    "   "
   ]
  },
  {
   "cell_type": "markdown",
   "metadata": {},
   "source": [
    "### 'agency' Categorical variable"
   ]
  },
  {
   "cell_type": "code",
   "execution_count": 62,
   "metadata": {},
   "outputs": [
    {
     "data": {
      "text/plain": [
       "<matplotlib.axes._subplots.AxesSubplot at 0x7f8fd4d4c1d0>"
      ]
     },
     "execution_count": 62,
     "metadata": {},
     "output_type": "execute_result"
    },
    {
     "data": {
      "image/png": "[encoded data removed]",
      "text/plain": [
       "<Figure size 2160x360 with 1 Axes>"
      ]
     },
     "metadata": {
      "needs_background": "light"
     },
     "output_type": "display_data"
    }
   ],
   "source": [
    "decode = df[['agency', 'TimeTaken']].groupby('agency')\\\n",
    "                    .count().sort_values(by='TimeTaken', ascending=False).reset_index()\n",
    "decode.plot(figsize=(30, 5))"
   ]
  },
  {
   "cell_type": "code",
   "execution_count": 66,
   "metadata": {},
   "outputs": [
    {
     "data": {
      "text/html": [
       "<div>\n",
       "<style scoped>\n",
       "    .dataframe tbody tr th:only-of-type {\n",
       "        vertical-align: middle;\n",
       "    }\n",
       "\n",
       "    .dataframe tbody tr th {\n",
       "        vertical-align: top;\n",
       "    }\n",
       "\n",
       "    .dataframe thead th {\n",
       "        text-align: right;\n",
       "    }\n",
       "</style>\n",
       "<table border=\"1\" class=\"dataframe\">\n",
       "  <thead>\n",
       "    <tr style=\"text-align: right;\">\n",
       "      <th></th>\n",
       "      <th>agency</th>\n",
       "      <th>TimeTaken</th>\n",
       "    </tr>\n",
       "  </thead>\n",
       "  <tbody>\n",
       "    <tr>\n",
       "      <th>0</th>\n",
       "      <td>HPD</td>\n",
       "      <td>565831</td>\n",
       "    </tr>\n",
       "    <tr>\n",
       "      <th>1</th>\n",
       "      <td>NYPD</td>\n",
       "      <td>486031</td>\n",
       "    </tr>\n",
       "    <tr>\n",
       "      <th>2</th>\n",
       "      <td>DOT</td>\n",
       "      <td>228859</td>\n",
       "    </tr>\n",
       "    <tr>\n",
       "      <th>3</th>\n",
       "      <td>DSNY</td>\n",
       "      <td>166798</td>\n",
       "    </tr>\n",
       "    <tr>\n",
       "      <th>4</th>\n",
       "      <td>DEP</td>\n",
       "      <td>154455</td>\n",
       "    </tr>\n",
       "  </tbody>\n",
       "</table>\n",
       "</div>"
      ],
      "text/plain": [
       "  agency  TimeTaken\n",
       "0    HPD     565831\n",
       "1   NYPD     486031\n",
       "2    DOT     228859\n",
       "3   DSNY     166798\n",
       "4    DEP     154455"
      ]
     },
     "execution_count": 66,
     "metadata": {},
     "output_type": "execute_result"
    }
   ],
   "source": [
    "decode.head()"
   ]
  },
  {
   "cell_type": "markdown",
   "metadata": {},
   "source": [
    "Categories:   \n",
    "bin1: >= 500,000   \n",
    "bin2: >= 400,000 and < 500,000   \n",
    "bin3: >= 200,000 and < 40,000   \n",
    "bin4: >= 150,000 and < 200,000     \n",
    "bin5: >= 30,000 and < 150,000     \n",
    "bin6: < 30,000"
   ]
  },
  {
   "cell_type": "code",
   "execution_count": 69,
   "metadata": {},
   "outputs": [],
   "source": [
    "def agency_encoding_func(file):\n",
    "    df = pd.read_csv(file)\n",
    "    decode = df[['agency', 'TimeTaken']].groupby('agency')\\\n",
    "                    .count().sort_values(by='TimeTaken', ascending=False).reset_index()\n",
    "    \n",
    "    bina = []\n",
    "    binb = []\n",
    "    binc = []\n",
    "    bind = []\n",
    "    bine = []\n",
    "    binf = []\n",
    "\n",
    "    for i in range(len(decode)):\n",
    "        if(decode['TimeTaken'][i] >= 500000):\n",
    "            bina.append(decode['agency'][i])\n",
    "\n",
    "        if(decode['TimeTaken'][i] >= 400000 and decode['TimeTaken'][i] < 500000):\n",
    "            binb.append(decode['agency'][i])\n",
    "\n",
    "        if(decode['TimeTaken'][i] >= 200000 and decode['TimeTaken'][i] < 40000):\n",
    "            binc.append(decode['agency'][i])\n",
    "\n",
    "        if(decode['TimeTaken'][i] >= 150000 and decode['TimeTaken'][i] < 200000):\n",
    "            bind.append(decode['agency'][i])\n",
    "        \n",
    "        if(decode['TimeTaken'][i] >= 30000 and decode['TimeTaken'][i] < 150000):\n",
    "            bine.append(decode['agency'][i])\n",
    "        \n",
    "        else:\n",
    "            binf.append(decode['agency'][i])\n",
    "    \n",
    "    return bina, binb, binc, bind, bine, binf\n"
   ]
  },
  {
   "cell_type": "code",
   "execution_count": 70,
   "metadata": {},
   "outputs": [],
   "source": [
    "zip_a = []\n",
    "zip_b = []\n",
    "zip_c = []\n",
    "zip_d = []\n",
    "zip_e = []\n",
    "zip_f = []\n",
    "\n",
    "for i in range(10):\n",
    "    file = 'serviceRequestData/data' +str(i)+ '.csv'\n",
    "    a, b, c, d, e, f = agency_encoding_func(file) #\n",
    "    zip_a = list(set(zip_a + a)) \n",
    "    zip_b = list(set(zip_b + b))\n",
    "    zip_c = list(set(zip_c + c))\n",
    "    zip_d = list(set(zip_d + d))\n",
    "    zip_e = list(set(zip_e + e))\n",
    "    zip_f = list(set(zip_f + f))\n",
    "    \n",
    "zipdict = dict()\n",
    "zipdict['agency_bin1'] = zip_a #\n",
    "zipdict['agency_bin2'] = zip_b #\n",
    "zipdict['agency_bin3'] = zip_c #\n",
    "zipdict['agency_bin4'] = zip_d #\n",
    "zipdict['agency_bin5'] = zip_e #\n",
    "zipdict['agency_bin6'] = zip_f #\n",
    "\n",
    "with open('dict_clusters/agency1.json', 'w') as fp: #\n",
    "    json.dump(zipdict, fp)"
   ]
  },
  {
   "cell_type": "markdown",
   "metadata": {},
   "source": [
    "   "
   ]
  },
  {
   "cell_type": "markdown",
   "metadata": {},
   "source": [
    "   "
   ]
  },
  {
   "cell_type": "markdown",
   "metadata": {},
   "source": [
    "### 'complaint_type' Categorical variable"
   ]
  },
  {
   "cell_type": "code",
   "execution_count": 71,
   "metadata": {},
   "outputs": [
    {
     "data": {
      "text/plain": [
       "<matplotlib.axes._subplots.AxesSubplot at 0x7f8fd55ed358>"
      ]
     },
     "execution_count": 71,
     "metadata": {},
     "output_type": "execute_result"
    },
    {
     "data": {
      "image/png": "[encoded data removed]",
      "text/plain": [
       "<Figure size 2160x360 with 1 Axes>"
      ]
     },
     "metadata": {
      "needs_background": "light"
     },
     "output_type": "display_data"
    }
   ],
   "source": [
    "decode = df[['complaint_type', 'TimeTaken']].groupby('complaint_type')\\\n",
    "                    .count().sort_values(by='TimeTaken', ascending=False).reset_index()\n",
    "decode.plot(figsize=(30, 5))"
   ]
  },
  {
   "cell_type": "code",
   "execution_count": 72,
   "metadata": {},
   "outputs": [
    {
     "data": {
      "text/html": [
       "<div>\n",
       "<style scoped>\n",
       "    .dataframe tbody tr th:only-of-type {\n",
       "        vertical-align: middle;\n",
       "    }\n",
       "\n",
       "    .dataframe tbody tr th {\n",
       "        vertical-align: top;\n",
       "    }\n",
       "\n",
       "    .dataframe thead th {\n",
       "        text-align: right;\n",
       "    }\n",
       "</style>\n",
       "<table border=\"1\" class=\"dataframe\">\n",
       "  <thead>\n",
       "    <tr style=\"text-align: right;\">\n",
       "      <th></th>\n",
       "      <th>complaint_type</th>\n",
       "      <th>TimeTaken</th>\n",
       "    </tr>\n",
       "  </thead>\n",
       "  <tbody>\n",
       "    <tr>\n",
       "      <th>0</th>\n",
       "      <td>Noise - Residential</td>\n",
       "      <td>169554</td>\n",
       "    </tr>\n",
       "    <tr>\n",
       "      <th>1</th>\n",
       "      <td>HEAT/HOT WATER</td>\n",
       "      <td>113677</td>\n",
       "    </tr>\n",
       "    <tr>\n",
       "      <th>2</th>\n",
       "      <td>Blocked Driveway</td>\n",
       "      <td>85711</td>\n",
       "    </tr>\n",
       "    <tr>\n",
       "      <th>3</th>\n",
       "      <td>Street Condition</td>\n",
       "      <td>85103</td>\n",
       "    </tr>\n",
       "    <tr>\n",
       "      <th>4</th>\n",
       "      <td>HEATING</td>\n",
       "      <td>83510</td>\n",
       "    </tr>\n",
       "  </tbody>\n",
       "</table>\n",
       "</div>"
      ],
      "text/plain": [
       "        complaint_type  TimeTaken\n",
       "0  Noise - Residential     169554\n",
       "1       HEAT/HOT WATER     113677\n",
       "2     Blocked Driveway      85711\n",
       "3     Street Condition      85103\n",
       "4              HEATING      83510"
      ]
     },
     "execution_count": 72,
     "metadata": {},
     "output_type": "execute_result"
    }
   ],
   "source": [
    "decode.head()"
   ]
  },
  {
   "cell_type": "code",
   "execution_count": 73,
   "metadata": {},
   "outputs": [],
   "source": [
    "def complaint_encoding_func(file):\n",
    "    df = pd.read_csv(file)\n",
    "    decode = df[['complaint_type', 'TimeTaken']].groupby('complaint_type')\\\n",
    "                    .count().sort_values(by='TimeTaken', ascending=False).reset_index()\n",
    "    \n",
    "    bina = []\n",
    "    binb = []\n",
    "    binc = []\n",
    "\n",
    "    for i in range(len(decode)):\n",
    "        if(decode['TimeTaken'][i] >= 100000):\n",
    "            bina.append(decode['complaint_type'][i])\n",
    "\n",
    "        if(decode['TimeTaken'][i] >= 50000 and decode['TimeTaken'][i] < 100000):\n",
    "            binb.append(decode['complaint_type'][i])\n",
    "        \n",
    "        else:\n",
    "            binc.append(decode['complaint_type'][i])\n",
    "    \n",
    "    return bina, binb, binc\n"
   ]
  },
  {
   "cell_type": "code",
   "execution_count": 75,
   "metadata": {},
   "outputs": [],
   "source": [
    "zip_a = []\n",
    "zip_b = []\n",
    "zip_c = []\n",
    "\n",
    "for i in range(10):\n",
    "    file = 'serviceRequestData/data' +str(i)+ '.csv'\n",
    "    a, b, c = complaint_encoding_func(file) #\n",
    "    zip_a = list(set(zip_a + a)) \n",
    "    zip_b = list(set(zip_b + b))\n",
    "    zip_c = list(set(zip_c + c))\n",
    "    \n",
    "zipdict = dict()\n",
    "zipdict['complaint_bin1'] = zip_a #\n",
    "zipdict['complaint_bin2'] = zip_b #\n",
    "zipdict['complaint_bin3'] = zip_c #\n",
    "\n",
    "with open('dict_clusters/complaint1.json', 'w') as fp: #\n",
    "    json.dump(zipdict, fp)"
   ]
  },
  {
   "cell_type": "markdown",
   "metadata": {},
   "source": [
    "   "
   ]
  },
  {
   "cell_type": "markdown",
   "metadata": {},
   "source": [
    "   "
   ]
  },
  {
   "cell_type": "markdown",
   "metadata": {},
   "source": [
    "### 'community_board' Categorical variable"
   ]
  },
  {
   "cell_type": "code",
   "execution_count": 76,
   "metadata": {},
   "outputs": [
    {
     "data": {
      "text/plain": [
       "<matplotlib.axes._subplots.AxesSubplot at 0x7f8fd6c1e7b8>"
      ]
     },
     "execution_count": 76,
     "metadata": {},
     "output_type": "execute_result"
    },
    {
     "data": {
      "image/png": "[encoded data removed]",
      "text/plain": [
       "<Figure size 2160x360 with 1 Axes>"
      ]
     },
     "metadata": {
      "needs_background": "light"
     },
     "output_type": "display_data"
    }
   ],
   "source": [
    "decode = df[['community_board', 'TimeTaken']].groupby('community_board')\\\n",
    "                    .count().sort_values(by='TimeTaken', ascending=False).reset_index()\n",
    "decode.plot(figsize=(30, 5))"
   ]
  },
  {
   "cell_type": "markdown",
   "metadata": {},
   "source": [
    "There are a lot of entries with Unspecified community_boards."
   ]
  },
  {
   "cell_type": "code",
   "execution_count": 79,
   "metadata": {},
   "outputs": [],
   "source": [
    "#>= 100,000, >= 10,000 and < 100,000, < 10,000"
   ]
  },
  {
   "cell_type": "code",
   "execution_count": 80,
   "metadata": {},
   "outputs": [],
   "source": [
    "def community_encoding_func(file):\n",
    "    df = pd.read_csv(file)\n",
    "    decode = df[['community_board', 'TimeTaken']].groupby('community_board')\\\n",
    "                    .count().sort_values(by='TimeTaken', ascending=False).reset_index()\n",
    "    \n",
    "    bina = []\n",
    "    binb = []\n",
    "    binc = []\n",
    "\n",
    "    for i in range(len(decode)):\n",
    "        if(decode['TimeTaken'][i] >= 100000):\n",
    "            bina.append(decode['community_board'][i])\n",
    "\n",
    "        if(decode['TimeTaken'][i] >= 10000 and decode['TimeTaken'][i] < 100000):\n",
    "            binb.append(decode['community_board'][i])\n",
    "        \n",
    "        else:\n",
    "            binc.append(decode['community_board'][i])\n",
    "    \n",
    "    return bina, binb, binc\n"
   ]
  },
  {
   "cell_type": "code",
   "execution_count": 81,
   "metadata": {},
   "outputs": [],
   "source": [
    "zip_a = []\n",
    "zip_b = []\n",
    "zip_c = []\n",
    "\n",
    "for i in range(10):\n",
    "    file = 'serviceRequestData/data' +str(i)+ '.csv'\n",
    "    a, b, c = community_encoding_func(file) #\n",
    "    zip_a = list(set(zip_a + a)) \n",
    "    zip_b = list(set(zip_b + b))\n",
    "    zip_c = list(set(zip_c + c))\n",
    "    \n",
    "zipdict = dict()\n",
    "zipdict['community_bin1'] = zip_a #\n",
    "zipdict['community_bin2'] = zip_b #\n",
    "zipdict['community_bin3'] = zip_c #\n",
    "\n",
    "with open('dict_clusters/community1.json', 'w') as fp: #\n",
    "    json.dump(zipdict, fp)"
   ]
  },
  {
   "cell_type": "markdown",
   "metadata": {},
   "source": [
    "  "
   ]
  },
  {
   "cell_type": "markdown",
   "metadata": {},
   "source": [
    "Now, that we know which value to put in which particular bin, we can go ahead and create our new Datasets with categorical variables and make it **Model-Ready** !!!"
   ]
  },
  {
   "cell_type": "markdown",
   "metadata": {},
   "source": [
    "Next Steps:   \n",
    "1. Replace original values with the bin keys for Categorical variables.   \n",
    "2. Do One-Hot Encoding of the Categorical variables.   \n",
    "3. Create Model Files and run it."
   ]
  },
  {
   "cell_type": "code",
   "execution_count": null,
   "metadata": {},
   "outputs": [],
   "source": []
  }
 ],
 "metadata": {
  "kernelspec": {
   "display_name": "Python 3",
   "language": "python",
   "name": "python3"
  },
  "language_info": {
   "codemirror_mode": {
    "name": "ipython",
    "version": 3
   },
   "file_extension": ".py",
   "mimetype": "text/x-python",
   "name": "python",
   "nbconvert_exporter": "python",
   "pygments_lexer": "ipython3",
   "version": "3.5.3"
  }
 },
 "nbformat": 4,
 "nbformat_minor": 2
}
