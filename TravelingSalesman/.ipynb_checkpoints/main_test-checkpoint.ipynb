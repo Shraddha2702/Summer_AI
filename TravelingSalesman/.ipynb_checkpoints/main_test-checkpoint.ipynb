{
 "cells": [
  {
   "cell_type": "code",
   "execution_count": 1,
   "metadata": {},
   "outputs": [],
   "source": [
    "import os"
   ]
  },
  {
   "cell_type": "code",
   "execution_count": 1,
   "metadata": {},
   "outputs": [],
   "source": [
    "import pandas as pd"
   ]
  },
  {
   "cell_type": "code",
   "execution_count": 3,
   "metadata": {},
   "outputs": [],
   "source": [
    "from Algorithms import SimulatedAnnealAlgo, AntColonyAlgo, GeneticAlgo, NearestNeighAlgo, SelfOrganizingMapAlgo"
   ]
  },
  {
   "cell_type": "code",
   "execution_count": 4,
   "metadata": {},
   "outputs": [],
   "source": [
    "algos = ['Simulated Annealing', 'Ant Colony Optimization', 'Genetic Algorithm', \\\n",
    "        'Nearest Neighbor Algorithm', 'Self Organization Maps']"
   ]
  },
  {
   "cell_type": "code",
   "execution_count": 2,
   "metadata": {},
   "outputs": [],
   "source": [
    "tt1 = [[103421.34, 0.18, 791556.37, 40.94, 676432.25, 30.06, 110503.75, 0.04, 84164.52, 133.82],\n",
    "[161711.72, 0.18, 2055073.30, 171.75, 1767024.95, 51.00, 161061.92, 0.18, 132068.36, 151.72],\n",
    "[182888.05, 0.30, 2726675.08, 306.05, 2497445.86, 69.88, 186761.62, 0.35, 151525.80, 161.18],\n",
    "[206821.82, 0.52, 3165958.04, 571.25, 3630668.61, 103.48, 202622.98, 0.70, 177577.58, 174.60],\n",
    "[287768.61, 1.82, 7267650.40, 2055.16, 7506015.23, 281.62, 282184.68, 2.77, 256168.88, 224.76], \n",
    "[407241.35, 6.85, 'N/A', 'N/A', 'N/A', 'N/A', 413749.70, 11.16, 367032.92, 348.57],\n",
    "[497500.08, 16.10, 'N/A', 'N/A', 'N/A', 'N/A', 503347.85, 25.32, 453309.92, 485.85], \n",
    "[561258.07, 27.72, 'N/A', 'N/A', 'N/A', 'N/A', 560824.18, 44.65, 529145.32, 650.18],\n",
    "[652946.92, 50.57, 'N/A', 'N/A', 'N/A', 'N/A', 641047.08, 92.65, 625475.15, 890.83]]"
   ]
  },
  {
   "cell_type": "markdown",
   "metadata": {},
   "source": [
    "# Results"
   ]
  },
  {
   "cell_type": "code",
   "execution_count": 3,
   "metadata": {},
   "outputs": [
    {
     "data": {
      "text/html": [
       "<div>\n",
       "<style scoped>\n",
       "    .dataframe tbody tr th:only-of-type {\n",
       "        vertical-align: middle;\n",
       "    }\n",
       "\n",
       "    .dataframe tbody tr th {\n",
       "        vertical-align: top;\n",
       "    }\n",
       "\n",
       "    .dataframe thead th {\n",
       "        text-align: right;\n",
       "    }\n",
       "</style>\n",
       "<table border=\"1\" class=\"dataframe\">\n",
       "  <thead>\n",
       "    <tr style=\"text-align: right;\">\n",
       "      <th></th>\n",
       "      <th>200</th>\n",
       "      <th>500</th>\n",
       "      <th>700</th>\n",
       "      <th>1000</th>\n",
       "      <th>2000</th>\n",
       "      <th>4000</th>\n",
       "      <th>6000</th>\n",
       "      <th>8000</th>\n",
       "      <th>10000</th>\n",
       "    </tr>\n",
       "  </thead>\n",
       "  <tbody>\n",
       "    <tr>\n",
       "      <th>Simulated Annealing</th>\n",
       "      <td>103421</td>\n",
       "      <td>161712</td>\n",
       "      <td>182888</td>\n",
       "      <td>206822</td>\n",
       "      <td>287769</td>\n",
       "      <td>407241</td>\n",
       "      <td>497500</td>\n",
       "      <td>561258</td>\n",
       "      <td>652947</td>\n",
       "    </tr>\n",
       "    <tr>\n",
       "      <th>TimeTaken</th>\n",
       "      <td>0.18</td>\n",
       "      <td>0.18</td>\n",
       "      <td>0.3</td>\n",
       "      <td>0.52</td>\n",
       "      <td>1.82</td>\n",
       "      <td>6.85</td>\n",
       "      <td>16.1</td>\n",
       "      <td>27.72</td>\n",
       "      <td>50.57</td>\n",
       "    </tr>\n",
       "    <tr>\n",
       "      <th>Ant Colony</th>\n",
       "      <td>791556</td>\n",
       "      <td>2.05507e+06</td>\n",
       "      <td>2.72668e+06</td>\n",
       "      <td>3.16596e+06</td>\n",
       "      <td>7.26765e+06</td>\n",
       "      <td>N/A</td>\n",
       "      <td>N/A</td>\n",
       "      <td>N/A</td>\n",
       "      <td>N/A</td>\n",
       "    </tr>\n",
       "    <tr>\n",
       "      <th>TimeTaken</th>\n",
       "      <td>40.94</td>\n",
       "      <td>171.75</td>\n",
       "      <td>306.05</td>\n",
       "      <td>571.25</td>\n",
       "      <td>2055.16</td>\n",
       "      <td>N/A</td>\n",
       "      <td>N/A</td>\n",
       "      <td>N/A</td>\n",
       "      <td>N/A</td>\n",
       "    </tr>\n",
       "    <tr>\n",
       "      <th>Genetic Algorithm</th>\n",
       "      <td>676432</td>\n",
       "      <td>1.76702e+06</td>\n",
       "      <td>2.49745e+06</td>\n",
       "      <td>3.63067e+06</td>\n",
       "      <td>7.50602e+06</td>\n",
       "      <td>N/A</td>\n",
       "      <td>N/A</td>\n",
       "      <td>N/A</td>\n",
       "      <td>N/A</td>\n",
       "    </tr>\n",
       "    <tr>\n",
       "      <th>TimeTaken</th>\n",
       "      <td>30.06</td>\n",
       "      <td>51</td>\n",
       "      <td>69.88</td>\n",
       "      <td>103.48</td>\n",
       "      <td>281.62</td>\n",
       "      <td>N/A</td>\n",
       "      <td>N/A</td>\n",
       "      <td>N/A</td>\n",
       "      <td>N/A</td>\n",
       "    </tr>\n",
       "    <tr>\n",
       "      <th>NearestNeighbor</th>\n",
       "      <td>110504</td>\n",
       "      <td>161062</td>\n",
       "      <td>186762</td>\n",
       "      <td>202623</td>\n",
       "      <td>282185</td>\n",
       "      <td>413750</td>\n",
       "      <td>503348</td>\n",
       "      <td>560824</td>\n",
       "      <td>641047</td>\n",
       "    </tr>\n",
       "    <tr>\n",
       "      <th>TimeTaken</th>\n",
       "      <td>0.04</td>\n",
       "      <td>0.18</td>\n",
       "      <td>0.35</td>\n",
       "      <td>0.7</td>\n",
       "      <td>2.77</td>\n",
       "      <td>11.16</td>\n",
       "      <td>25.32</td>\n",
       "      <td>44.65</td>\n",
       "      <td>92.65</td>\n",
       "    </tr>\n",
       "    <tr>\n",
       "      <th>Self Organizing Map</th>\n",
       "      <td>84164.5</td>\n",
       "      <td>132068</td>\n",
       "      <td>151526</td>\n",
       "      <td>177578</td>\n",
       "      <td>256169</td>\n",
       "      <td>367033</td>\n",
       "      <td>453310</td>\n",
       "      <td>529145</td>\n",
       "      <td>625475</td>\n",
       "    </tr>\n",
       "    <tr>\n",
       "      <th>TimeTaken</th>\n",
       "      <td>133.82</td>\n",
       "      <td>151.72</td>\n",
       "      <td>161.18</td>\n",
       "      <td>174.6</td>\n",
       "      <td>224.76</td>\n",
       "      <td>348.57</td>\n",
       "      <td>485.85</td>\n",
       "      <td>650.18</td>\n",
       "      <td>890.83</td>\n",
       "    </tr>\n",
       "  </tbody>\n",
       "</table>\n",
       "</div>"
      ],
      "text/plain": [
       "                       200          500          700          1000   \\\n",
       "Simulated Annealing   103421       161712       182888       206822   \n",
       "TimeTaken               0.18         0.18          0.3         0.52   \n",
       "Ant Colony            791556  2.05507e+06  2.72668e+06  3.16596e+06   \n",
       "TimeTaken              40.94       171.75       306.05       571.25   \n",
       "Genetic Algorithm     676432  1.76702e+06  2.49745e+06  3.63067e+06   \n",
       "TimeTaken              30.06           51        69.88       103.48   \n",
       "NearestNeighbor       110504       161062       186762       202623   \n",
       "TimeTaken               0.04         0.18         0.35          0.7   \n",
       "Self Organizing Map  84164.5       132068       151526       177578   \n",
       "TimeTaken             133.82       151.72       161.18        174.6   \n",
       "\n",
       "                           2000    4000    6000    8000    10000  \n",
       "Simulated Annealing       287769  407241  497500  561258  652947  \n",
       "TimeTaken                   1.82    6.85    16.1   27.72   50.57  \n",
       "Ant Colony           7.26765e+06     N/A     N/A     N/A     N/A  \n",
       "TimeTaken                2055.16     N/A     N/A     N/A     N/A  \n",
       "Genetic Algorithm    7.50602e+06     N/A     N/A     N/A     N/A  \n",
       "TimeTaken                 281.62     N/A     N/A     N/A     N/A  \n",
       "NearestNeighbor           282185  413750  503348  560824  641047  \n",
       "TimeTaken                   2.77   11.16   25.32   44.65   92.65  \n",
       "Self Organizing Map       256169  367033  453310  529145  625475  \n",
       "TimeTaken                 224.76  348.57  485.85  650.18  890.83  "
      ]
     },
     "execution_count": 3,
     "metadata": {},
     "output_type": "execute_result"
    }
   ],
   "source": [
    "pd.DataFrame(tt1, columns=['Simulated Annealing', 'TimeTaken', 'Ant Colony', 'TimeTaken', \\\n",
    "                          'Genetic Algorithm', 'TimeTaken', 'NearestNeighbor', 'TimeTaken', \\\n",
    "                          'Self Organizing Map', 'TimeTaken'], \\\n",
    "            index=[200, 500, 700, 1000, 2000, 4000, 6000, 8000, 10000]).T"
   ]
  },
  {
   "cell_type": "markdown",
   "metadata": {},
   "source": [
    "# Implementation"
   ]
  },
  {
   "cell_type": "code",
   "execution_count": 5,
   "metadata": {},
   "outputs": [],
   "source": [
    "objects = [SimulatedAnnealAlgo, AntColonyAlgo, GeneticAlgo, NearestNeighAlgo, SelfOrganizingMapAlgo]"
   ]
  },
  {
   "cell_type": "code",
   "execution_count": 6,
   "metadata": {},
   "outputs": [],
   "source": [
    "directories = os.listdir('datasets')\n",
    "#directories.remove('.ipynb_checkpoints')"
   ]
  },
  {
   "cell_type": "markdown",
   "metadata": {},
   "source": [
    "### Dataset with 200 points"
   ]
  },
  {
   "cell_type": "code",
   "execution_count": 8,
   "metadata": {},
   "outputs": [
    {
     "name": "stdout",
     "output_type": "stream",
     "text": [
      "Simulated Annealing Performance\n",
      "Shortest Path Length 103421.34363959703\n",
      "Time lapsed 0.17664337158203125\n",
      "\n",
      "\n",
      "Ant Colony Optimization Performance\n",
      "Shortest Path Length 791556.3661486261\n",
      "Time lapsed 40.93504810333252\n",
      "\n",
      "\n",
      "Genetic Algorithm Performance\n",
      "Shortest Path Length 676432.250007294\n",
      "Time lapsed 30.059457540512085\n",
      "\n",
      "\n",
      "Nearest Neighbor Algorithm Performance\n",
      "Shortest Path Length 110503.74852717748\n",
      "Time lapsed 0.03395795822143555\n",
      "\n",
      "\n",
      "Self Organization Maps Performance\n",
      "Shortest Path Length 84164.52288154219\n",
      "Time lapsed 133.81587862968445\n",
      "\n",
      "\n"
     ]
    }
   ],
   "source": [
    "for i in range(5):\n",
    "    print(algos[i] +' Performance')\n",
    "    objects[i].main('datasets/data_200.csv')\n",
    "    print('\\n')"
   ]
  },
  {
   "cell_type": "markdown",
   "metadata": {},
   "source": [
    "### Dataset with 500 points"
   ]
  },
  {
   "cell_type": "code",
   "execution_count": 9,
   "metadata": {},
   "outputs": [
    {
     "name": "stdout",
     "output_type": "stream",
     "text": [
      "Simulated Annealing Performance\n",
      "Shortest Path Length 161711.7236700862\n",
      "Time lapsed 0.18022370338439941\n",
      "\n",
      "\n",
      "Ant Colony Optimization Performance\n",
      "Shortest Path Length 2055073.292702069\n",
      "Time lapsed 171.7551667690277\n",
      "\n",
      "\n",
      "Genetic Algorithm Performance\n",
      "Shortest Path Length 1767024.9501475769\n",
      "Time lapsed 51.00701069831848\n",
      "\n",
      "\n",
      "Nearest Neighbor Algorithm Performance\n",
      "Shortest Path Length 161061.9129049421\n",
      "Time lapsed 0.18267011642456055\n",
      "\n",
      "\n",
      "Self Organization Maps Performance\n",
      "Shortest Path Length 132068.35904648277\n",
      "Time lapsed 151.71877670288086\n",
      "\n",
      "\n"
     ]
    }
   ],
   "source": [
    "for i in range(5):\n",
    "    print(algos[i] +' Performance')\n",
    "    objects[i].main('datasets/data_500.csv')\n",
    "    print('\\n')"
   ]
  },
  {
   "cell_type": "markdown",
   "metadata": {},
   "source": [
    "### Dataset with 700 points"
   ]
  },
  {
   "cell_type": "code",
   "execution_count": 10,
   "metadata": {},
   "outputs": [
    {
     "name": "stdout",
     "output_type": "stream",
     "text": [
      "Simulated Annealing Performance\n",
      "Shortest Path Length 182888.04859304408\n",
      "Time lapsed 0.29369068145751953\n",
      "\n",
      "\n",
      "Ant Colony Optimization Performance\n",
      "Shortest Path Length 2726675.077434805\n",
      "Time lapsed 306.05685925483704\n",
      "\n",
      "\n",
      "Genetic Algorithm Performance\n",
      "Shortest Path Length 2497445.8614861243\n",
      "Time lapsed 69.88438868522644\n",
      "\n",
      "\n",
      "Nearest Neighbor Algorithm Performance\n",
      "Shortest Path Length 186761.62067751994\n",
      "Time lapsed 0.3528099060058594\n",
      "\n",
      "\n",
      "Self Organization Maps Performance\n",
      "Shortest Path Length 151525.8063197085\n",
      "Time lapsed 161.18689441680908\n",
      "\n",
      "\n"
     ]
    }
   ],
   "source": [
    "for i in range(5):\n",
    "    print(algos[i] +' Performance')\n",
    "    objects[i].main('datasets/data_700.csv')\n",
    "    print('\\n')"
   ]
  },
  {
   "cell_type": "markdown",
   "metadata": {},
   "source": [
    "### Dataset with 1000 points"
   ]
  },
  {
   "cell_type": "code",
   "execution_count": 11,
   "metadata": {},
   "outputs": [
    {
     "name": "stdout",
     "output_type": "stream",
     "text": [
      "Simulated Annealing Performance\n",
      "Shortest Path Length 206821.82004356303\n",
      "Time lapsed 0.5152089595794678\n",
      "\n",
      "\n",
      "Ant Colony Optimization Performance\n",
      "Shortest Path Length 3165958.0419051424\n",
      "Time lapsed 571.2501888275146\n",
      "\n",
      "\n",
      "Genetic Algorithm Performance\n",
      "Shortest Path Length 3630668.6141008176\n",
      "Time lapsed 103.47657632827759\n",
      "\n",
      "\n",
      "Nearest Neighbor Algorithm Performance\n",
      "Shortest Path Length 202622.98230405006\n",
      "Time lapsed 0.7005798816680908\n",
      "\n",
      "\n",
      "Self Organization Maps Performance\n",
      "Shortest Path Length 177577.58964535882\n",
      "Time lapsed 174.59548258781433\n",
      "\n",
      "\n"
     ]
    }
   ],
   "source": [
    "for i in range(5):\n",
    "    print(algos[i] +' Performance')\n",
    "    objects[i].main('datasets/data_1000.csv')\n",
    "    print('\\n')"
   ]
  },
  {
   "cell_type": "markdown",
   "metadata": {},
   "source": [
    "### Dataset with 2000 points"
   ]
  },
  {
   "cell_type": "code",
   "execution_count": 12,
   "metadata": {},
   "outputs": [
    {
     "name": "stdout",
     "output_type": "stream",
     "text": [
      "Simulated Annealing Performance\n",
      "Shortest Path Length 287768.61016204645\n",
      "Time lapsed 1.8210937976837158\n",
      "\n",
      "\n",
      "Ant Colony Optimization Performance\n",
      "Shortest Path Length 7267650.401221303\n",
      "Time lapsed 2055.16499209404\n",
      "\n",
      "\n",
      "Genetic Algorithm Performance\n",
      "Shortest Path Length 7506015.231082485\n",
      "Time lapsed 281.62294816970825\n",
      "\n",
      "\n",
      "Nearest Neighbor Algorithm Performance\n",
      "Shortest Path Length 282184.6812560802\n",
      "Time lapsed 2.7768588066101074\n",
      "\n",
      "\n",
      "Self Organization Maps Performance\n",
      "Shortest Path Length 256168.88345652615\n",
      "Time lapsed 224.76998472213745\n",
      "\n",
      "\n"
     ]
    }
   ],
   "source": [
    "for i in range(5):\n",
    "    print(algos[i] +' Performance')\n",
    "    objects[i].main('datasets/data_2000.csv')\n",
    "    print('\\n')"
   ]
  },
  {
   "cell_type": "markdown",
   "metadata": {},
   "source": [
    "### Since, The Ant Colony Optimization Technique didn't perform so well, also it took a long time to run on the bigger datasets. So, removed this one from consideration."
   ]
  },
  {
   "cell_type": "code",
   "execution_count": 5,
   "metadata": {},
   "outputs": [],
   "source": [
    "objects = [SimulatedAnnealAlgo, NearestNeighAlgo, SelfOrganizingMapAlgo]\n",
    "algos = ['Simulated Annealing', 'Nearest Neighbor Algorithm', 'Self Organization Maps']"
   ]
  },
  {
   "cell_type": "markdown",
   "metadata": {},
   "source": [
    "### Dataset with 4000 points"
   ]
  },
  {
   "cell_type": "code",
   "execution_count": 16,
   "metadata": {},
   "outputs": [
    {
     "name": "stdout",
     "output_type": "stream",
     "text": [
      "Simulated Annealing Performance\n",
      "Shortest Path Length 410494.348260217\n",
      "Time lapsed 6.857469081878662\n",
      "\n",
      "\n",
      "Nearest Neighbor Algorithm Performance\n",
      "Shortest Path Length 413749.70586481097\n",
      "Time lapsed 11.161938905715942\n",
      "\n",
      "\n",
      "Self Organization Maps Performance\n",
      "Shortest Path Length 367032.9207328028\n",
      "Time lapsed 348.5783631801605\n"
     ]
    }
   ],
   "source": [
    "for i in range(3):\n",
    "    print(algos[i] +' Performance')\n",
    "    objects[i].main('datasets/data_4000.csv')\n",
    "    print('\\n')"
   ]
  },
  {
   "cell_type": "markdown",
   "metadata": {},
   "source": [
    "### Dataset with 6000 points"
   ]
  },
  {
   "cell_type": "code",
   "execution_count": 6,
   "metadata": {},
   "outputs": [
    {
     "name": "stdout",
     "output_type": "stream",
     "text": [
      "Simulated Annealing Performance\n",
      "Shortest Path Length 497500.0860883557\n",
      "Time lapsed 16.10904550552368\n",
      "\n",
      "\n",
      "Nearest Neighbor Algorithm Performance\n",
      "Shortest Path Length 503347.8458505348\n",
      "Time lapsed 25.318995475769043\n",
      "\n",
      "\n",
      "Self Organization Maps Performance\n",
      "Shortest Path Length 453309.9202180664\n",
      "Time lapsed 485.8549289703369\n",
      "\n",
      "\n"
     ]
    }
   ],
   "source": [
    "for i in range(3):\n",
    "    print(algos[i] +' Performance')\n",
    "    objects[i].main('datasets/data_6000.csv')\n",
    "    print('\\n')"
   ]
  },
  {
   "cell_type": "markdown",
   "metadata": {},
   "source": [
    "### Dataset with 8000 points"
   ]
  },
  {
   "cell_type": "code",
   "execution_count": 7,
   "metadata": {},
   "outputs": [
    {
     "name": "stdout",
     "output_type": "stream",
     "text": [
      "Simulated Annealing Performance\n",
      "Shortest Path Length 561258.0706170923\n",
      "Time lapsed 27.723559141159058\n",
      "\n",
      "\n",
      "Nearest Neighbor Algorithm Performance\n",
      "Shortest Path Length 560824.184293596\n",
      "Time lapsed 44.647754192352295\n",
      "\n",
      "\n",
      "Self Organization Maps Performance\n",
      "Shortest Path Length 529145.3213923227\n",
      "Time lapsed 650.1847746372223\n",
      "\n",
      "\n"
     ]
    }
   ],
   "source": [
    "for i in range(3):\n",
    "    print(algos[i] +' Performance')\n",
    "    objects[i].main('datasets/data_8000.csv')\n",
    "    print('\\n')"
   ]
  },
  {
   "cell_type": "markdown",
   "metadata": {},
   "source": [
    "### Dataset with 10000 points"
   ]
  },
  {
   "cell_type": "code",
   "execution_count": 8,
   "metadata": {},
   "outputs": [
    {
     "name": "stdout",
     "output_type": "stream",
     "text": [
      "Simulated Annealing Performance\n",
      "Shortest Path Length 652946.9199503904\n",
      "Time lapsed 50.56765270233154\n",
      "\n",
      "\n",
      "Nearest Neighbor Algorithm Performance\n",
      "Shortest Path Length 641047.0791725904\n",
      "Time lapsed 92.65533113479614\n",
      "\n",
      "\n",
      "Self Organization Maps Performance\n",
      "Shortest Path Length 625475.1453815033\n",
      "Time lapsed 890.8290936946869\n",
      "\n",
      "\n"
     ]
    }
   ],
   "source": [
    "for i in range(3):\n",
    "    print(algos[i] +' Performance')\n",
    "    objects[i].main('datasets/data_10000.csv')\n",
    "    print('\\n')"
   ]
  },
  {
   "cell_type": "code",
   "execution_count": 16,
   "metadata": {},
   "outputs": [],
   "source": [
    "tt = [[[103421.34, 0.18], [791556.37, 40.94], [676432.25, 30.06], [110503.75, 0.04], [84164.52, 133.82]],\n",
    "[[161711.72, 0.18], [2055073.30, 171.75], [1767024.95, 51.00], [161061.92, 0.18], [132068.36, 151.72]],\n",
    "[[182888.05, 0.30], [2726675.08, 306.05], [2497445.86, 69.88], [186761.62, 0.35], [151525.80, 161.18]],\n",
    "[[206821.82, 0.52], [3165958.04, 571.25], [3630668.61, 103.48], [202622.98, 0.70], [177577.58, 174.60]],\n",
    "[[287768.61, 1.82], [7267650.40, 2055.16], [7506015.23, 281.62], [282184.68, 2.77], [256168.88, 224.76]], \n",
    "[[407241.35, 6.85], ['N/A', 'N/A'], ['N/A', 'N/A'], [413749.70, 11.16], [367032.92, 348.57]],\n",
    "[[497500.08, 16.10], ['N/A', 'N/A'], ['N/A', 'N/A'], [503347.85, 25.32], [453309.92, 485.85]], \n",
    "[[561258.07, 27.72], ['N/A', 'N/A'], ['N/A', 'N/A'], [560824.18, 44.65], [529145.32, 650.18]],\n",
    "[[652946.92, 50.57], ['N/A', 'N/A'], ['N/A', 'N/A'], [641047.08, 92.65], [625475.15, 890.83]]]"
   ]
  },
  {
   "cell_type": "code",
   "execution_count": null,
   "metadata": {},
   "outputs": [],
   "source": []
  }
 ],
 "metadata": {
  "kernelspec": {
   "display_name": "Python 3",
   "language": "python",
   "name": "python3"
  },
  "language_info": {
   "codemirror_mode": {
    "name": "ipython",
    "version": 3
   },
   "file_extension": ".py",
   "mimetype": "text/x-python",
   "name": "python",
   "nbconvert_exporter": "python",
   "pygments_lexer": "ipython3",
   "version": "3.5.3"
  }
 },
 "nbformat": 4,
 "nbformat_minor": 2
}
