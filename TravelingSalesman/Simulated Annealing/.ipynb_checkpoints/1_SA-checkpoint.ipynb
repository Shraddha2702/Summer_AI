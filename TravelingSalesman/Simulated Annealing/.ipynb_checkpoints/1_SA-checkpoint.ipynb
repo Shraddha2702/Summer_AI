{
 "cells": [
  {
   "cell_type": "markdown",
   "metadata": {},
   "source": [
    "# Simulated Annealing for Traveling Salesman Problem"
   ]
  },
  {
   "cell_type": "markdown",
   "metadata": {},
   "source": [
    "*In the Traveling Salesman Problem, each state is typically defined as a permutation of the cities to be visited, and its neighbors are the set of permutations produced by reversing the order of any two successive cities.*  \n",
    "   \n",
    "*The well-defined way in which the states are altered to produce neighboring states is called a \"move\", and different moves give different set of neighboring states. These moves usually result in minimal alterations of the last state, in an attempt to progressively improve the solution through iteratively improving its parts.*"
   ]
  },
  {
   "cell_type": "markdown",
   "metadata": {},
   "source": [
    "![sa2](sa2.png)"
   ]
  },
  {
   "cell_type": "markdown",
   "metadata": {},
   "source": [
    "- The simulated Annealing was originally inspired from the process of annealing in metal work.   \n",
    "- Annealing involves heating and cooling a material to alter its physical properties due to the changes in its internal structure.   \n",
    "- As the metal cools, its new structure becomes fixed, consequently casuing the metal to retain its newly obtained properties.   \n",
    "- To Read more go to the Wikipedia Link https://en.wikipedia.org/wiki/Simulated_annealing"
   ]
  },
  {
   "cell_type": "markdown",
   "metadata": {},
   "source": [
    "**Logic**   \n",
    "- First we check if the neighbouring solutions are better than our current solution. If it is, we accept it unconditionally.   \n",
    "- If however, they aren't we need to consider a couple of factors. Firstly, how much worse the neighbour solution is; and secondly how high the current 'temperature' of our system is. At high temperatures, the system is more likely to accept solutions that are worst.   \n",
    "- Basically, the smaller the change in energy and higher the temperature, the more likely it is for the Algorithm to accept the solution."
   ]
  },
  {
   "cell_type": "markdown",
   "metadata": {},
   "source": [
    "**Algorithm Overview**  \n",
    "1. We need to set the initial Temperature and create a random initial solution.   \n",
    "2. Then we begin looping until our stop solution is met. Usually either the system has sufficiently cooled, or a good-enough solution has been found.   \n",
    "3. From here we select a neighbour by making a small change to our current solution.   \n",
    "4. We then decide whether to move to that neighbour solution.   \n",
    "5. Finally, we decrease the temperature and continue looping.   "
   ]
  },
  {
   "cell_type": "markdown",
   "metadata": {},
   "source": [
    "![Simulated Annealing](sa.png)"
   ]
  },
  {
   "cell_type": "markdown",
   "metadata": {},
   "source": [
    "  "
   ]
  },
  {
   "cell_type": "markdown",
   "metadata": {},
   "source": [
    "### Code"
   ]
  },
  {
   "cell_type": "code",
   "execution_count": 25,
   "metadata": {},
   "outputs": [],
   "source": [
    "import pandas as pd\n",
    "import numpy as np\n",
    "import matplotlib.pyplot as plt\n",
    "import time\n",
    "import random\n",
    "import math\n",
    "import warnings\n",
    "warnings.filterwarnings('ignore')"
   ]
  },
  {
   "cell_type": "code",
   "execution_count": 22,
   "metadata": {},
   "outputs": [],
   "source": [
    "class SimAnneal(object):\n",
    "    def __init__(self, coords, T=-1, alpha=-1, stopping_T=-1, stopping_iter=-1):\n",
    "        self.coords = coords\n",
    "        self.N = len(coords)\n",
    "        self.T = math.sqrt(self.N) if T == -1 else T\n",
    "        self.T_save = self.T  # save inital T to reset if batch annealing is used\n",
    "        self.alpha = 0.995 if alpha == -1 else alpha\n",
    "        self.stopping_temperature = 1e-8 if stopping_T == -1 else stopping_T\n",
    "        self.stopping_iter = 100000 if stopping_iter == -1 else stopping_iter\n",
    "        self.iteration = 1\n",
    "\n",
    "        self.nodes = [i for i in range(self.N)]\n",
    "\n",
    "        self.best_solution = None\n",
    "        self.best_fitness = float(\"Inf\")\n",
    "        self.fitness_list = []\n",
    "    \n",
    "    \n",
    "    def initial_solution(self):\n",
    "        \"\"\"\n",
    "        Greedy algorithm to get an initial solution (closest-neighbour).\n",
    "        \"\"\"\n",
    "        cur_node = random.choice(self.nodes)  # start from a random node\n",
    "        solution = [cur_node]\n",
    "\n",
    "        free_nodes = set(self.nodes)\n",
    "        free_nodes.remove(cur_node)\n",
    "        while free_nodes:\n",
    "            next_node = min(free_nodes, key=lambda x: self.dist(cur_node, x))  # nearest neighbour\n",
    "            free_nodes.remove(next_node)\n",
    "            solution.append(next_node)\n",
    "            cur_node = next_node\n",
    "\n",
    "        cur_fit = self.fitness(solution)\n",
    "        if cur_fit < self.best_fitness:  # If best found so far, update best fitness\n",
    "            self.best_fitness = cur_fit\n",
    "            self.best_solution = solution\n",
    "        self.fitness_list.append(cur_fit)\n",
    "        return solution, cur_fit\n",
    "\n",
    "    \n",
    "    def dist(self, node_0, node_1):\n",
    "        \"\"\"\n",
    "        Euclidean distance between two nodes.\n",
    "        \"\"\"\n",
    "        coord_0, coord_1 = self.coords[node_0], self.coords[node_1]\n",
    "        return math.sqrt((coord_0[0] - coord_1[0]) ** 2 + (coord_0[1] - coord_1[1]) ** 2)\n",
    "\n",
    "    \n",
    "    def fitness(self, solution):\n",
    "        \"\"\"\n",
    "        Total distance of the current solution path.\n",
    "        \"\"\"\n",
    "        cur_fit = 0\n",
    "        for i in range(self.N):\n",
    "            cur_fit += self.dist(solution[i % self.N], solution[(i + 1) % self.N])\n",
    "        return cur_fit\n",
    "\n",
    "    \n",
    "    def p_accept(self, candidate_fitness):\n",
    "        \"\"\"\n",
    "        Probability of accepting if the candidate is worse than current.\n",
    "        Depends on the current temperature and difference between candidate and current.\n",
    "        \"\"\"\n",
    "        return math.exp(-abs(candidate_fitness - self.cur_fitness) / self.T)\n",
    "\n",
    "    \n",
    "    def accept(self, candidate):\n",
    "        \"\"\"\n",
    "        Accept with probability 1 if candidate is better than current.\n",
    "        Accept with probabilty p_accept(..) if candidate is worse.\n",
    "        \"\"\"\n",
    "        candidate_fitness = self.fitness(candidate)\n",
    "        if candidate_fitness < self.cur_fitness:\n",
    "            self.cur_fitness, self.cur_solution = candidate_fitness, candidate\n",
    "            if candidate_fitness < self.best_fitness:\n",
    "                self.best_fitness, self.best_solution = candidate_fitness, candidate\n",
    "        else:\n",
    "            if random.random() < self.p_accept(candidate_fitness):\n",
    "                self.cur_fitness, self.cur_solution = candidate_fitness, candidate\n",
    "\n",
    "                \n",
    "    def anneal(self):\n",
    "        \"\"\"\n",
    "        Execute simulated annealing algorithm.\n",
    "        \"\"\"\n",
    "        # Initialize with the greedy solution.\n",
    "        self.cur_solution, self.cur_fitness = self.initial_solution()\n",
    "\n",
    "        print(\"Starting annealing.\")\n",
    "        while self.T >= self.stopping_temperature and self.iteration < self.stopping_iter:\n",
    "            candidate = list(self.cur_solution)\n",
    "            l = random.randint(2, self.N - 1)\n",
    "            i = random.randint(0, self.N - l)\n",
    "            candidate[i : (i + l)] = reversed(candidate[i : (i + l)])\n",
    "            self.accept(candidate)\n",
    "            self.T *= self.alpha\n",
    "            self.iteration += 1\n",
    "\n",
    "            self.fitness_list.append(self.cur_fitness)\n",
    "\n",
    "        print(\"Best fitness obtained: \", self.best_fitness)\n",
    "        improvement = 100 * (self.fitness_list[0] - self.best_fitness) / (self.fitness_list[0])\n",
    "        #print(f\"Improvement over greedy heuristic: {improvement : .2f}%\")\n",
    "\n",
    "        \n",
    "    def batch_anneal(self, times=10):\n",
    "        \"\"\"\n",
    "        Execute simulated annealing algorithm `times` times, with random initial solutions.\n",
    "        \"\"\"\n",
    "        for i in range(1, times + 1):\n",
    "            print(f\"Iteration {i}/{times} -------------------------------\")\n",
    "            self.T = self.T_save\n",
    "            self.iteration = 1\n",
    "            self.cur_solution, self.cur_fitness = self.initial_solution()\n",
    "            self.anneal()\n"
   ]
  },
  {
   "cell_type": "code",
   "execution_count": 23,
   "metadata": {},
   "outputs": [],
   "source": [
    "def read_data(count):\n",
    "    df = pd.read_csv('../data.csv', header=None) \n",
    "    nodes = []\n",
    "    for i in range(len(df[0])):\n",
    "        sp = df[0][i].split(' ')\n",
    "        x = float(sp[1])\n",
    "        y = float(sp[2])\n",
    "        nodes.append([x, y])\n",
    "    nodes = nodes[:count]   \n",
    "    return nodes\n"
   ]
  },
  {
   "cell_type": "code",
   "execution_count": 26,
   "metadata": {},
   "outputs": [
    {
     "name": "stdout",
     "output_type": "stream",
     "text": [
      "Starting annealing.\n",
      "Best fitness obtained:  25185.4059094947\n",
      "Time lapsed to find the shortest path 0.2506887912750244\n"
     ]
    }
   ],
   "source": [
    "start = time.time()\n",
    "\n",
    "nodes = read_data(500)\n",
    "sa = SimAnneal(nodes, stopping_iter=100)\n",
    "sa.anneal()\n",
    "\n",
    "time_lapse = time.time() - start\n",
    "print('Time lapsed to find the shortest path', time_lapse)"
   ]
  },
  {
   "cell_type": "markdown",
   "metadata": {},
   "source": [
    "   "
   ]
  },
  {
   "cell_type": "markdown",
   "metadata": {},
   "source": [
    "   "
   ]
  },
  {
   "cell_type": "markdown",
   "metadata": {},
   "source": [
    "REFERENCES:   \n",
    "1. https://github.com/chncyhn/simulated-annealing-tsp/blob/master/test.py    \n",
    "2. http://www.theprojectspot.com/tutorial-post/simulated-annealing-algorithm-for-beginners/6"
   ]
  }
 ],
 "metadata": {
  "kernelspec": {
   "display_name": "Python 3",
   "language": "python",
   "name": "python3"
  },
  "language_info": {
   "codemirror_mode": {
    "name": "ipython",
    "version": 3
   },
   "file_extension": ".py",
   "mimetype": "text/x-python",
   "name": "python",
   "nbconvert_exporter": "python",
   "pygments_lexer": "ipython3",
   "version": "3.5.3"
  }
 },
 "nbformat": 4,
 "nbformat_minor": 2
}
