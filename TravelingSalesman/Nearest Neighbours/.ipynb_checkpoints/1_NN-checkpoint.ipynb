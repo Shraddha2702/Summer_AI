{
 "cells": [
  {
   "cell_type": "markdown",
   "metadata": {},
   "source": [
    "# Nearest Neighbor Algorithm for Solving Traveling Salesman Problem"
   ]
  },
  {
   "cell_type": "markdown",
   "metadata": {},
   "source": [
    "![NN](nn.gif)"
   ]
  },
  {
   "cell_type": "markdown",
   "metadata": {},
   "source": [
    "One of the most basic Algorithms for the Traveling Salesman Problem is the Nearest Neighbour Algorithm. It's a Brute Force Technique.    \n",
    "    \n",
    "### Algorithm:   \n",
    "1. Make two set of nodes, A and B, and put all nodes into set B.    \n",
    "2. Put your starting node into set A.   \n",
    "3. Pick the node which is closest to the last node which was placed in set A and is not in set A; put this closest neighbouring node into set A.   \n",
    "4. Repeat step 3 until all nodes are in set A and B is empty."
   ]
  },
  {
   "cell_type": "markdown",
   "metadata": {},
   "source": [
    "## Code"
   ]
  },
  {
   "cell_type": "code",
   "execution_count": 9,
   "metadata": {},
   "outputs": [],
   "source": [
    "import numpy as np\n",
    "import pandas as pd\n",
    "import warnings\n",
    "import math\n",
    "import time\n",
    "warnings.filterwarnings('ignore')"
   ]
  },
  {
   "cell_type": "code",
   "execution_count": 15,
   "metadata": {},
   "outputs": [],
   "source": [
    "class NearestNeighbour:\n",
    "    def read_data(self, num):\n",
    "        df = pd.read_csv('../data.csv', header=None) \n",
    "        nodes = []\n",
    "        for i in range(len(df[0])):\n",
    "            sp = df[0][i].split(' ')\n",
    "            x = float(sp[1])\n",
    "            y = float(sp[2])\n",
    "            nodes.append([x, y])\n",
    "        nodes = nodes[:num]   \n",
    "        return nodes\n",
    "    \n",
    "    def closestpoint(self, point, route):\n",
    "        dmin = float(\"inf\")\n",
    "        for each in route:\n",
    "            dis = math.sqrt((int(point[0]) - int(each[0]))**2 + (int(point[1]) - int(each[1]))**2)\n",
    "            if dis < dmin:\n",
    "                dmin = dis\n",
    "                closest = each\n",
    "        return closest, dmin   \n",
    "    "
   ]
  },
  {
   "cell_type": "code",
   "execution_count": 40,
   "metadata": {},
   "outputs": [
    {
     "name": "stdout",
     "output_type": "stream",
     "text": [
      "Length: 24066.34823960918\n",
      "Time taken 0.28734779357910156\n"
     ]
    }
   ],
   "source": [
    "start = time.time()\n",
    "\n",
    "nn = NearestNeighbour()\n",
    "\n",
    "nodes = nn.read_data(500)\n",
    "point, *route = nodes\n",
    "path = [point]\n",
    "\n",
    "shortest_distance = 0\n",
    "while len(route) >= 1:\n",
    "    closest, dist = nn.closestpoint(path[-1], route)\n",
    "    path.append(closest)\n",
    "    route.remove(closest)\n",
    "    shortest_distance += dist\n",
    "    \n",
    "# Go back the the beginning when done.\n",
    "closest, dist = closestpoint(path[-1], [point])\n",
    "path.append(closest)\n",
    "shortest_distance += dist\n",
    "\n",
    "print(\"Length:\", shortest_distance)\n",
    "\n",
    "time_lapse = time.time() - start\n",
    "print('Time taken', time_lapse)"
   ]
  },
  {
   "cell_type": "code",
   "execution_count": null,
   "metadata": {},
   "outputs": [],
   "source": []
  }
 ],
 "metadata": {
  "kernelspec": {
   "display_name": "Python 3",
   "language": "python",
   "name": "python3"
  },
  "language_info": {
   "codemirror_mode": {
    "name": "ipython",
    "version": 3
   },
   "file_extension": ".py",
   "mimetype": "text/x-python",
   "name": "python",
   "nbconvert_exporter": "python",
   "pygments_lexer": "ipython3",
   "version": "3.5.3"
  }
 },
 "nbformat": 4,
 "nbformat_minor": 2
}
