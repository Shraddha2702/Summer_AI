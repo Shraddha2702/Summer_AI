{
 "cells": [
  {
   "cell_type": "markdown",
   "metadata": {},
   "source": [
    "# Ant Colony System: A Cooperative Learning Approach to the Traveling Salesman Problem"
   ]
  },
  {
   "cell_type": "markdown",
   "metadata": {},
   "source": [
    "**Points from the Papers**   \n",
    "- Ant Colony System (ACS) Distributed Algorithm applied to TSP.   \n",
    "- In ACS, a set of cooperating agents cooperate to find good solutions to TSPs.   \n",
    "- ACS outperforms other nature-inspired Algorithms such as simulated Annealing and evolutionary computation.   \n",
    "    \n",
    "**LOGIC**   \n",
    "- Real ants are capable of finding the shortest path from a food source to their nest without using visual cues.   \n",
    "- While walking, ants deposit pheromone on the ground and follow, in probability, pheromone deposited by other ants.   "
   ]
  },
  {
   "cell_type": "markdown",
   "metadata": {},
   "source": [
    "![How real Ants find the Shortest path](diagrams/img1.jpg)"
   ]
  },
  {
   "cell_type": "markdown",
   "metadata": {},
   "source": [
    "(a) Ants arrive at a decision point (marked by ?)  \n",
    "   \n",
    "(b) Some ants choose the upper path and some the lower path. The choice is random.   \n",
    "   \n",
    "(c) Since ants move at approximately a constant speed, the ants which choose the lower, shorter path reach the opposite decision point faster than those which choose the upper longer path.   \n",
    "   \n",
    "(d) Pheromone accumulates a higher rate on the shorter path. The number of dashed lines is approximately proportional to the amount of pheromone deposited by ants.   "
   ]
  },
  {
   "cell_type": "markdown",
   "metadata": {},
   "source": [
    "   "
   ]
  },
  {
   "cell_type": "markdown",
   "metadata": {},
   "source": [
    "### TSP Algorithm   \n",
    "Let V = {a, ..., z} be a set of Cities.   \n",
    "A = {(r, s): r, s belong to V} be edge Set.   \n",
    "Delta(r, s) = Delta(s, r) be a cost measured associated with edge (r,s) belong to A.   \n",
    "   \n",
    "The TSP Problem is the problem of finding a minimal cost closed tour that visits each city once. In the case cities r belong to V are given by their coordinates (x, y) and Delta(r, s) is the Eucledian Distance between r and s. Then we have a Eucledian TSP.   "
   ]
  },
  {
   "cell_type": "markdown",
   "metadata": {},
   "source": [
    "**Background**   \n",
    "- Ant System utilizes a graph Representation.   \n",
    "- In addition to the cost measure Delta(r, s), each edge (r,s) has also a desirability measure Tao(r, s) called Pheromone, which is updated at run time by artificial ants.    \n",
    "   \n",
    "Each Any generates a complete tour by choosing the cities according to a probabilistic state Transition rule; ants prefer to move to cities which are connected by short edges with a high amount of pheromone.    \n",
    "   \n",
    "Once all ants have completed their tours a global pheromone updating rule is applied, a fraction of the phermone evaporates on all edges (Hence, edges that are not refreshed become less desired), and then each ant deposits an amount of pheromone on edges which belong to its tour in proportion to how short its tour was (in other words Edges that belong to many short tours are the edges which recive the greater amount of pheromone.) The process is then iterated.  "
   ]
  },
  {
   "cell_type": "markdown",
   "metadata": {},
   "source": [
    "### ACS Algorithm  \n",
    "![ACS Algorithm](diagrams/img6.jpg)"
   ]
  },
  {
   "cell_type": "markdown",
   "metadata": {},
   "source": [
    "**State Transition Rule**   \n",
    "![State Transition Rule](diagrams/img5.jpg)"
   ]
  },
  {
   "cell_type": "markdown",
   "metadata": {},
   "source": [
    "Probability with which ant **k** chooses to move to the city s.Mutiply the Pheromone on edge (r, s) by the corresponding heuristic value. In this way, we favor the choice of edges which are shorter and which have greater amount of Pheromone.   "
   ]
  },
  {
   "cell_type": "markdown",
   "metadata": {},
   "source": [
    "**Global Updating Rule**   \n",
    "![Global Updating Rule](diagrams/img4.jpg)"
   ]
  },
  {
   "cell_type": "markdown",
   "metadata": {},
   "source": [
    "Alpha is a pheromone decay Parameter.   \n",
    "Lk is the length of the tour performed by ant k, and m is the number of ants.   \n",
    "Pheromone updating is intended to allocate a greater amount of pheromone to shorter tours. In a sense, this is similar to a reinforcement learning scheme.   \n",
    "   \n",
    "Pheromone deposited on the edges plays the role of a distributed long-term memory; this memory is not stored locally within the individual ants, but is distributed on the edges of the graph. This allows an indirect form of communication called stigmergy.   "
   ]
  },
  {
   "cell_type": "markdown",
   "metadata": {},
   "source": [
    "**Though Ant System was useful for discovering good or optimal solutions for small TSPs, the time required to find such results made it infeasible for larger problems. Three main changes to improve its performance which lead to the definition of the ACS.**"
   ]
  },
  {
   "cell_type": "markdown",
   "metadata": {},
   "source": [
    "**Three New Aspects of the ACS Algorithm** . \n",
    "1. The State Transition rule provides the direct way to balance between exploration of new edges and exploitation of a priori and accumulated knowledge about the problem   \n",
    "2. The Global updating rule is applied only to edges which belong to the best any tour   \n",
    "3. While ants construct a solution a local pheromone updating rule is appled. "
   ]
  },
  {
   "cell_type": "markdown",
   "metadata": {},
   "source": [
    "Informally,  \n",
    "- m ants are initially positioned on n cities chosen according to some initialization rule (random) .  \n",
    "- Each ants builds a tour by repeatedly applying a stochastic greedy rule. While constructing its tour, an ant also modifies the amount of pheromone on the visited edges by applying the local updating rule.   \n",
    "- Once all ants have terminated the tour, the amount of pheromone on edges is modified again.   \n",
    "- An edge with the higher amount of pheromone is a desired choice. "
   ]
  },
  {
   "cell_type": "markdown",
   "metadata": {},
   "source": [
    "**New State Transition Rule**   \n",
    "![State Transition Rule](diagrams/img3.jpg)"
   ]
  },
  {
   "cell_type": "markdown",
   "metadata": {},
   "source": [
    "where q is the random no uniformly distributed in [0, 1].   \n",
    "q0 is a parameter (0 < qo < 1) and S is a random variable.   \n",
    "   \n",
    "Every time an ant in city r has to choose a city s to move to, it samples a random number 0 <= q <= 1,    \n",
    "If q <= q0, then the best edge is chosen (exploitation) .  \n",
    "Else an edge is choosen according to (1) (Biased exploration) ."
   ]
  },
  {
   "cell_type": "markdown",
   "metadata": {},
   "source": [
    "**New Global Updating Rule**   \n",
    "![Global Updation Rule](diagrams/img2.jpg)"
   ]
  },
  {
   "cell_type": "markdown",
   "metadata": {},
   "source": [
    "Only those edges belonging to the globally best tour will recieve reinforement. "
   ]
  },
  {
   "cell_type": "markdown",
   "metadata": {},
   "source": [
    "**New Local Updating Rule**   \n",
    "![Local Updation Rule](diagrams/img7.jpg)"
   ]
  },
  {
   "cell_type": "markdown",
   "metadata": {},
   "source": [
    "  "
   ]
  },
  {
   "cell_type": "markdown",
   "metadata": {},
   "source": [
    "## Code"
   ]
  },
  {
   "cell_type": "code",
   "execution_count": 8,
   "metadata": {},
   "outputs": [],
   "source": [
    "import random as rn\n",
    "import numpy as np\n",
    "from numpy.random import choice as np_choice\n",
    "import random\n",
    "import pandas as pd\n",
    "import operator\n",
    "import time"
   ]
  },
  {
   "cell_type": "code",
   "execution_count": 15,
   "metadata": {},
   "outputs": [],
   "source": [
    "class AntColony:\n",
    "    def __init__(self, distances, n_ants, n_best, n_iterations, decay, alpha=1, beta=1):\n",
    "        \"\"\"\n",
    "        Args:\n",
    "            distances (2D numpy.array): Square matrix of distances. Diagonal is assumed to be np.inf.\n",
    "            n_ants (int): Number of ants running per iteration\n",
    "            n_best (int): Number of best ants who deposit pheromone\n",
    "            n_iteration (int): Number of iterations\n",
    "            decay (float): Rate it which pheromone decays. The pheromone value is multiplied by decay, so 0.95 will lead to decay, 0.5 to much faster decay.\n",
    "            alpha (int or float): exponenet on pheromone, higher alpha gives pheromone more weight. Default=1\n",
    "            beta (int or float): exponent on distance, higher beta give distance more weight. Default=1\n",
    "\n",
    "        Example:\n",
    "            ant_colony = AntColony(german_distances, 100, 20, 2000, 0.95, alpha=1, beta=2)          \n",
    "        \"\"\"\n",
    "        self.distances  = distances\n",
    "        self.pheromone = np.ones(self.distances.shape) / len(distances)\n",
    "        self.all_inds = range(len(distances))\n",
    "        self.n_ants = n_ants\n",
    "        self.n_best = n_best\n",
    "        self.n_iterations = n_iterations\n",
    "        self.decay = decay\n",
    "        self.alpha = alpha\n",
    "        self.beta = beta\n",
    "\n",
    "        \n",
    "    def run(self):\n",
    "        shortest_path = None\n",
    "        all_time_shortest_path = (\"placeholder\", np.inf)\n",
    "        for i in range(self.n_iterations):\n",
    "            all_paths = self.gen_all_paths()\n",
    "            self.spread_pheronome(all_paths, self.n_best, shortest_path=shortest_path)\n",
    "            shortest_path = min(all_paths, key=lambda x: x[1])\n",
    "            #print(\"Length of the Shortest path during \"+str(i)+\" iteration is \"+str(shortest_path[1]))\n",
    "            if shortest_path[1] < all_time_shortest_path[1]:\n",
    "                all_time_shortest_path = shortest_path            \n",
    "            self.pheromone * self.decay            \n",
    "        return all_time_shortest_path\n",
    "\n",
    "    def spread_pheronome(self, all_paths, n_best, shortest_path):\n",
    "        sorted_paths = sorted(all_paths, key=lambda x: x[1])\n",
    "        for path, dist in sorted_paths[:n_best]:\n",
    "            for move in path:\n",
    "                self.pheromone[move] += 1.0 / self.distances[move]\n",
    "\n",
    "    def gen_path_dist(self, path):\n",
    "        total_dist = 0\n",
    "        for ele in path:\n",
    "            total_dist += self.distances[ele]\n",
    "        return total_dist\n",
    "\n",
    "    def gen_all_paths(self):\n",
    "        all_paths = []\n",
    "        for i in range(self.n_ants):\n",
    "            path = self.gen_path(0)\n",
    "            all_paths.append((path, self.gen_path_dist(path)))\n",
    "        return all_paths\n",
    "\n",
    "    def gen_path(self, start):\n",
    "        path = []\n",
    "        visited = set()\n",
    "        visited.add(start)\n",
    "        prev = start\n",
    "        for i in range(len(self.distances) - 1):\n",
    "            move = self.pick_move(self.pheromone[prev], self.distances[prev], visited)\n",
    "            path.append((prev, move))\n",
    "            prev = move\n",
    "            visited.add(move)\n",
    "        path.append((prev, start)) # going back to where we started    \n",
    "        return path\n",
    "\n",
    "    def pick_move(self, pheromone, dist, visited):\n",
    "        pheromone = np.copy(pheromone)\n",
    "        pheromone[list(visited)] = 0\n",
    "\n",
    "        row = pheromone ** self.alpha * (( 1.0 / dist) ** self.beta)\n",
    "\n",
    "        norm_row = row / row.sum()\n",
    "        move = np_choice(self.all_inds, 1, p=norm_row)[0]\n",
    "        return move\n"
   ]
  },
  {
   "cell_type": "code",
   "execution_count": 16,
   "metadata": {},
   "outputs": [],
   "source": [
    "def read_data(count):\n",
    "        df = pd.read_csv('../data.csv', header=None) \n",
    "        nodes = []\n",
    "        for i in range(len(df[0])):\n",
    "            sp = df[0][i].split(' ')\n",
    "            x = float(sp[1])\n",
    "            y = float(sp[2])\n",
    "            nodes.append([x, y])\n",
    "        nodes = nodes[:count]   \n",
    "        return nodes\n",
    "    \n",
    "    \n",
    "def eucledian_distance(a, b):\n",
    "    ret = 0\n",
    "    for i in range(len(a)):\n",
    "        ret += (a[i] - b[i]) ** 2\n",
    "    return ret ** 0.5"
   ]
  },
  {
   "cell_type": "code",
   "execution_count": 20,
   "metadata": {},
   "outputs": [
    {
     "name": "stdout",
     "output_type": "stream",
     "text": [
      "Length of the Shortest path 568805.7504141958\n",
      "Time taken to find shortest path 163.5919485092163\n"
     ]
    }
   ],
   "source": [
    "start = time.time()\n",
    "\n",
    "beta  = 2\n",
    "q0 = 0.95\n",
    "alpha = 0.1\n",
    "peta = 0.1\n",
    "n_ants = 20 #No of Ants\n",
    "m_ants = 5\n",
    "iterations = 100\n",
    "\n",
    "nodes = read_data(500)\n",
    "\n",
    "arrs = [[np.inf]*len(nodes)]*len(nodes)\n",
    "\n",
    "for i in range(len(nodes)):\n",
    "    for j in range(i+1, len(nodes)):\n",
    "        arrs[i][j] = eucledian_distance(nodes[i], nodes[j])\n",
    "        arrs[j][i] = arrs[i][j]\n",
    "        \n",
    "distances = np.array(arrs)\n",
    "\n",
    "ant_colony = AntColony(distances, n_ants, m_ants, iterations, q0, alpha, beta)\n",
    "\n",
    "shortest_path = ant_colony.run()\n",
    "print('Length of the Shortest path', str(shortest_path[1]))\n",
    "\n",
    "time_lapse = time.time() - start\n",
    "print('Time taken to find shortest path', time_lapse)"
   ]
  },
  {
   "cell_type": "markdown",
   "metadata": {},
   "source": [
    "   "
   ]
  },
  {
   "cell_type": "markdown",
   "metadata": {},
   "source": [
    "    "
   ]
  },
  {
   "cell_type": "markdown",
   "metadata": {},
   "source": [
    "**REFERENCES**   \n",
    "1. https://github.com/Akavall/AntColonyOptimization\n",
    "2. http://people.idsia.ch/~luca/acs-ec97.pdf   \n",
    "3. https://en.wikipedia.org/wiki/Ant_colony_optimization_algorithms"
   ]
  },
  {
   "cell_type": "code",
   "execution_count": null,
   "metadata": {},
   "outputs": [],
   "source": []
  }
 ],
 "metadata": {
  "kernelspec": {
   "display_name": "Python 3",
   "language": "python",
   "name": "python3"
  },
  "language_info": {
   "codemirror_mode": {
    "name": "ipython",
    "version": 3
   },
   "file_extension": ".py",
   "mimetype": "text/x-python",
   "name": "python",
   "nbconvert_exporter": "python",
   "pygments_lexer": "ipython3",
   "version": "3.5.3"
  }
 },
 "nbformat": 4,
 "nbformat_minor": 2
}
