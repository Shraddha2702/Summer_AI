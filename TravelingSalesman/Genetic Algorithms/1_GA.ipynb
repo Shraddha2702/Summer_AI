{
 "cells": [
  {
   "cell_type": "markdown",
   "metadata": {},
   "source": [
    "# Genetic Algorithm for Traveling Salesman Problem"
   ]
  },
  {
   "cell_type": "markdown",
   "metadata": {},
   "source": [
    "![GA](ga.png)"
   ]
  },
  {
   "cell_type": "markdown",
   "metadata": {},
   "source": [
    "Few definitions rephrased in the context of the TSP:   \n",
    "- **Gene**: a City ([x, y] coordinate)  \n",
    "- **Individual/Chromosome**: a Single Route satisfying the conditions above   \n",
    "- **Population**: a collection of possible routes  \n",
    "- **Parents**: Two routes that are combined to create a new route   \n",
    "- **Mating pool**: a collection of parents that are used to create our new population (for next generation of routes)      \n",
    "- **Fitness**: a function that tells us how good each route is   \n",
    "- **Mutation**: a way to introduce variation in our population by randomly swapping two cities in a route   \n",
    "- **Elitism**: a way to carry the best individuals into the next generation   "
   ]
  },
  {
   "cell_type": "markdown",
   "metadata": {},
   "source": [
    "**Steps:**\n",
    "1. Create the population (Collection of possible routes) \n",
    "2. Determine Fitness   \n",
    "3. Select the mating pool (For the next routes)  \n",
    "4. Breed, Mutate, and Repeat   "
   ]
  },
  {
   "cell_type": "markdown",
   "metadata": {},
   "source": [
    "## CODE:"
   ]
  },
  {
   "cell_type": "code",
   "execution_count": 1,
   "metadata": {},
   "outputs": [],
   "source": [
    "import numpy as np \n",
    "import pandas as pd\n",
    "import random \n",
    "import operator\n",
    "import matplotlib.pyplot as plt"
   ]
  },
  {
   "cell_type": "markdown",
   "metadata": {},
   "source": [
    "City class will allow us to create and handle our cities. These are simply our (x, y) coordinates."
   ]
  },
  {
   "cell_type": "code",
   "execution_count": 2,
   "metadata": {},
   "outputs": [],
   "source": [
    "class City:\n",
    "    def __init__(self, x, y):\n",
    "        \"\"\"\n",
    "        Class City used to create Nodes of the Graph\n",
    "        \"\"\"\n",
    "        self.x = x\n",
    "        self.y = y\n",
    "    \n",
    "    def distance(self, city):\n",
    "        \"\"\"\n",
    "        Eucledian distance is considered for demo\n",
    "        \"\"\"\n",
    "        xd = abs(self.x - city.x)\n",
    "        yd = abs(self.y - city.y)\n",
    "        distance = np.sqrt((xd ** 2) + (yd ** 2))\n",
    "        return distance\n",
    "    \n",
    "    def __repr__(self):\n",
    "        \"\"\"\n",
    "        this method is for output\n",
    "        \"\"\"\n",
    "        return \"(\" + str(self.x) + \",\" + str(self.y) + \")\"\n",
    "    "
   ]
  },
  {
   "cell_type": "markdown",
   "metadata": {},
   "source": [
    "The fitness is the inverse of the route distance. The larger the fitness score, the lesser the route distance. "
   ]
  },
  {
   "cell_type": "code",
   "execution_count": 3,
   "metadata": {},
   "outputs": [],
   "source": [
    "class Fitness:\n",
    "    def __init__(self, route):\n",
    "        \"\"\"\n",
    "        Fitness measure is used for selection of the \n",
    "        fittest route i.e. Shortest path\n",
    "        \"\"\"\n",
    "        self.route = route\n",
    "        self.distance = 0\n",
    "        self.fitness = 0.0\n",
    "        \n",
    "    def routeDistance(self):\n",
    "        \"\"\"\n",
    "        Method calculates the distance of the path\n",
    "        given during the run\n",
    "        \"\"\"\n",
    "        if self.distance == 0:\n",
    "            pathDistance = 0\n",
    "            for i in range(0, len(self.route)):\n",
    "                fromCity = self.route[i]\n",
    "                toCity = None\n",
    "                if (i + 1) < len(self.route):\n",
    "                    toCity = self.route[i + 1]\n",
    "                else:\n",
    "                    toCity = self.route[0]\n",
    "                pathDistance += fromCity.distance(toCity)\n",
    "            self.distance = pathDistance\n",
    "        return self.distance\n",
    "    \n",
    "    def routeFitness(self):\n",
    "        \"\"\"\n",
    "        Depending on the distance, \n",
    "        a fitness score is assigned to each route\n",
    "        \"\"\"\n",
    "        if(self.fitness == 0):\n",
    "            self.fitness = 1/float(self.routeDistance())\n",
    "        return self.fitness"
   ]
  },
  {
   "cell_type": "markdown",
   "metadata": {},
   "source": [
    "**Create the population**   \n",
    "To make our initial population, we need a way to create a function that produces routes. To create an individual, we randomly select the order in which we visit each city."
   ]
  },
  {
   "cell_type": "code",
   "execution_count": 4,
   "metadata": {},
   "outputs": [],
   "source": [
    "#Create the population\n",
    "def createRoute(cityList):\n",
    "    \"\"\"\n",
    "    It randomly generates a route.\n",
    "    Used during initialization i.e. Step 1\n",
    "    \"\"\"\n",
    "    route = random.sample(cityList, len(cityList))\n",
    "    return route"
   ]
  },
  {
   "cell_type": "markdown",
   "metadata": {},
   "source": [
    "The above method produces one individual but we want a full population, so let's do that in our next function. This is as simple as looping through *createRoute* function until we have as many routes as we want for our population."
   ]
  },
  {
   "cell_type": "markdown",
   "metadata": {},
   "source": [
    "**PS: We only have to use these functions to create the initial population. Subsequent generations will be produced through breeding and mutation.**"
   ]
  },
  {
   "cell_type": "code",
   "execution_count": 5,
   "metadata": {},
   "outputs": [],
   "source": [
    "def initialPopulation(popSize, cityList):\n",
    "    \"\"\"\n",
    "    Generates population of initial routes\n",
    "    Used during initialization\n",
    "    \"\"\"\n",
    "    population = []\n",
    "\n",
    "    for i in range(0, popSize):\n",
    "        population.append(createRoute(cityList))\n",
    "    return population"
   ]
  },
  {
   "cell_type": "markdown",
   "metadata": {},
   "source": [
    "**Determine Fitness**   \n",
    "To simulate our \"survival of the fittest\", we can make use of *Fitness* to rank each individual (route) in the population. Our output will be order list with the route ids and each associated fitness score."
   ]
  },
  {
   "cell_type": "code",
   "execution_count": 6,
   "metadata": {},
   "outputs": [],
   "source": [
    "#Determine Fitness\n",
    "def rankRoutes(population):\n",
    "    \"\"\"\n",
    "    Calculates fitness of the generated routes\n",
    "    \"\"\"\n",
    "    fitnessResults = {}\n",
    "    for i in range(0,len(population)):\n",
    "        fitnessResults[i] = Fitness(population[i]).routeFitness()\n",
    "    return sorted(fitnessResults.items(), key = operator.itemgetter(1), reverse = True)"
   ]
  },
  {
   "cell_type": "markdown",
   "metadata": {},
   "source": [
    "**Select the Mating pool**   \n",
    "This Step is used to create the next generation. We will be using the concept of **Elitism**. With elitism, the best performing individuals from the population will automatically carry over to the next generation, ensuring that the most successful individuals persist."
   ]
  },
  {
   "cell_type": "markdown",
   "metadata": {},
   "source": [
    "Step 1: We'll use the Output from the *rankRoutes* to determine which routes to select in our *Selection* function. Ultimately, the *selection* function returns a list of route ids, which we can use to create the mating pool in the *matingPool* function."
   ]
  },
  {
   "cell_type": "code",
   "execution_count": 7,
   "metadata": {},
   "outputs": [],
   "source": [
    "#Select Mating pool\n",
    "def selection(popRanked, eliteSize):\n",
    "    \"\"\"\n",
    "    Based on the fitness score,\n",
    "    a route is selected. More the Fitness, less the path distance\n",
    "    \"\"\"\n",
    "    selectionResults = []\n",
    "    df = pd.DataFrame(np.array(popRanked), columns=[\"Index\",\"Fitness\"])\n",
    "    df['cum_sum'] = df.Fitness.cumsum()\n",
    "    df['cum_perc'] = 100*df.cum_sum/df.Fitness.sum()\n",
    "    \n",
    "    for i in range(0, eliteSize):\n",
    "        selectionResults.append(popRanked[i][0])\n",
    "    for i in range(0, len(popRanked) - eliteSize):\n",
    "        pick = 100*random.random()\n",
    "        for i in range(0, len(popRanked)):\n",
    "            if pick <= df.iat[i,3]:\n",
    "                selectionResults.append(popRanked[i][0])\n",
    "                break\n",
    "    return selectionResults"
   ]
  },
  {
   "cell_type": "markdown",
   "metadata": {},
   "source": [
    "Now, that we have the IDs of the routes that will make up our mating pool from the selection function, we can create the mating pool. We're simply extracting the selected individuals from our population."
   ]
  },
  {
   "cell_type": "code",
   "execution_count": 8,
   "metadata": {},
   "outputs": [],
   "source": [
    "def matingPool(population, selectionResults):\n",
    "    \"\"\"\n",
    "    Extracting the best routes out of the population\n",
    "    \"\"\"\n",
    "    matingpool = []\n",
    "    for i in range(0, len(selectionResults)):\n",
    "        index = selectionResults[i]\n",
    "        matingpool.append(population[index])\n",
    "    return matingpool"
   ]
  },
  {
   "cell_type": "markdown",
   "metadata": {},
   "source": [
    "**Breed**   \n",
    "With our mating pool created, we can create the next generation in a process called crossover. TSP is unique in that we need to include all locations exactly once time. To abide by this rule, we can use a special breeding function called ordered crossover. In it, we randomly select a subset of the first parent string and then fill the remainder of the route with the genes from the second parent in the order in which they appear, without duplicating any genes in the selected subset from the first parent. "
   ]
  },
  {
   "cell_type": "code",
   "execution_count": 9,
   "metadata": {},
   "outputs": [],
   "source": [
    "def breed(parent1, parent2):\n",
    "    \"\"\"\n",
    "    CrossOver Algorithm applied to create\n",
    "    near route by Breeding the fittest existing paths\n",
    "    \"\"\"\n",
    "    child = []\n",
    "    childP1 = []\n",
    "    childP2 = []\n",
    "    \n",
    "    geneA = int(random.random() * len(parent1))\n",
    "    geneB = int(random.random() * len(parent1))\n",
    "    \n",
    "    startGene = min(geneA, geneB)\n",
    "    endGene = max(geneA, geneB)\n",
    "\n",
    "    for i in range(startGene, endGene):\n",
    "        childP1.append(parent1[i])\n",
    "        \n",
    "    childP2 = [item for item in parent2 if item not in childP1]\n",
    "\n",
    "    child = childP1 + childP2\n",
    "    return child"
   ]
  },
  {
   "cell_type": "markdown",
   "metadata": {},
   "source": [
    "Next, we'll generalize this to create our offspring population. We use elitism to retain the best routes from the current population. Then we use the *breed* function to fill out the rest of the next generation."
   ]
  },
  {
   "cell_type": "code",
   "execution_count": 10,
   "metadata": {},
   "outputs": [],
   "source": [
    "def breedPopulation(matingpool, eliteSize):\n",
    "    \"\"\"\n",
    "    Merge the previous two function, to give out new offSprings\n",
    "    \"\"\"\n",
    "    children = []\n",
    "    length = len(matingpool) - eliteSize\n",
    "    pool = random.sample(matingpool, len(matingpool))\n",
    "\n",
    "    for i in range(0,eliteSize):\n",
    "        children.append(matingpool[i])\n",
    "    \n",
    "    for i in range(0, length):\n",
    "        child = breed(pool[i], pool[len(matingpool)-i-1])\n",
    "        children.append(child)\n",
    "    return children"
   ]
  },
  {
   "cell_type": "markdown",
   "metadata": {},
   "source": [
    "**Mutate**   \n",
    "Mutation serves an important function in GA, as it helps to avoid local convergence by introducing novel routes that will allow us to explore other parts of the solution space. Similar to crossover, the TSP has a special consideration when it comes to mutation.   \n",
    "   \n",
    "Since we need to abide by our rules, we can't drop cities. Instead, we'll use swap mutation. This means that, with specified low probability, two cities will swap places in our route. We'll do this for our individual in our function."
   ]
  },
  {
   "cell_type": "code",
   "execution_count": 11,
   "metadata": {},
   "outputs": [],
   "source": [
    "def mutate(individual, mutationRate):\n",
    "    \"\"\"\n",
    "    Mutation done.\n",
    "    It randomly flips the numbers in order to change the path\n",
    "    The probability of flip is extremely low in most cases\n",
    "    \"\"\"\n",
    "    for swapped in range(len(individual)):\n",
    "        if(random.random() < mutationRate):\n",
    "            swapWith = int(random.random() * len(individual))\n",
    "            \n",
    "            city1 = individual[swapped]\n",
    "            city2 = individual[swapWith]\n",
    "            \n",
    "            individual[swapped] = city2\n",
    "            individual[swapWith] = city1\n",
    "    return individual"
   ]
  },
  {
   "cell_type": "markdown",
   "metadata": {},
   "source": [
    "Next, we extend the mutate function to run through the next population."
   ]
  },
  {
   "cell_type": "code",
   "execution_count": 12,
   "metadata": {},
   "outputs": [],
   "source": [
    "def mutatePopulation(population, mutationRate):\n",
    "    \"\"\"\n",
    "    Make the Mutate function run through the population\n",
    "    \"\"\"\n",
    "    mutatedPop = []\n",
    "    \n",
    "    for ind in range(0, len(population)):\n",
    "        mutatedInd = mutate(population[ind], mutationRate)\n",
    "        mutatedPop.append(mutatedInd)\n",
    "    return mutatedPop"
   ]
  },
  {
   "cell_type": "markdown",
   "metadata": {},
   "source": [
    "To put it all together, first we rank the routes in the current generation using **rankRoutes**. We then determine our potential parents by running the selection function, which allows us to create the mating pool using the **matingPool** function. Finally, we then create our new generation using the **breedPopulation** function and then applying mutation using the **mutatePopulation** funciton."
   ]
  },
  {
   "cell_type": "code",
   "execution_count": 13,
   "metadata": {},
   "outputs": [],
   "source": [
    "def nextGeneration(currentGen, eliteSize, mutationRate):\n",
    "    \"\"\"\n",
    "    Creating next generation of OffSprings\n",
    "    \"\"\"\n",
    "    popRanked = rankRoutes(currentGen)\n",
    "    selectionResults = selection(popRanked, eliteSize)\n",
    "    matingpool = matingPool(currentGen, selectionResults)\n",
    "    children = breedPopulation(matingpool, eliteSize)\n",
    "    nextGeneration = mutatePopulation(children, mutationRate)\n",
    "    return nextGeneration"
   ]
  },
  {
   "cell_type": "code",
   "execution_count": 14,
   "metadata": {},
   "outputs": [],
   "source": [
    "def geneticAlgorithm(population, popSize, eliteSize, mutationRate, generations):\n",
    "    \"\"\"\n",
    "    Putting together all the function so far to run as one\n",
    "    \"\"\"\n",
    "    pop = initialPopulation(popSize, population)\n",
    "    print(\"Initial distance: \" + str(1 / rankRoutes(pop)[0][1]))\n",
    "    \n",
    "    for i in range(0, generations):\n",
    "        pop = nextGeneration(pop, eliteSize, mutationRate)\n",
    "    \n",
    "    print(\"Final distance: \" + str(1 / rankRoutes(pop)[0][1]))\n",
    "    bestRouteIndex = rankRoutes(pop)[0][0]\n",
    "    bestRoute = pop[bestRouteIndex]\n",
    "    return bestRoute\n"
   ]
  },
  {
   "cell_type": "markdown",
   "metadata": {},
   "source": [
    "With everything in place, we now import the list of cities with x and y coordinates."
   ]
  },
  {
   "cell_type": "code",
   "execution_count": 15,
   "metadata": {},
   "outputs": [],
   "source": [
    "df = pd.read_csv('../data.csv', header=None)\n",
    "cityList = []\n",
    "for i in range(len(df[0])):\n",
    "    xy = df[0][i].split(' ')\n",
    "    cityList.append(City(x=float(xy[1]), y=float(xy[2])))\n",
    "cityList = cityList[:500]"
   ]
  },
  {
   "cell_type": "code",
   "execution_count": 16,
   "metadata": {},
   "outputs": [],
   "source": [
    "def geneticAlgorithmPlot(population, popSize, eliteSize, mutationRate, generations):\n",
    "    pop = initialPopulation(popSize, population)\n",
    "    progress = []\n",
    "    progress.append(1 / rankRoutes(pop)[0][1])\n",
    "    \n",
    "    for i in range(0, generations):\n",
    "        pop = nextGeneration(pop, eliteSize, mutationRate)\n",
    "        progress.append(1 / rankRoutes(pop)[0][1])\n",
    "    \n",
    "    plt.plot(progress)\n",
    "    plt.ylabel('Distance')\n",
    "    plt.xlabel('Generation')\n",
    "    plt.show()"
   ]
  },
  {
   "cell_type": "code",
   "execution_count": 22,
   "metadata": {},
   "outputs": [
    {
     "data": {
      "image/png": "[encoded data removed]",
      "text/plain": [
       "<Figure size 432x288 with 1 Axes>"
      ]
     },
     "metadata": {
      "needs_background": "light"
     },
     "output_type": "display_data"
    }
   ],
   "source": [
    "geneticAlgorithmPlot(population=cityList, popSize=100, \\\n",
    "                     eliteSize=30, \\\n",
    "                     mutationRate=0.01, generations=30)"
   ]
  },
  {
   "cell_type": "code",
   "execution_count": 26,
   "metadata": {},
   "outputs": [
    {
     "name": "stdout",
     "output_type": "stream",
     "text": [
      "Initial distance: 713671.2221987181\n",
      "Final distance: 657333.4256455986\n"
     ]
    }
   ],
   "source": [
    "bri = geneticAlgorithm(population=cityList, popSize=500, \\\n",
    "                     eliteSize=30, \\\n",
    "                     mutationRate=0.01, generations=30)\n"
   ]
  },
  {
   "cell_type": "markdown",
   "metadata": {},
   "source": [
    "Sources:   \n",
    "1. https://towardsdatascience.com/evolution-of-a-salesman-a-complete-genetic-algorithm-tutorial-for-python-6fe5d2b3ca35"
   ]
  },
  {
   "cell_type": "code",
   "execution_count": null,
   "metadata": {},
   "outputs": [],
   "source": []
  }
 ],
 "metadata": {
  "kernelspec": {
   "display_name": "Python 3",
   "language": "python",
   "name": "python3"
  },
  "language_info": {
   "codemirror_mode": {
    "name": "ipython",
    "version": 3
   },
   "file_extension": ".py",
   "mimetype": "text/x-python",
   "name": "python",
   "nbconvert_exporter": "python",
   "pygments_lexer": "ipython3",
   "version": "3.5.3"
  }
 },
 "nbformat": 4,
 "nbformat_minor": 2
}
